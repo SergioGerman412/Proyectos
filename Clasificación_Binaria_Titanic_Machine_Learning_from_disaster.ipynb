{
  "nbformat": 4,
  "nbformat_minor": 0,
  "metadata": {
    "colab": {
      "provenance": [],
      "collapsed_sections": [
        "LrIHmWXHYgbD",
        "Sqp6Jvq8YlsT",
        "hLhtuRHvQNUz",
        "pwg70uNXGT1P",
        "8YdvWTppG9p1",
        "GRYmIeT6HenK",
        "xfUluqqyIdLZ",
        "RM09j1OnI3B5",
        "IOFy2bdmJNcM",
        "yLr_1LURLn_D",
        "MdAVBj2wN_vA",
        "CAhL9js9MJss",
        "4dTljq59NMP4"
      ]
    },
    "kernelspec": {
      "name": "python3",
      "display_name": "Python 3"
    },
    "language_info": {
      "name": "python"
    }
  },
  "cells": [
    {
      "cell_type": "markdown",
      "source": [
        "**Proyecto personal**"
      ],
      "metadata": {
        "id": "0ptrzPDqXBdL"
      }
    },
    {
      "cell_type": "markdown",
      "source": [
        "**Metodología: KDD PROCESS**\n",
        "\n",
        "El término KDD es una forma de referirnos a la obtención del conocimiento a partir de\n",
        "una colección de datos."
      ],
      "metadata": {
        "id": "uoO419yfXhZT"
      }
    },
    {
      "cell_type": "markdown",
      "source": [
        "<img src=\"https://www.researchgate.net/profile/Ily-Ahmad-Sabri/publication/334784343/figure/fig1/AS:786618394886146@1564555848887/Knowledge-Discovery-Database-KDD-Process.png\" height=\"400\">"
      ],
      "metadata": {
        "id": "_s9NEI6mW6j3"
      }
    },
    {
      "cell_type": "markdown",
      "source": [
        "#**Selección de Datos**"
      ],
      "metadata": {
        "id": "LrIHmWXHYgbD"
      }
    },
    {
      "cell_type": "markdown",
      "source": [
        "**Presentación del caso**"
      ],
      "metadata": {
        "id": "S_LdWJm9HNWZ"
      }
    },
    {
      "cell_type": "markdown",
      "source": [
        "<img src=\"https://storage.googleapis.com/kaggle-media/welcome/screen1.png\" alt=\"Simply Easy Learning\" width=\"1000\" \n",
        "         height=\"300\" >"
      ],
      "metadata": {
        "id": "9L6qhAPmVW5d"
      }
    },
    {
      "cell_type": "markdown",
      "source": [
        "Los datos provienen de una [competencia de Kaggle](https://www.kaggle.com/c/titanic) \"Titanic - Machine Learning from disaster\", comprende una data de entrenamiento, una data de prueba y una data real para evaluar el porcentaje de acierto.\n",
        "\n",
        "Las columnas (variables) son las siguientes:\n",
        "\n",
        "1.   **Sobrevivio:** Si la persona murió se registra 0, si sobrevivió registra 1\n",
        "2.   **Pclass:** Status socioeconómico (1st = Alto, 2nd=Medio, 3rd=Bajo)\n",
        "3.   **Name:** Nombre del pasajero\n",
        "4.   **Genero:** Male (hombre) o Female (Mujer)\n",
        "5.   **Edad:** Edad del pasajero en números\n",
        "6.   **Hermanos:** N° hermanos que viajaron junto al pasajero (desde 0)\n",
        "7.   **Padres_hijos:** N° padres y/o hijos que viajaron junto al pasajero (desde 0)\n",
        "8.   **Ticket:** La clase de ticket que sacó el pasajeroTarifa: El costo del ticket que se compró para el pasaje\n",
        "9.   **Cabin:** El número de cabina o habitación que ocupó durante el viaje\n",
        "10.  **P_embarque:** Lugar donde abordó (C=Cherbourg, Q=Queenstown, S=Southampton) \n",
        "\n",
        "\n",
        "\n",
        "\n",
        "\n",
        "\n"
      ],
      "metadata": {
        "id": "rZ-1J86HHTwP"
      }
    },
    {
      "cell_type": "code",
      "source": [
        "#importar las librerías\n",
        "import pandas as pd\n",
        "import numpy as np\n",
        "import seaborn as sns\n",
        "import matplotlib.pyplot as plt\n",
        "import os\n",
        "import random #Una librería para manejar números aleatorios\n",
        "import missingno as ms #Librería muy útil para ver los valores nulos"
      ],
      "metadata": {
        "id": "-1C4Xblas1EB"
      },
      "execution_count": null,
      "outputs": []
    },
    {
      "cell_type": "code",
      "source": [
        "#Importamos con pandas los archivos necesarios\n",
        "data_titanic = pd.read_csv('https://raw.githubusercontent.com/SergioGerman412/Datasets/main/competencia-titanic.csv', index_col=\"IdPasajero\")\n",
        "data_titanic"
      ],
      "metadata": {
        "colab": {
          "base_uri": "https://localhost:8080/",
          "height": 455
        },
        "id": "fK0RILTkHQL_",
        "outputId": "2c8e0e58-57c9-4b58-c532-bf50050ff236"
      },
      "execution_count": null,
      "outputs": [
        {
          "output_type": "execute_result",
          "data": {
            "text/plain": [
              "            Unnamed: 0  Sobrevivio  Pclass  \\\n",
              "IdPasajero                                   \n",
              "1                    0           0       3   \n",
              "2                    1           1       1   \n",
              "3                    2           1       3   \n",
              "4                    3           1       1   \n",
              "5                    4           0       3   \n",
              "...                ...         ...     ...   \n",
              "887                886           0       2   \n",
              "888                887           1       1   \n",
              "889                888           0       3   \n",
              "890                889           1       1   \n",
              "891                890           0       3   \n",
              "\n",
              "                                                         Name  Genero  Edad  \\\n",
              "IdPasajero                                                                    \n",
              "1                                     Braund, Mr. Owen Harris    male  22.0   \n",
              "2           Cumings, Mrs. John Bradley (Florence Briggs Th...  female  38.0   \n",
              "3                                      Heikkinen, Miss. Laina  female  26.0   \n",
              "4                Futrelle, Mrs. Jacques Heath (Lily May Peel)  female  35.0   \n",
              "5                                    Allen, Mr. William Henry    male  35.0   \n",
              "...                                                       ...     ...   ...   \n",
              "887                                     Montvila, Rev. Juozas    male  27.0   \n",
              "888                              Graham, Miss. Margaret Edith  female  19.0   \n",
              "889                  Johnston, Miss. Catherine Helen \"Carrie\"  female   NaN   \n",
              "890                                     Behr, Mr. Karl Howell    male  26.0   \n",
              "891                                       Dooley, Mr. Patrick    male  32.0   \n",
              "\n",
              "            Hermanos  Padres_hijos            Ticket   Tarifa Cabin P_embarque  \n",
              "IdPasajero                                                                      \n",
              "1                  1             0         A/5 21171   7.2500   NaN          S  \n",
              "2                  1             0          PC 17599  71.2833   C85          C  \n",
              "3                  0             0  STON/O2. 3101282   7.9250   NaN          S  \n",
              "4                  1             0            113803  53.1000  C123          S  \n",
              "5                  0             0            373450   8.0500   NaN          S  \n",
              "...              ...           ...               ...      ...   ...        ...  \n",
              "887                0             0            211536  13.0000   NaN          S  \n",
              "888                0             0            112053  30.0000   B42          S  \n",
              "889                1             2        W./C. 6607  23.4500   NaN          S  \n",
              "890                0             0            111369  30.0000  C148          C  \n",
              "891                0             0            370376   7.7500   NaN          Q  \n",
              "\n",
              "[891 rows x 12 columns]"
            ],
            "text/html": [
              "\n",
              "  <div id=\"df-9f4d4ad9-9e60-4df1-9674-9dd0b47ab3d4\">\n",
              "    <div class=\"colab-df-container\">\n",
              "      <div>\n",
              "<style scoped>\n",
              "    .dataframe tbody tr th:only-of-type {\n",
              "        vertical-align: middle;\n",
              "    }\n",
              "\n",
              "    .dataframe tbody tr th {\n",
              "        vertical-align: top;\n",
              "    }\n",
              "\n",
              "    .dataframe thead th {\n",
              "        text-align: right;\n",
              "    }\n",
              "</style>\n",
              "<table border=\"1\" class=\"dataframe\">\n",
              "  <thead>\n",
              "    <tr style=\"text-align: right;\">\n",
              "      <th></th>\n",
              "      <th>Unnamed: 0</th>\n",
              "      <th>Sobrevivio</th>\n",
              "      <th>Pclass</th>\n",
              "      <th>Name</th>\n",
              "      <th>Genero</th>\n",
              "      <th>Edad</th>\n",
              "      <th>Hermanos</th>\n",
              "      <th>Padres_hijos</th>\n",
              "      <th>Ticket</th>\n",
              "      <th>Tarifa</th>\n",
              "      <th>Cabin</th>\n",
              "      <th>P_embarque</th>\n",
              "    </tr>\n",
              "    <tr>\n",
              "      <th>IdPasajero</th>\n",
              "      <th></th>\n",
              "      <th></th>\n",
              "      <th></th>\n",
              "      <th></th>\n",
              "      <th></th>\n",
              "      <th></th>\n",
              "      <th></th>\n",
              "      <th></th>\n",
              "      <th></th>\n",
              "      <th></th>\n",
              "      <th></th>\n",
              "      <th></th>\n",
              "    </tr>\n",
              "  </thead>\n",
              "  <tbody>\n",
              "    <tr>\n",
              "      <th>1</th>\n",
              "      <td>0</td>\n",
              "      <td>0</td>\n",
              "      <td>3</td>\n",
              "      <td>Braund, Mr. Owen Harris</td>\n",
              "      <td>male</td>\n",
              "      <td>22.0</td>\n",
              "      <td>1</td>\n",
              "      <td>0</td>\n",
              "      <td>A/5 21171</td>\n",
              "      <td>7.2500</td>\n",
              "      <td>NaN</td>\n",
              "      <td>S</td>\n",
              "    </tr>\n",
              "    <tr>\n",
              "      <th>2</th>\n",
              "      <td>1</td>\n",
              "      <td>1</td>\n",
              "      <td>1</td>\n",
              "      <td>Cumings, Mrs. John Bradley (Florence Briggs Th...</td>\n",
              "      <td>female</td>\n",
              "      <td>38.0</td>\n",
              "      <td>1</td>\n",
              "      <td>0</td>\n",
              "      <td>PC 17599</td>\n",
              "      <td>71.2833</td>\n",
              "      <td>C85</td>\n",
              "      <td>C</td>\n",
              "    </tr>\n",
              "    <tr>\n",
              "      <th>3</th>\n",
              "      <td>2</td>\n",
              "      <td>1</td>\n",
              "      <td>3</td>\n",
              "      <td>Heikkinen, Miss. Laina</td>\n",
              "      <td>female</td>\n",
              "      <td>26.0</td>\n",
              "      <td>0</td>\n",
              "      <td>0</td>\n",
              "      <td>STON/O2. 3101282</td>\n",
              "      <td>7.9250</td>\n",
              "      <td>NaN</td>\n",
              "      <td>S</td>\n",
              "    </tr>\n",
              "    <tr>\n",
              "      <th>4</th>\n",
              "      <td>3</td>\n",
              "      <td>1</td>\n",
              "      <td>1</td>\n",
              "      <td>Futrelle, Mrs. Jacques Heath (Lily May Peel)</td>\n",
              "      <td>female</td>\n",
              "      <td>35.0</td>\n",
              "      <td>1</td>\n",
              "      <td>0</td>\n",
              "      <td>113803</td>\n",
              "      <td>53.1000</td>\n",
              "      <td>C123</td>\n",
              "      <td>S</td>\n",
              "    </tr>\n",
              "    <tr>\n",
              "      <th>5</th>\n",
              "      <td>4</td>\n",
              "      <td>0</td>\n",
              "      <td>3</td>\n",
              "      <td>Allen, Mr. William Henry</td>\n",
              "      <td>male</td>\n",
              "      <td>35.0</td>\n",
              "      <td>0</td>\n",
              "      <td>0</td>\n",
              "      <td>373450</td>\n",
              "      <td>8.0500</td>\n",
              "      <td>NaN</td>\n",
              "      <td>S</td>\n",
              "    </tr>\n",
              "    <tr>\n",
              "      <th>...</th>\n",
              "      <td>...</td>\n",
              "      <td>...</td>\n",
              "      <td>...</td>\n",
              "      <td>...</td>\n",
              "      <td>...</td>\n",
              "      <td>...</td>\n",
              "      <td>...</td>\n",
              "      <td>...</td>\n",
              "      <td>...</td>\n",
              "      <td>...</td>\n",
              "      <td>...</td>\n",
              "      <td>...</td>\n",
              "    </tr>\n",
              "    <tr>\n",
              "      <th>887</th>\n",
              "      <td>886</td>\n",
              "      <td>0</td>\n",
              "      <td>2</td>\n",
              "      <td>Montvila, Rev. Juozas</td>\n",
              "      <td>male</td>\n",
              "      <td>27.0</td>\n",
              "      <td>0</td>\n",
              "      <td>0</td>\n",
              "      <td>211536</td>\n",
              "      <td>13.0000</td>\n",
              "      <td>NaN</td>\n",
              "      <td>S</td>\n",
              "    </tr>\n",
              "    <tr>\n",
              "      <th>888</th>\n",
              "      <td>887</td>\n",
              "      <td>1</td>\n",
              "      <td>1</td>\n",
              "      <td>Graham, Miss. Margaret Edith</td>\n",
              "      <td>female</td>\n",
              "      <td>19.0</td>\n",
              "      <td>0</td>\n",
              "      <td>0</td>\n",
              "      <td>112053</td>\n",
              "      <td>30.0000</td>\n",
              "      <td>B42</td>\n",
              "      <td>S</td>\n",
              "    </tr>\n",
              "    <tr>\n",
              "      <th>889</th>\n",
              "      <td>888</td>\n",
              "      <td>0</td>\n",
              "      <td>3</td>\n",
              "      <td>Johnston, Miss. Catherine Helen \"Carrie\"</td>\n",
              "      <td>female</td>\n",
              "      <td>NaN</td>\n",
              "      <td>1</td>\n",
              "      <td>2</td>\n",
              "      <td>W./C. 6607</td>\n",
              "      <td>23.4500</td>\n",
              "      <td>NaN</td>\n",
              "      <td>S</td>\n",
              "    </tr>\n",
              "    <tr>\n",
              "      <th>890</th>\n",
              "      <td>889</td>\n",
              "      <td>1</td>\n",
              "      <td>1</td>\n",
              "      <td>Behr, Mr. Karl Howell</td>\n",
              "      <td>male</td>\n",
              "      <td>26.0</td>\n",
              "      <td>0</td>\n",
              "      <td>0</td>\n",
              "      <td>111369</td>\n",
              "      <td>30.0000</td>\n",
              "      <td>C148</td>\n",
              "      <td>C</td>\n",
              "    </tr>\n",
              "    <tr>\n",
              "      <th>891</th>\n",
              "      <td>890</td>\n",
              "      <td>0</td>\n",
              "      <td>3</td>\n",
              "      <td>Dooley, Mr. Patrick</td>\n",
              "      <td>male</td>\n",
              "      <td>32.0</td>\n",
              "      <td>0</td>\n",
              "      <td>0</td>\n",
              "      <td>370376</td>\n",
              "      <td>7.7500</td>\n",
              "      <td>NaN</td>\n",
              "      <td>Q</td>\n",
              "    </tr>\n",
              "  </tbody>\n",
              "</table>\n",
              "<p>891 rows × 12 columns</p>\n",
              "</div>\n",
              "      <button class=\"colab-df-convert\" onclick=\"convertToInteractive('df-9f4d4ad9-9e60-4df1-9674-9dd0b47ab3d4')\"\n",
              "              title=\"Convert this dataframe to an interactive table.\"\n",
              "              style=\"display:none;\">\n",
              "        \n",
              "  <svg xmlns=\"http://www.w3.org/2000/svg\" height=\"24px\"viewBox=\"0 0 24 24\"\n",
              "       width=\"24px\">\n",
              "    <path d=\"M0 0h24v24H0V0z\" fill=\"none\"/>\n",
              "    <path d=\"M18.56 5.44l.94 2.06.94-2.06 2.06-.94-2.06-.94-.94-2.06-.94 2.06-2.06.94zm-11 1L8.5 8.5l.94-2.06 2.06-.94-2.06-.94L8.5 2.5l-.94 2.06-2.06.94zm10 10l.94 2.06.94-2.06 2.06-.94-2.06-.94-.94-2.06-.94 2.06-2.06.94z\"/><path d=\"M17.41 7.96l-1.37-1.37c-.4-.4-.92-.59-1.43-.59-.52 0-1.04.2-1.43.59L10.3 9.45l-7.72 7.72c-.78.78-.78 2.05 0 2.83L4 21.41c.39.39.9.59 1.41.59.51 0 1.02-.2 1.41-.59l7.78-7.78 2.81-2.81c.8-.78.8-2.07 0-2.86zM5.41 20L4 18.59l7.72-7.72 1.47 1.35L5.41 20z\"/>\n",
              "  </svg>\n",
              "      </button>\n",
              "      \n",
              "  <style>\n",
              "    .colab-df-container {\n",
              "      display:flex;\n",
              "      flex-wrap:wrap;\n",
              "      gap: 12px;\n",
              "    }\n",
              "\n",
              "    .colab-df-convert {\n",
              "      background-color: #E8F0FE;\n",
              "      border: none;\n",
              "      border-radius: 50%;\n",
              "      cursor: pointer;\n",
              "      display: none;\n",
              "      fill: #1967D2;\n",
              "      height: 32px;\n",
              "      padding: 0 0 0 0;\n",
              "      width: 32px;\n",
              "    }\n",
              "\n",
              "    .colab-df-convert:hover {\n",
              "      background-color: #E2EBFA;\n",
              "      box-shadow: 0px 1px 2px rgba(60, 64, 67, 0.3), 0px 1px 3px 1px rgba(60, 64, 67, 0.15);\n",
              "      fill: #174EA6;\n",
              "    }\n",
              "\n",
              "    [theme=dark] .colab-df-convert {\n",
              "      background-color: #3B4455;\n",
              "      fill: #D2E3FC;\n",
              "    }\n",
              "\n",
              "    [theme=dark] .colab-df-convert:hover {\n",
              "      background-color: #434B5C;\n",
              "      box-shadow: 0px 1px 3px 1px rgba(0, 0, 0, 0.15);\n",
              "      filter: drop-shadow(0px 1px 2px rgba(0, 0, 0, 0.3));\n",
              "      fill: #FFFFFF;\n",
              "    }\n",
              "  </style>\n",
              "\n",
              "      <script>\n",
              "        const buttonEl =\n",
              "          document.querySelector('#df-9f4d4ad9-9e60-4df1-9674-9dd0b47ab3d4 button.colab-df-convert');\n",
              "        buttonEl.style.display =\n",
              "          google.colab.kernel.accessAllowed ? 'block' : 'none';\n",
              "\n",
              "        async function convertToInteractive(key) {\n",
              "          const element = document.querySelector('#df-9f4d4ad9-9e60-4df1-9674-9dd0b47ab3d4');\n",
              "          const dataTable =\n",
              "            await google.colab.kernel.invokeFunction('convertToInteractive',\n",
              "                                                     [key], {});\n",
              "          if (!dataTable) return;\n",
              "\n",
              "          const docLinkHtml = 'Like what you see? Visit the ' +\n",
              "            '<a target=\"_blank\" href=https://colab.research.google.com/notebooks/data_table.ipynb>data table notebook</a>'\n",
              "            + ' to learn more about interactive tables.';\n",
              "          element.innerHTML = '';\n",
              "          dataTable['output_type'] = 'display_data';\n",
              "          await google.colab.output.renderOutput(dataTable, element);\n",
              "          const docLink = document.createElement('div');\n",
              "          docLink.innerHTML = docLinkHtml;\n",
              "          element.appendChild(docLink);\n",
              "        }\n",
              "      </script>\n",
              "    </div>\n",
              "  </div>\n",
              "  "
            ]
          },
          "metadata": {},
          "execution_count": 2
        }
      ]
    },
    {
      "cell_type": "code",
      "source": [
        "data_titanic.drop(['Unnamed: 0'], axis = 1,inplace=True) "
      ],
      "metadata": {
        "id": "xIuckdxN0VIe"
      },
      "execution_count": null,
      "outputs": []
    },
    {
      "cell_type": "code",
      "source": [
        "#Mostramos los primeros registros \n",
        "data_titanic.head()"
      ],
      "metadata": {
        "colab": {
          "base_uri": "https://localhost:8080/",
          "height": 237
        },
        "id": "FjYmI5-BZs8n",
        "outputId": "796a8677-8938-4b29-ead7-3a84579aefbb"
      },
      "execution_count": null,
      "outputs": [
        {
          "output_type": "execute_result",
          "data": {
            "text/plain": [
              "            Sobrevivio  Pclass  \\\n",
              "IdPasajero                       \n",
              "1                    0       3   \n",
              "2                    1       1   \n",
              "3                    1       3   \n",
              "4                    1       1   \n",
              "5                    0       3   \n",
              "\n",
              "                                                         Name  Genero  Edad  \\\n",
              "IdPasajero                                                                    \n",
              "1                                     Braund, Mr. Owen Harris    male  22.0   \n",
              "2           Cumings, Mrs. John Bradley (Florence Briggs Th...  female  38.0   \n",
              "3                                      Heikkinen, Miss. Laina  female  26.0   \n",
              "4                Futrelle, Mrs. Jacques Heath (Lily May Peel)  female  35.0   \n",
              "5                                    Allen, Mr. William Henry    male  35.0   \n",
              "\n",
              "            Hermanos  Padres_hijos            Ticket   Tarifa Cabin P_embarque  \n",
              "IdPasajero                                                                      \n",
              "1                  1             0         A/5 21171   7.2500   NaN          S  \n",
              "2                  1             0          PC 17599  71.2833   C85          C  \n",
              "3                  0             0  STON/O2. 3101282   7.9250   NaN          S  \n",
              "4                  1             0            113803  53.1000  C123          S  \n",
              "5                  0             0            373450   8.0500   NaN          S  "
            ],
            "text/html": [
              "\n",
              "  <div id=\"df-9b78761f-4c6b-4e9c-84e9-a928382a22f0\">\n",
              "    <div class=\"colab-df-container\">\n",
              "      <div>\n",
              "<style scoped>\n",
              "    .dataframe tbody tr th:only-of-type {\n",
              "        vertical-align: middle;\n",
              "    }\n",
              "\n",
              "    .dataframe tbody tr th {\n",
              "        vertical-align: top;\n",
              "    }\n",
              "\n",
              "    .dataframe thead th {\n",
              "        text-align: right;\n",
              "    }\n",
              "</style>\n",
              "<table border=\"1\" class=\"dataframe\">\n",
              "  <thead>\n",
              "    <tr style=\"text-align: right;\">\n",
              "      <th></th>\n",
              "      <th>Sobrevivio</th>\n",
              "      <th>Pclass</th>\n",
              "      <th>Name</th>\n",
              "      <th>Genero</th>\n",
              "      <th>Edad</th>\n",
              "      <th>Hermanos</th>\n",
              "      <th>Padres_hijos</th>\n",
              "      <th>Ticket</th>\n",
              "      <th>Tarifa</th>\n",
              "      <th>Cabin</th>\n",
              "      <th>P_embarque</th>\n",
              "    </tr>\n",
              "    <tr>\n",
              "      <th>IdPasajero</th>\n",
              "      <th></th>\n",
              "      <th></th>\n",
              "      <th></th>\n",
              "      <th></th>\n",
              "      <th></th>\n",
              "      <th></th>\n",
              "      <th></th>\n",
              "      <th></th>\n",
              "      <th></th>\n",
              "      <th></th>\n",
              "      <th></th>\n",
              "    </tr>\n",
              "  </thead>\n",
              "  <tbody>\n",
              "    <tr>\n",
              "      <th>1</th>\n",
              "      <td>0</td>\n",
              "      <td>3</td>\n",
              "      <td>Braund, Mr. Owen Harris</td>\n",
              "      <td>male</td>\n",
              "      <td>22.0</td>\n",
              "      <td>1</td>\n",
              "      <td>0</td>\n",
              "      <td>A/5 21171</td>\n",
              "      <td>7.2500</td>\n",
              "      <td>NaN</td>\n",
              "      <td>S</td>\n",
              "    </tr>\n",
              "    <tr>\n",
              "      <th>2</th>\n",
              "      <td>1</td>\n",
              "      <td>1</td>\n",
              "      <td>Cumings, Mrs. John Bradley (Florence Briggs Th...</td>\n",
              "      <td>female</td>\n",
              "      <td>38.0</td>\n",
              "      <td>1</td>\n",
              "      <td>0</td>\n",
              "      <td>PC 17599</td>\n",
              "      <td>71.2833</td>\n",
              "      <td>C85</td>\n",
              "      <td>C</td>\n",
              "    </tr>\n",
              "    <tr>\n",
              "      <th>3</th>\n",
              "      <td>1</td>\n",
              "      <td>3</td>\n",
              "      <td>Heikkinen, Miss. Laina</td>\n",
              "      <td>female</td>\n",
              "      <td>26.0</td>\n",
              "      <td>0</td>\n",
              "      <td>0</td>\n",
              "      <td>STON/O2. 3101282</td>\n",
              "      <td>7.9250</td>\n",
              "      <td>NaN</td>\n",
              "      <td>S</td>\n",
              "    </tr>\n",
              "    <tr>\n",
              "      <th>4</th>\n",
              "      <td>1</td>\n",
              "      <td>1</td>\n",
              "      <td>Futrelle, Mrs. Jacques Heath (Lily May Peel)</td>\n",
              "      <td>female</td>\n",
              "      <td>35.0</td>\n",
              "      <td>1</td>\n",
              "      <td>0</td>\n",
              "      <td>113803</td>\n",
              "      <td>53.1000</td>\n",
              "      <td>C123</td>\n",
              "      <td>S</td>\n",
              "    </tr>\n",
              "    <tr>\n",
              "      <th>5</th>\n",
              "      <td>0</td>\n",
              "      <td>3</td>\n",
              "      <td>Allen, Mr. William Henry</td>\n",
              "      <td>male</td>\n",
              "      <td>35.0</td>\n",
              "      <td>0</td>\n",
              "      <td>0</td>\n",
              "      <td>373450</td>\n",
              "      <td>8.0500</td>\n",
              "      <td>NaN</td>\n",
              "      <td>S</td>\n",
              "    </tr>\n",
              "  </tbody>\n",
              "</table>\n",
              "</div>\n",
              "      <button class=\"colab-df-convert\" onclick=\"convertToInteractive('df-9b78761f-4c6b-4e9c-84e9-a928382a22f0')\"\n",
              "              title=\"Convert this dataframe to an interactive table.\"\n",
              "              style=\"display:none;\">\n",
              "        \n",
              "  <svg xmlns=\"http://www.w3.org/2000/svg\" height=\"24px\"viewBox=\"0 0 24 24\"\n",
              "       width=\"24px\">\n",
              "    <path d=\"M0 0h24v24H0V0z\" fill=\"none\"/>\n",
              "    <path d=\"M18.56 5.44l.94 2.06.94-2.06 2.06-.94-2.06-.94-.94-2.06-.94 2.06-2.06.94zm-11 1L8.5 8.5l.94-2.06 2.06-.94-2.06-.94L8.5 2.5l-.94 2.06-2.06.94zm10 10l.94 2.06.94-2.06 2.06-.94-2.06-.94-.94-2.06-.94 2.06-2.06.94z\"/><path d=\"M17.41 7.96l-1.37-1.37c-.4-.4-.92-.59-1.43-.59-.52 0-1.04.2-1.43.59L10.3 9.45l-7.72 7.72c-.78.78-.78 2.05 0 2.83L4 21.41c.39.39.9.59 1.41.59.51 0 1.02-.2 1.41-.59l7.78-7.78 2.81-2.81c.8-.78.8-2.07 0-2.86zM5.41 20L4 18.59l7.72-7.72 1.47 1.35L5.41 20z\"/>\n",
              "  </svg>\n",
              "      </button>\n",
              "      \n",
              "  <style>\n",
              "    .colab-df-container {\n",
              "      display:flex;\n",
              "      flex-wrap:wrap;\n",
              "      gap: 12px;\n",
              "    }\n",
              "\n",
              "    .colab-df-convert {\n",
              "      background-color: #E8F0FE;\n",
              "      border: none;\n",
              "      border-radius: 50%;\n",
              "      cursor: pointer;\n",
              "      display: none;\n",
              "      fill: #1967D2;\n",
              "      height: 32px;\n",
              "      padding: 0 0 0 0;\n",
              "      width: 32px;\n",
              "    }\n",
              "\n",
              "    .colab-df-convert:hover {\n",
              "      background-color: #E2EBFA;\n",
              "      box-shadow: 0px 1px 2px rgba(60, 64, 67, 0.3), 0px 1px 3px 1px rgba(60, 64, 67, 0.15);\n",
              "      fill: #174EA6;\n",
              "    }\n",
              "\n",
              "    [theme=dark] .colab-df-convert {\n",
              "      background-color: #3B4455;\n",
              "      fill: #D2E3FC;\n",
              "    }\n",
              "\n",
              "    [theme=dark] .colab-df-convert:hover {\n",
              "      background-color: #434B5C;\n",
              "      box-shadow: 0px 1px 3px 1px rgba(0, 0, 0, 0.15);\n",
              "      filter: drop-shadow(0px 1px 2px rgba(0, 0, 0, 0.3));\n",
              "      fill: #FFFFFF;\n",
              "    }\n",
              "  </style>\n",
              "\n",
              "      <script>\n",
              "        const buttonEl =\n",
              "          document.querySelector('#df-9b78761f-4c6b-4e9c-84e9-a928382a22f0 button.colab-df-convert');\n",
              "        buttonEl.style.display =\n",
              "          google.colab.kernel.accessAllowed ? 'block' : 'none';\n",
              "\n",
              "        async function convertToInteractive(key) {\n",
              "          const element = document.querySelector('#df-9b78761f-4c6b-4e9c-84e9-a928382a22f0');\n",
              "          const dataTable =\n",
              "            await google.colab.kernel.invokeFunction('convertToInteractive',\n",
              "                                                     [key], {});\n",
              "          if (!dataTable) return;\n",
              "\n",
              "          const docLinkHtml = 'Like what you see? Visit the ' +\n",
              "            '<a target=\"_blank\" href=https://colab.research.google.com/notebooks/data_table.ipynb>data table notebook</a>'\n",
              "            + ' to learn more about interactive tables.';\n",
              "          element.innerHTML = '';\n",
              "          dataTable['output_type'] = 'display_data';\n",
              "          await google.colab.output.renderOutput(dataTable, element);\n",
              "          const docLink = document.createElement('div');\n",
              "          docLink.innerHTML = docLinkHtml;\n",
              "          element.appendChild(docLink);\n",
              "        }\n",
              "      </script>\n",
              "    </div>\n",
              "  </div>\n",
              "  "
            ]
          },
          "metadata": {},
          "execution_count": 4
        }
      ]
    },
    {
      "cell_type": "code",
      "source": [
        "#Mostramos los principales indicadores de las variables cuantitativas \n",
        "data_titanic.describe()"
      ],
      "metadata": {
        "colab": {
          "base_uri": "https://localhost:8080/",
          "height": 300
        },
        "id": "LKKZbr7DgDL_",
        "outputId": "47886d5a-4b31-4de3-a023-dab1f3e66bb2"
      },
      "execution_count": null,
      "outputs": [
        {
          "output_type": "execute_result",
          "data": {
            "text/plain": [
              "       Sobrevivio      Pclass        Edad    Hermanos  Padres_hijos  \\\n",
              "count  891.000000  891.000000  714.000000  891.000000    891.000000   \n",
              "mean     0.383838    2.308642   29.699118    0.523008      0.381594   \n",
              "std      0.486592    0.836071   14.526497    1.102743      0.806057   \n",
              "min      0.000000    1.000000    0.420000    0.000000      0.000000   \n",
              "25%      0.000000    2.000000   20.125000    0.000000      0.000000   \n",
              "50%      0.000000    3.000000   28.000000    0.000000      0.000000   \n",
              "75%      1.000000    3.000000   38.000000    1.000000      0.000000   \n",
              "max      1.000000    3.000000   80.000000    8.000000      6.000000   \n",
              "\n",
              "           Tarifa  \n",
              "count  891.000000  \n",
              "mean    32.204208  \n",
              "std     49.693429  \n",
              "min      0.000000  \n",
              "25%      7.910400  \n",
              "50%     14.454200  \n",
              "75%     31.000000  \n",
              "max    512.329200  "
            ],
            "text/html": [
              "\n",
              "  <div id=\"df-d5c56c80-ae09-4fe2-bb62-0fff6d817932\">\n",
              "    <div class=\"colab-df-container\">\n",
              "      <div>\n",
              "<style scoped>\n",
              "    .dataframe tbody tr th:only-of-type {\n",
              "        vertical-align: middle;\n",
              "    }\n",
              "\n",
              "    .dataframe tbody tr th {\n",
              "        vertical-align: top;\n",
              "    }\n",
              "\n",
              "    .dataframe thead th {\n",
              "        text-align: right;\n",
              "    }\n",
              "</style>\n",
              "<table border=\"1\" class=\"dataframe\">\n",
              "  <thead>\n",
              "    <tr style=\"text-align: right;\">\n",
              "      <th></th>\n",
              "      <th>Sobrevivio</th>\n",
              "      <th>Pclass</th>\n",
              "      <th>Edad</th>\n",
              "      <th>Hermanos</th>\n",
              "      <th>Padres_hijos</th>\n",
              "      <th>Tarifa</th>\n",
              "    </tr>\n",
              "  </thead>\n",
              "  <tbody>\n",
              "    <tr>\n",
              "      <th>count</th>\n",
              "      <td>891.000000</td>\n",
              "      <td>891.000000</td>\n",
              "      <td>714.000000</td>\n",
              "      <td>891.000000</td>\n",
              "      <td>891.000000</td>\n",
              "      <td>891.000000</td>\n",
              "    </tr>\n",
              "    <tr>\n",
              "      <th>mean</th>\n",
              "      <td>0.383838</td>\n",
              "      <td>2.308642</td>\n",
              "      <td>29.699118</td>\n",
              "      <td>0.523008</td>\n",
              "      <td>0.381594</td>\n",
              "      <td>32.204208</td>\n",
              "    </tr>\n",
              "    <tr>\n",
              "      <th>std</th>\n",
              "      <td>0.486592</td>\n",
              "      <td>0.836071</td>\n",
              "      <td>14.526497</td>\n",
              "      <td>1.102743</td>\n",
              "      <td>0.806057</td>\n",
              "      <td>49.693429</td>\n",
              "    </tr>\n",
              "    <tr>\n",
              "      <th>min</th>\n",
              "      <td>0.000000</td>\n",
              "      <td>1.000000</td>\n",
              "      <td>0.420000</td>\n",
              "      <td>0.000000</td>\n",
              "      <td>0.000000</td>\n",
              "      <td>0.000000</td>\n",
              "    </tr>\n",
              "    <tr>\n",
              "      <th>25%</th>\n",
              "      <td>0.000000</td>\n",
              "      <td>2.000000</td>\n",
              "      <td>20.125000</td>\n",
              "      <td>0.000000</td>\n",
              "      <td>0.000000</td>\n",
              "      <td>7.910400</td>\n",
              "    </tr>\n",
              "    <tr>\n",
              "      <th>50%</th>\n",
              "      <td>0.000000</td>\n",
              "      <td>3.000000</td>\n",
              "      <td>28.000000</td>\n",
              "      <td>0.000000</td>\n",
              "      <td>0.000000</td>\n",
              "      <td>14.454200</td>\n",
              "    </tr>\n",
              "    <tr>\n",
              "      <th>75%</th>\n",
              "      <td>1.000000</td>\n",
              "      <td>3.000000</td>\n",
              "      <td>38.000000</td>\n",
              "      <td>1.000000</td>\n",
              "      <td>0.000000</td>\n",
              "      <td>31.000000</td>\n",
              "    </tr>\n",
              "    <tr>\n",
              "      <th>max</th>\n",
              "      <td>1.000000</td>\n",
              "      <td>3.000000</td>\n",
              "      <td>80.000000</td>\n",
              "      <td>8.000000</td>\n",
              "      <td>6.000000</td>\n",
              "      <td>512.329200</td>\n",
              "    </tr>\n",
              "  </tbody>\n",
              "</table>\n",
              "</div>\n",
              "      <button class=\"colab-df-convert\" onclick=\"convertToInteractive('df-d5c56c80-ae09-4fe2-bb62-0fff6d817932')\"\n",
              "              title=\"Convert this dataframe to an interactive table.\"\n",
              "              style=\"display:none;\">\n",
              "        \n",
              "  <svg xmlns=\"http://www.w3.org/2000/svg\" height=\"24px\"viewBox=\"0 0 24 24\"\n",
              "       width=\"24px\">\n",
              "    <path d=\"M0 0h24v24H0V0z\" fill=\"none\"/>\n",
              "    <path d=\"M18.56 5.44l.94 2.06.94-2.06 2.06-.94-2.06-.94-.94-2.06-.94 2.06-2.06.94zm-11 1L8.5 8.5l.94-2.06 2.06-.94-2.06-.94L8.5 2.5l-.94 2.06-2.06.94zm10 10l.94 2.06.94-2.06 2.06-.94-2.06-.94-.94-2.06-.94 2.06-2.06.94z\"/><path d=\"M17.41 7.96l-1.37-1.37c-.4-.4-.92-.59-1.43-.59-.52 0-1.04.2-1.43.59L10.3 9.45l-7.72 7.72c-.78.78-.78 2.05 0 2.83L4 21.41c.39.39.9.59 1.41.59.51 0 1.02-.2 1.41-.59l7.78-7.78 2.81-2.81c.8-.78.8-2.07 0-2.86zM5.41 20L4 18.59l7.72-7.72 1.47 1.35L5.41 20z\"/>\n",
              "  </svg>\n",
              "      </button>\n",
              "      \n",
              "  <style>\n",
              "    .colab-df-container {\n",
              "      display:flex;\n",
              "      flex-wrap:wrap;\n",
              "      gap: 12px;\n",
              "    }\n",
              "\n",
              "    .colab-df-convert {\n",
              "      background-color: #E8F0FE;\n",
              "      border: none;\n",
              "      border-radius: 50%;\n",
              "      cursor: pointer;\n",
              "      display: none;\n",
              "      fill: #1967D2;\n",
              "      height: 32px;\n",
              "      padding: 0 0 0 0;\n",
              "      width: 32px;\n",
              "    }\n",
              "\n",
              "    .colab-df-convert:hover {\n",
              "      background-color: #E2EBFA;\n",
              "      box-shadow: 0px 1px 2px rgba(60, 64, 67, 0.3), 0px 1px 3px 1px rgba(60, 64, 67, 0.15);\n",
              "      fill: #174EA6;\n",
              "    }\n",
              "\n",
              "    [theme=dark] .colab-df-convert {\n",
              "      background-color: #3B4455;\n",
              "      fill: #D2E3FC;\n",
              "    }\n",
              "\n",
              "    [theme=dark] .colab-df-convert:hover {\n",
              "      background-color: #434B5C;\n",
              "      box-shadow: 0px 1px 3px 1px rgba(0, 0, 0, 0.15);\n",
              "      filter: drop-shadow(0px 1px 2px rgba(0, 0, 0, 0.3));\n",
              "      fill: #FFFFFF;\n",
              "    }\n",
              "  </style>\n",
              "\n",
              "      <script>\n",
              "        const buttonEl =\n",
              "          document.querySelector('#df-d5c56c80-ae09-4fe2-bb62-0fff6d817932 button.colab-df-convert');\n",
              "        buttonEl.style.display =\n",
              "          google.colab.kernel.accessAllowed ? 'block' : 'none';\n",
              "\n",
              "        async function convertToInteractive(key) {\n",
              "          const element = document.querySelector('#df-d5c56c80-ae09-4fe2-bb62-0fff6d817932');\n",
              "          const dataTable =\n",
              "            await google.colab.kernel.invokeFunction('convertToInteractive',\n",
              "                                                     [key], {});\n",
              "          if (!dataTable) return;\n",
              "\n",
              "          const docLinkHtml = 'Like what you see? Visit the ' +\n",
              "            '<a target=\"_blank\" href=https://colab.research.google.com/notebooks/data_table.ipynb>data table notebook</a>'\n",
              "            + ' to learn more about interactive tables.';\n",
              "          element.innerHTML = '';\n",
              "          dataTable['output_type'] = 'display_data';\n",
              "          await google.colab.output.renderOutput(dataTable, element);\n",
              "          const docLink = document.createElement('div');\n",
              "          docLink.innerHTML = docLinkHtml;\n",
              "          element.appendChild(docLink);\n",
              "        }\n",
              "      </script>\n",
              "    </div>\n",
              "  </div>\n",
              "  "
            ]
          },
          "metadata": {},
          "execution_count": 5
        }
      ]
    },
    {
      "cell_type": "markdown",
      "source": [
        "En base al describe:\n",
        "\n",
        "*   Se deduce que hay datos nulos en la columna Edad (174)\n",
        "*   La edad media de los pasajeros es de 29.7 años y la desviación estándar es 14.53\n",
        "*   La edad mínima encontrada en el dataset es de aprox 0.42 y máxima de 80 años.\n",
        "\n",
        "\n",
        "\n",
        "\n",
        "\n",
        "\n"
      ],
      "metadata": {
        "id": "dCJ7r6tngTEG"
      }
    },
    {
      "cell_type": "code",
      "source": [
        "#visualizamos si se encuentra balanceado el dataset\n",
        "data_titanic['Sobrevivio'].value_counts()"
      ],
      "metadata": {
        "colab": {
          "base_uri": "https://localhost:8080/"
        },
        "id": "nRYUjOudhX6H",
        "outputId": "f0c4586d-5f00-4d46-b499-46b481754db9"
      },
      "execution_count": null,
      "outputs": [
        {
          "output_type": "execute_result",
          "data": {
            "text/plain": [
              "0    549\n",
              "1    342\n",
              "Name: Sobrevivio, dtype: int64"
            ]
          },
          "metadata": {},
          "execution_count": 6
        }
      ]
    },
    {
      "cell_type": "code",
      "source": [
        "plt.figure(figsize=(4,3))\n",
        "sns.countplot(data = data_titanic, x=\"Sobrevivio\")"
      ],
      "metadata": {
        "colab": {
          "base_uri": "https://localhost:8080/",
          "height": 243
        },
        "id": "CYAC_xQKiBf-",
        "outputId": "5c7111a0-33fe-4242-9ff8-63b8f32e3a97"
      },
      "execution_count": null,
      "outputs": [
        {
          "output_type": "execute_result",
          "data": {
            "text/plain": [
              "<Axes: xlabel='Sobrevivio', ylabel='count'>"
            ]
          },
          "metadata": {},
          "execution_count": 7
        },
        {
          "output_type": "display_data",
          "data": {
            "text/plain": [
              "<Figure size 288x216 with 1 Axes>"
            ],
            "image/png": "[encoded data removed]"
          },
          "metadata": {
            "needs_background": "light"
          }
        }
      ]
    },
    {
      "cell_type": "markdown",
      "source": [
        "Revisando la variable Sobrevivio, se verifica que hay una data desbalanceada lo que podría originar un sesgo del modelo al contar con muchos menos datos con target = 1 (sobrevivió)."
      ],
      "metadata": {
        "id": "PiQT4dA0jKHW"
      }
    },
    {
      "cell_type": "code",
      "source": [
        "#gráfica para visualizar el género\n",
        "import matplotlib.pyplot as plt\n",
        "\n",
        "Genero = [len(data_titanic.query(\"Genero=='male'\")),len(data_titanic.query(\"Genero=='female'\")) ]\n",
        "Datos = [\"masculino\",\"femenino\"]\n",
        "plt.pie(Genero, labels=Datos, autopct=\"%0.1f %%\")\n",
        "plt.axis(\"equal\")\n",
        "plt.show()\n"
      ],
      "metadata": {
        "colab": {
          "base_uri": "https://localhost:8080/",
          "height": 248
        },
        "id": "cAUjv1MLjZPK",
        "outputId": "91cedbf1-18af-4cba-dd7c-02378d51086e"
      },
      "execution_count": null,
      "outputs": [
        {
          "output_type": "display_data",
          "data": {
            "text/plain": [
              "<Figure size 432x288 with 1 Axes>"
            ],
            "image/png": "[encoded data removed]"
          },
          "metadata": {}
        }
      ]
    },
    {
      "cell_type": "code",
      "source": [
        "#gráfica para visualizar la pclass\n",
        "cantidad =  [len(data_titanic.query(\"Pclass==1\")),len(data_titanic.query(\"Pclass==2\")), len(data_titanic.query(\"Pclass==3\")) ]\n",
        "Status =  [\"1 - Alto\",\"2 - Medio\", \"3 - Bajo\"]\n",
        "plt.barh(Status, cantidad)\n",
        "for index, valor in enumerate(cantidad):\n",
        "  plt.text(valor, index, valor, color = \"black\", fontweight = \"bold\")"
      ],
      "metadata": {
        "colab": {
          "base_uri": "https://localhost:8080/",
          "height": 265
        },
        "id": "gJuUhW1Ioea9",
        "outputId": "41fa2280-39e8-461a-b4e3-1363302b25d0"
      },
      "execution_count": null,
      "outputs": [
        {
          "output_type": "display_data",
          "data": {
            "text/plain": [
              "<Figure size 432x288 with 1 Axes>"
            ],
            "image/png": "[encoded data removed]"
          },
          "metadata": {
            "needs_background": "light"
          }
        }
      ]
    },
    {
      "cell_type": "markdown",
      "source": [
        "Eliminaremos las variables que no son significativas para predecir si una persona sobrevive o no dentro del Titanic:\n",
        "\n",
        "**Nombre:** No identificamos ningún valor a partir del nombre para predecir la supervivencia del pasajero\n",
        "\n",
        "**Ticket:** Si bien se podría pensar que el ticket nos daría algún criterio, en este caso no se ha encontrado una relación directa.\n",
        "\n",
        "**Cabin:** La misma razón quel Ticket."
      ],
      "metadata": {
        "id": "ymHCD5w4sR8G"
      }
    },
    {
      "cell_type": "code",
      "source": [
        "#eliminar columnas innecesarias\n",
        "data_titanic.drop(['Name','Ticket','Cabin'], axis = 1,inplace=True) #con el parámetro inplace=True se actualiza o sobreescribe el dataset"
      ],
      "metadata": {
        "id": "CdEOxeuQ3Zhh"
      },
      "execution_count": null,
      "outputs": []
    },
    {
      "cell_type": "markdown",
      "source": [
        "# **PreProcesamiento**"
      ],
      "metadata": {
        "id": "Sqp6Jvq8YlsT"
      }
    },
    {
      "cell_type": "markdown",
      "source": [
        "## Datos Nulos y Datos Duplicados"
      ],
      "metadata": {
        "id": "hLhtuRHvQNUz"
      }
    },
    {
      "cell_type": "markdown",
      "source": [
        "Grafica nuestro dataframe para ver las columnas que tienen datos vacíos(representados por los espacios en blanco).\n",
        "\n",
        "Se recomienda su uso cuando el dataset no cuenta con muchas columnas"
      ],
      "metadata": {
        "id": "CDsDlxvQPSAs"
      }
    },
    {
      "cell_type": "code",
      "source": [
        "#A través del método .matrix de la librería missingno -renombrada como ms- obtenemos la gráfica de los nulos\n",
        "ms.matrix(data_titanic)"
      ],
      "metadata": {
        "id": "Kpez4sHOsoE4",
        "colab": {
          "base_uri": "https://localhost:8080/",
          "height": 693
        },
        "outputId": "214f630f-7c12-490c-b2f7-9b36241f1e0e"
      },
      "execution_count": null,
      "outputs": [
        {
          "output_type": "execute_result",
          "data": {
            "text/plain": [
              "<Axes: >"
            ]
          },
          "metadata": {},
          "execution_count": 11
        },
        {
          "output_type": "display_data",
          "data": {
            "text/plain": [
              "<Figure size 1800x720 with 2 Axes>"
            ],
            "image/png": "[encoded data removed]"
          },
          "metadata": {
            "needs_background": "light"
          }
        }
      ]
    },
    {
      "cell_type": "markdown",
      "source": [
        "Se aprecian datos nulos en Edad y P_embarque"
      ],
      "metadata": {
        "id": "YAr-xUNEPms0"
      }
    },
    {
      "cell_type": "code",
      "source": [
        "#Elaboramos un bucle (repeticiones) para evaluar en cada columna isna y sum\n",
        "for col in data_titanic.loc[:, data_titanic.isna().any()].columns:                                     \n",
        "  print('En la columna',col,'hay',data_titanic[col].isna().sum(),'valores nulos')"
      ],
      "metadata": {
        "colab": {
          "base_uri": "https://localhost:8080/"
        },
        "id": "b4t88a8cP4NT",
        "outputId": "6384629a-eac5-4649-9611-ac1b7b6c2532"
      },
      "execution_count": null,
      "outputs": [
        {
          "output_type": "stream",
          "name": "stdout",
          "text": [
            "En la columna Edad hay 177 valores nulos\n",
            "En la columna P_embarque hay 2 valores nulos\n"
          ]
        }
      ]
    },
    {
      "cell_type": "code",
      "source": [
        "data_titanic.isnull().sum()"
      ],
      "metadata": {
        "colab": {
          "base_uri": "https://localhost:8080/"
        },
        "id": "rris-hIZQBHD",
        "outputId": "5336b1c1-6c4c-4c6d-b855-288ad37100a0"
      },
      "execution_count": null,
      "outputs": [
        {
          "output_type": "execute_result",
          "data": {
            "text/plain": [
              "Sobrevivio        0\n",
              "Pclass            0\n",
              "Genero            0\n",
              "Edad            177\n",
              "Hermanos          0\n",
              "Padres_hijos      0\n",
              "Tarifa            0\n",
              "P_embarque        2\n",
              "dtype: int64"
            ]
          },
          "metadata": {},
          "execution_count": 13
        }
      ]
    },
    {
      "cell_type": "code",
      "source": [
        "#Crearemos una función para llenar de manera random dentro del intervalo de la media y desviación estándar\n",
        "def llena_nan_con_media_y_std(df,col='Edad'):\n",
        "    nan = df[df[col].isna()] #el dataset de los que tienen la columna (col = 'Edad' ) con valores nulos\n",
        "    min_ = df[col].mean() - df[col].std() #El comienzo de nuestro intervalo, la media menos la desv. estandar.\n",
        "    max_ = df[col].mean() + df[col].std() #El final de nuestro intervalo, la media más la desv. estandar.\n",
        "    for i in nan.index: #Para cada i en los index de mi data nula\n",
        "        random_num = random.uniform(int(min_),int(max_)) #randomizo dentro de los intervalos que quiero y especifico que quiero enteros\n",
        "        df[col].loc[i] = random_num #Reemplazo los valores dentro de mi data original."
      ],
      "metadata": {
        "id": "01QanJSFF8Qy"
      },
      "execution_count": null,
      "outputs": []
    },
    {
      "cell_type": "code",
      "source": [
        "#Aplicamos la función para reemplazar los nulos de la columna Edad\n",
        "llena_nan_con_media_y_std(data_titanic)"
      ],
      "metadata": {
        "colab": {
          "base_uri": "https://localhost:8080/"
        },
        "id": "Knh6emI4GCxf",
        "outputId": "e358625f-ea22-4bb5-8037-feb21daecb11"
      },
      "execution_count": null,
      "outputs": [
        {
          "output_type": "stream",
          "name": "stderr",
          "text": [
            "<ipython-input-14-e2c83ccf291b>:8: SettingWithCopyWarning: \n",
            "A value is trying to be set on a copy of a slice from a DataFrame\n",
            "\n",
            "See the caveats in the documentation: https://pandas.pydata.org/pandas-docs/stable/user_guide/indexing.html#returning-a-view-versus-a-copy\n",
            "  df[col].loc[i] = random_num #Reemplazo los valores dentro de mi data original.\n"
          ]
        }
      ]
    },
    {
      "cell_type": "code",
      "source": [
        "#Con el método .fillna reemplazamos los vacíos de la columna P_embarque con la moda por ser el puerto de embarque más repetido \n",
        "data_titanic['P_embarque'].fillna(data_titanic['P_embarque'].mode()[0], inplace=True)"
      ],
      "metadata": {
        "id": "rR3YussoGHD0"
      },
      "execution_count": null,
      "outputs": []
    },
    {
      "cell_type": "markdown",
      "source": [
        "##Detectando y procesando outliers"
      ],
      "metadata": {
        "id": "pwg70uNXGT1P"
      }
    },
    {
      "cell_type": "code",
      "source": [
        "#Aplicamos el método boxplot de la librería seaborn indicando data como fuente de datos\n",
        "sns.boxplot(data=data_titanic)"
      ],
      "metadata": {
        "colab": {
          "base_uri": "https://localhost:8080/",
          "height": 284
        },
        "id": "YuvZkjswGYhV",
        "outputId": "e6519f80-782f-48e9-9c41-d302bd136817"
      },
      "execution_count": null,
      "outputs": [
        {
          "output_type": "execute_result",
          "data": {
            "text/plain": [
              "<Axes: >"
            ]
          },
          "metadata": {},
          "execution_count": 17
        },
        {
          "output_type": "display_data",
          "data": {
            "text/plain": [
              "<Figure size 432x288 with 1 Axes>"
            ],
            "image/png": "[encoded data removed]"
          },
          "metadata": {
            "needs_background": "light"
          }
        }
      ]
    },
    {
      "cell_type": "markdown",
      "source": [
        "Viendo el boxplot es evidente que los datos más alejados del resto se ubican en la variable Tarifa.\n",
        "\n",
        "Para ello procedemos a reemplazarlos con el percentil 95."
      ],
      "metadata": {
        "id": "W3n9E0q_GzYy"
      }
    },
    {
      "cell_type": "code",
      "source": [
        "#Aplicamos .index para obtener las filas superiores del percentil 95 y .loc para reemplazar los outliers por el percentil 95\n",
        "outliers = data_titanic[data_titanic['Tarifa'] > data_titanic['Tarifa'].quantile(.95)].index\n",
        "data_titanic.loc[outliers,'Tarifa'] = data_titanic['Tarifa'].quantile(.95)"
      ],
      "metadata": {
        "id": "7bIQHSMMG1ZZ"
      },
      "execution_count": null,
      "outputs": []
    },
    {
      "cell_type": "markdown",
      "source": [
        "##Feature Engineering"
      ],
      "metadata": {
        "id": "8YdvWTppG9p1"
      }
    },
    {
      "cell_type": "markdown",
      "source": [
        "En situaciones de supervivencia antes desastres un factor muy importante es la familia. En este caso hay dos variables relacionadas a la familia del pasajero (Hermanos & Padres_hijos).\n",
        "\n",
        "Por ello hemos considerado relevante crear **dos variables**:\n",
        "*   Miembros_familia: **total** de **familiares incluyendo** al pasajero\n",
        "*   Viaja_solo: 1 = si el pasajero **viajaba sin ningún familiar**, 0 = si el pasajero **viajaba con al menos 1 familiar**\n",
        "\n",
        "sola o acompañada en la nave."
      ],
      "metadata": {
        "id": "Z0_nYJxPHKlB"
      }
    },
    {
      "cell_type": "code",
      "source": [
        "#Creamos una columna nueva para contar el total entre las columnas Hermanos y Padres_Hijos\n",
        "data_titanic['Miembros_familia'] = data_titanic['Hermanos'] + data_titanic['Padres_hijos'] + 1 #(1 reempresenta a él o ella)"
      ],
      "metadata": {
        "id": "s7pUcvBuG8ES"
      },
      "execution_count": null,
      "outputs": []
    },
    {
      "cell_type": "code",
      "source": [
        "#Creamos una columna nueva para distinguir los pasajeros que viajan solos\n",
        "data_titanic['Viaja_solo'] = 1 \n",
        "data_titanic['Viaja_solo'].loc[data_titanic['Miembros_familia'] > 1] = 0"
      ],
      "metadata": {
        "colab": {
          "base_uri": "https://localhost:8080/"
        },
        "id": "HMJxgpfZHSlk",
        "outputId": "ed09b44e-7c84-4094-a589-2b661955c56d"
      },
      "execution_count": null,
      "outputs": [
        {
          "output_type": "stream",
          "name": "stderr",
          "text": [
            "<ipython-input-20-9ff1b2ce56a0>:3: SettingWithCopyWarning: \n",
            "A value is trying to be set on a copy of a slice from a DataFrame\n",
            "\n",
            "See the caveats in the documentation: https://pandas.pydata.org/pandas-docs/stable/user_guide/indexing.html#returning-a-view-versus-a-copy\n",
            "  data_titanic['Viaja_solo'].loc[data_titanic['Miembros_familia'] > 1] = 0\n"
          ]
        }
      ]
    },
    {
      "cell_type": "code",
      "source": [
        "#Comprobamos las columnas creadas\n",
        "data_titanic.head()"
      ],
      "metadata": {
        "colab": {
          "base_uri": "https://localhost:8080/",
          "height": 237
        },
        "id": "jlbR2FdCHVZK",
        "outputId": "348bed2d-36fa-4edf-d827-ba012acf1a1b"
      },
      "execution_count": null,
      "outputs": [
        {
          "output_type": "execute_result",
          "data": {
            "text/plain": [
              "            Sobrevivio  Pclass  Genero  Edad  Hermanos  Padres_hijos   Tarifa  \\\n",
              "IdPasajero                                                                      \n",
              "1                    0       3    male  22.0         1             0   7.2500   \n",
              "2                    1       1  female  38.0         1             0  71.2833   \n",
              "3                    1       3  female  26.0         0             0   7.9250   \n",
              "4                    1       1  female  35.0         1             0  53.1000   \n",
              "5                    0       3    male  35.0         0             0   8.0500   \n",
              "\n",
              "           P_embarque  Miembros_familia  Viaja_solo  \n",
              "IdPasajero                                           \n",
              "1                   S                 2           0  \n",
              "2                   C                 2           0  \n",
              "3                   S                 1           1  \n",
              "4                   S                 2           0  \n",
              "5                   S                 1           1  "
            ],
            "text/html": [
              "\n",
              "  <div id=\"df-5b409123-b05b-40c0-9c6b-bece46ad682c\">\n",
              "    <div class=\"colab-df-container\">\n",
              "      <div>\n",
              "<style scoped>\n",
              "    .dataframe tbody tr th:only-of-type {\n",
              "        vertical-align: middle;\n",
              "    }\n",
              "\n",
              "    .dataframe tbody tr th {\n",
              "        vertical-align: top;\n",
              "    }\n",
              "\n",
              "    .dataframe thead th {\n",
              "        text-align: right;\n",
              "    }\n",
              "</style>\n",
              "<table border=\"1\" class=\"dataframe\">\n",
              "  <thead>\n",
              "    <tr style=\"text-align: right;\">\n",
              "      <th></th>\n",
              "      <th>Sobrevivio</th>\n",
              "      <th>Pclass</th>\n",
              "      <th>Genero</th>\n",
              "      <th>Edad</th>\n",
              "      <th>Hermanos</th>\n",
              "      <th>Padres_hijos</th>\n",
              "      <th>Tarifa</th>\n",
              "      <th>P_embarque</th>\n",
              "      <th>Miembros_familia</th>\n",
              "      <th>Viaja_solo</th>\n",
              "    </tr>\n",
              "    <tr>\n",
              "      <th>IdPasajero</th>\n",
              "      <th></th>\n",
              "      <th></th>\n",
              "      <th></th>\n",
              "      <th></th>\n",
              "      <th></th>\n",
              "      <th></th>\n",
              "      <th></th>\n",
              "      <th></th>\n",
              "      <th></th>\n",
              "      <th></th>\n",
              "    </tr>\n",
              "  </thead>\n",
              "  <tbody>\n",
              "    <tr>\n",
              "      <th>1</th>\n",
              "      <td>0</td>\n",
              "      <td>3</td>\n",
              "      <td>male</td>\n",
              "      <td>22.0</td>\n",
              "      <td>1</td>\n",
              "      <td>0</td>\n",
              "      <td>7.2500</td>\n",
              "      <td>S</td>\n",
              "      <td>2</td>\n",
              "      <td>0</td>\n",
              "    </tr>\n",
              "    <tr>\n",
              "      <th>2</th>\n",
              "      <td>1</td>\n",
              "      <td>1</td>\n",
              "      <td>female</td>\n",
              "      <td>38.0</td>\n",
              "      <td>1</td>\n",
              "      <td>0</td>\n",
              "      <td>71.2833</td>\n",
              "      <td>C</td>\n",
              "      <td>2</td>\n",
              "      <td>0</td>\n",
              "    </tr>\n",
              "    <tr>\n",
              "      <th>3</th>\n",
              "      <td>1</td>\n",
              "      <td>3</td>\n",
              "      <td>female</td>\n",
              "      <td>26.0</td>\n",
              "      <td>0</td>\n",
              "      <td>0</td>\n",
              "      <td>7.9250</td>\n",
              "      <td>S</td>\n",
              "      <td>1</td>\n",
              "      <td>1</td>\n",
              "    </tr>\n",
              "    <tr>\n",
              "      <th>4</th>\n",
              "      <td>1</td>\n",
              "      <td>1</td>\n",
              "      <td>female</td>\n",
              "      <td>35.0</td>\n",
              "      <td>1</td>\n",
              "      <td>0</td>\n",
              "      <td>53.1000</td>\n",
              "      <td>S</td>\n",
              "      <td>2</td>\n",
              "      <td>0</td>\n",
              "    </tr>\n",
              "    <tr>\n",
              "      <th>5</th>\n",
              "      <td>0</td>\n",
              "      <td>3</td>\n",
              "      <td>male</td>\n",
              "      <td>35.0</td>\n",
              "      <td>0</td>\n",
              "      <td>0</td>\n",
              "      <td>8.0500</td>\n",
              "      <td>S</td>\n",
              "      <td>1</td>\n",
              "      <td>1</td>\n",
              "    </tr>\n",
              "  </tbody>\n",
              "</table>\n",
              "</div>\n",
              "      <button class=\"colab-df-convert\" onclick=\"convertToInteractive('df-5b409123-b05b-40c0-9c6b-bece46ad682c')\"\n",
              "              title=\"Convert this dataframe to an interactive table.\"\n",
              "              style=\"display:none;\">\n",
              "        \n",
              "  <svg xmlns=\"http://www.w3.org/2000/svg\" height=\"24px\"viewBox=\"0 0 24 24\"\n",
              "       width=\"24px\">\n",
              "    <path d=\"M0 0h24v24H0V0z\" fill=\"none\"/>\n",
              "    <path d=\"M18.56 5.44l.94 2.06.94-2.06 2.06-.94-2.06-.94-.94-2.06-.94 2.06-2.06.94zm-11 1L8.5 8.5l.94-2.06 2.06-.94-2.06-.94L8.5 2.5l-.94 2.06-2.06.94zm10 10l.94 2.06.94-2.06 2.06-.94-2.06-.94-.94-2.06-.94 2.06-2.06.94z\"/><path d=\"M17.41 7.96l-1.37-1.37c-.4-.4-.92-.59-1.43-.59-.52 0-1.04.2-1.43.59L10.3 9.45l-7.72 7.72c-.78.78-.78 2.05 0 2.83L4 21.41c.39.39.9.59 1.41.59.51 0 1.02-.2 1.41-.59l7.78-7.78 2.81-2.81c.8-.78.8-2.07 0-2.86zM5.41 20L4 18.59l7.72-7.72 1.47 1.35L5.41 20z\"/>\n",
              "  </svg>\n",
              "      </button>\n",
              "      \n",
              "  <style>\n",
              "    .colab-df-container {\n",
              "      display:flex;\n",
              "      flex-wrap:wrap;\n",
              "      gap: 12px;\n",
              "    }\n",
              "\n",
              "    .colab-df-convert {\n",
              "      background-color: #E8F0FE;\n",
              "      border: none;\n",
              "      border-radius: 50%;\n",
              "      cursor: pointer;\n",
              "      display: none;\n",
              "      fill: #1967D2;\n",
              "      height: 32px;\n",
              "      padding: 0 0 0 0;\n",
              "      width: 32px;\n",
              "    }\n",
              "\n",
              "    .colab-df-convert:hover {\n",
              "      background-color: #E2EBFA;\n",
              "      box-shadow: 0px 1px 2px rgba(60, 64, 67, 0.3), 0px 1px 3px 1px rgba(60, 64, 67, 0.15);\n",
              "      fill: #174EA6;\n",
              "    }\n",
              "\n",
              "    [theme=dark] .colab-df-convert {\n",
              "      background-color: #3B4455;\n",
              "      fill: #D2E3FC;\n",
              "    }\n",
              "\n",
              "    [theme=dark] .colab-df-convert:hover {\n",
              "      background-color: #434B5C;\n",
              "      box-shadow: 0px 1px 3px 1px rgba(0, 0, 0, 0.15);\n",
              "      filter: drop-shadow(0px 1px 2px rgba(0, 0, 0, 0.3));\n",
              "      fill: #FFFFFF;\n",
              "    }\n",
              "  </style>\n",
              "\n",
              "      <script>\n",
              "        const buttonEl =\n",
              "          document.querySelector('#df-5b409123-b05b-40c0-9c6b-bece46ad682c button.colab-df-convert');\n",
              "        buttonEl.style.display =\n",
              "          google.colab.kernel.accessAllowed ? 'block' : 'none';\n",
              "\n",
              "        async function convertToInteractive(key) {\n",
              "          const element = document.querySelector('#df-5b409123-b05b-40c0-9c6b-bece46ad682c');\n",
              "          const dataTable =\n",
              "            await google.colab.kernel.invokeFunction('convertToInteractive',\n",
              "                                                     [key], {});\n",
              "          if (!dataTable) return;\n",
              "\n",
              "          const docLinkHtml = 'Like what you see? Visit the ' +\n",
              "            '<a target=\"_blank\" href=https://colab.research.google.com/notebooks/data_table.ipynb>data table notebook</a>'\n",
              "            + ' to learn more about interactive tables.';\n",
              "          element.innerHTML = '';\n",
              "          dataTable['output_type'] = 'display_data';\n",
              "          await google.colab.output.renderOutput(dataTable, element);\n",
              "          const docLink = document.createElement('div');\n",
              "          docLink.innerHTML = docLinkHtml;\n",
              "          element.appendChild(docLink);\n",
              "        }\n",
              "      </script>\n",
              "    </div>\n",
              "  </div>\n",
              "  "
            ]
          },
          "metadata": {},
          "execution_count": 21
        }
      ]
    },
    {
      "cell_type": "markdown",
      "source": [
        "##Encodear y verificar la influencia de la variable con el target"
      ],
      "metadata": {
        "id": "GRYmIeT6HenK"
      }
    },
    {
      "cell_type": "markdown",
      "source": [
        "**La presencia de menores de edad en el Titanic**\n",
        "¿Dan prioridad a las mujeres con niños para que puedan ir directo a las naves de rescate? Para comprobar esto es necesario identificar si el pasajero es **niño**.\n",
        "\n",
        "Para esto, introducimos un nuevo **valor** dentro de la **columna Género**."
      ],
      "metadata": {
        "id": "eF8-kAi2HlAR"
      }
    },
    {
      "cell_type": "code",
      "source": [
        "data = data_titanic.copy()"
      ],
      "metadata": {
        "id": "9Vxvyf8EHqTi"
      },
      "execution_count": null,
      "outputs": []
    },
    {
      "cell_type": "code",
      "source": [
        "#Añadimos la categoría niño en la columna Genero para todas las filas cuyo valor en la columna Edad sea menor o igual a 12\n",
        "data.loc[data['Edad']<=12,'Genero'] = 'niño'"
      ],
      "metadata": {
        "id": "c_-g2IorHh74"
      },
      "execution_count": null,
      "outputs": []
    },
    {
      "cell_type": "markdown",
      "source": [
        "¿Influye el Género del pasajero con el valor de la columna Sobrevivio?"
      ],
      "metadata": {
        "id": "WDObDc7JIMXx"
      }
    },
    {
      "cell_type": "code",
      "source": [
        "#Utilizamos .countplot para realizar una gráfica de barras de la columna Genero distinguiendo los valores de la columna Sobrevivio\n",
        "plt.figure(figsize=(8,6))\n",
        "sns.countplot(x = 'Genero', data = data, hue=\"Sobrevivio\")"
      ],
      "metadata": {
        "colab": {
          "base_uri": "https://localhost:8080/",
          "height": 406
        },
        "id": "GkE5WTs-INlY",
        "outputId": "ea1419b2-772c-44ef-e947-bd79d242f370"
      },
      "execution_count": null,
      "outputs": [
        {
          "output_type": "execute_result",
          "data": {
            "text/plain": [
              "<Axes: xlabel='Genero', ylabel='count'>"
            ]
          },
          "metadata": {},
          "execution_count": 25
        },
        {
          "output_type": "display_data",
          "data": {
            "text/plain": [
              "<Figure size 576x432 with 1 Axes>"
            ],
            "image/png": "[encoded data removed]"
          },
          "metadata": {
            "needs_background": "light"
          }
        }
      ]
    },
    {
      "cell_type": "markdown",
      "source": [
        "¿Influye el Puerto de embarque del pasajero con el valor de la columna Sobrevivio?"
      ],
      "metadata": {
        "id": "bR52waw6ISDI"
      }
    },
    {
      "cell_type": "code",
      "source": [
        "#Utilizamos .countplot para realizar una gráfica de barras de la columna P_embarque distinguiendo los valores de la columna Sobrevivio\n",
        "plt.figure(figsize=(8,6))\n",
        "sns.countplot(x = 'P_embarque', data = data, hue=\"Sobrevivio\")"
      ],
      "metadata": {
        "colab": {
          "base_uri": "https://localhost:8080/",
          "height": 407
        },
        "id": "2V0QMbX3ITbo",
        "outputId": "1344e731-63f3-4d7e-fb5a-68f967b5ee34"
      },
      "execution_count": null,
      "outputs": [
        {
          "output_type": "execute_result",
          "data": {
            "text/plain": [
              "<Axes: xlabel='P_embarque', ylabel='count'>"
            ]
          },
          "metadata": {},
          "execution_count": 26
        },
        {
          "output_type": "display_data",
          "data": {
            "text/plain": [
              "<Figure size 576x432 with 1 Axes>"
            ],
            "image/png": "[encoded data removed]"
          },
          "metadata": {
            "needs_background": "light"
          }
        }
      ]
    },
    {
      "cell_type": "markdown",
      "source": [
        "**Aplicando diccionario para Encodear**"
      ],
      "metadata": {
        "id": "qe_s4FuQIWLp"
      }
    },
    {
      "cell_type": "code",
      "source": [
        "#Ahora podemos decir qué prioridades de categorías hay dentro de las variables P_embarque y Genero\n",
        "cat_to_nums = {\"P_embarque\":  {\"S\": 1, \"C\": 3, \"Q\":5},\n",
        "               \"Genero\": {\"male\":1,\"niño\":3,\"female\":5}}\n",
        "data.replace(cat_to_nums, inplace = True)"
      ],
      "metadata": {
        "id": "gSUcNDryIYO9"
      },
      "execution_count": null,
      "outputs": []
    },
    {
      "cell_type": "code",
      "source": [
        "#Comprobamos los cambios realizados\n",
        "data.head()"
      ],
      "metadata": {
        "colab": {
          "base_uri": "https://localhost:8080/",
          "height": 237
        },
        "id": "riyyOi3sIZgR",
        "outputId": "2cc4bdb6-3439-40be-c447-ecf0dfe7e153"
      },
      "execution_count": null,
      "outputs": [
        {
          "output_type": "execute_result",
          "data": {
            "text/plain": [
              "            Sobrevivio  Pclass  Genero  Edad  Hermanos  Padres_hijos   Tarifa  \\\n",
              "IdPasajero                                                                      \n",
              "1                    0       3       1  22.0         1             0   7.2500   \n",
              "2                    1       1       5  38.0         1             0  71.2833   \n",
              "3                    1       3       5  26.0         0             0   7.9250   \n",
              "4                    1       1       5  35.0         1             0  53.1000   \n",
              "5                    0       3       1  35.0         0             0   8.0500   \n",
              "\n",
              "            P_embarque  Miembros_familia  Viaja_solo  \n",
              "IdPasajero                                            \n",
              "1                    1                 2           0  \n",
              "2                    3                 2           0  \n",
              "3                    1                 1           1  \n",
              "4                    1                 2           0  \n",
              "5                    1                 1           1  "
            ],
            "text/html": [
              "\n",
              "  <div id=\"df-cfc57e01-bc64-4c74-87b1-5d9bb87156df\">\n",
              "    <div class=\"colab-df-container\">\n",
              "      <div>\n",
              "<style scoped>\n",
              "    .dataframe tbody tr th:only-of-type {\n",
              "        vertical-align: middle;\n",
              "    }\n",
              "\n",
              "    .dataframe tbody tr th {\n",
              "        vertical-align: top;\n",
              "    }\n",
              "\n",
              "    .dataframe thead th {\n",
              "        text-align: right;\n",
              "    }\n",
              "</style>\n",
              "<table border=\"1\" class=\"dataframe\">\n",
              "  <thead>\n",
              "    <tr style=\"text-align: right;\">\n",
              "      <th></th>\n",
              "      <th>Sobrevivio</th>\n",
              "      <th>Pclass</th>\n",
              "      <th>Genero</th>\n",
              "      <th>Edad</th>\n",
              "      <th>Hermanos</th>\n",
              "      <th>Padres_hijos</th>\n",
              "      <th>Tarifa</th>\n",
              "      <th>P_embarque</th>\n",
              "      <th>Miembros_familia</th>\n",
              "      <th>Viaja_solo</th>\n",
              "    </tr>\n",
              "    <tr>\n",
              "      <th>IdPasajero</th>\n",
              "      <th></th>\n",
              "      <th></th>\n",
              "      <th></th>\n",
              "      <th></th>\n",
              "      <th></th>\n",
              "      <th></th>\n",
              "      <th></th>\n",
              "      <th></th>\n",
              "      <th></th>\n",
              "      <th></th>\n",
              "    </tr>\n",
              "  </thead>\n",
              "  <tbody>\n",
              "    <tr>\n",
              "      <th>1</th>\n",
              "      <td>0</td>\n",
              "      <td>3</td>\n",
              "      <td>1</td>\n",
              "      <td>22.0</td>\n",
              "      <td>1</td>\n",
              "      <td>0</td>\n",
              "      <td>7.2500</td>\n",
              "      <td>1</td>\n",
              "      <td>2</td>\n",
              "      <td>0</td>\n",
              "    </tr>\n",
              "    <tr>\n",
              "      <th>2</th>\n",
              "      <td>1</td>\n",
              "      <td>1</td>\n",
              "      <td>5</td>\n",
              "      <td>38.0</td>\n",
              "      <td>1</td>\n",
              "      <td>0</td>\n",
              "      <td>71.2833</td>\n",
              "      <td>3</td>\n",
              "      <td>2</td>\n",
              "      <td>0</td>\n",
              "    </tr>\n",
              "    <tr>\n",
              "      <th>3</th>\n",
              "      <td>1</td>\n",
              "      <td>3</td>\n",
              "      <td>5</td>\n",
              "      <td>26.0</td>\n",
              "      <td>0</td>\n",
              "      <td>0</td>\n",
              "      <td>7.9250</td>\n",
              "      <td>1</td>\n",
              "      <td>1</td>\n",
              "      <td>1</td>\n",
              "    </tr>\n",
              "    <tr>\n",
              "      <th>4</th>\n",
              "      <td>1</td>\n",
              "      <td>1</td>\n",
              "      <td>5</td>\n",
              "      <td>35.0</td>\n",
              "      <td>1</td>\n",
              "      <td>0</td>\n",
              "      <td>53.1000</td>\n",
              "      <td>1</td>\n",
              "      <td>2</td>\n",
              "      <td>0</td>\n",
              "    </tr>\n",
              "    <tr>\n",
              "      <th>5</th>\n",
              "      <td>0</td>\n",
              "      <td>3</td>\n",
              "      <td>1</td>\n",
              "      <td>35.0</td>\n",
              "      <td>0</td>\n",
              "      <td>0</td>\n",
              "      <td>8.0500</td>\n",
              "      <td>1</td>\n",
              "      <td>1</td>\n",
              "      <td>1</td>\n",
              "    </tr>\n",
              "  </tbody>\n",
              "</table>\n",
              "</div>\n",
              "      <button class=\"colab-df-convert\" onclick=\"convertToInteractive('df-cfc57e01-bc64-4c74-87b1-5d9bb87156df')\"\n",
              "              title=\"Convert this dataframe to an interactive table.\"\n",
              "              style=\"display:none;\">\n",
              "        \n",
              "  <svg xmlns=\"http://www.w3.org/2000/svg\" height=\"24px\"viewBox=\"0 0 24 24\"\n",
              "       width=\"24px\">\n",
              "    <path d=\"M0 0h24v24H0V0z\" fill=\"none\"/>\n",
              "    <path d=\"M18.56 5.44l.94 2.06.94-2.06 2.06-.94-2.06-.94-.94-2.06-.94 2.06-2.06.94zm-11 1L8.5 8.5l.94-2.06 2.06-.94-2.06-.94L8.5 2.5l-.94 2.06-2.06.94zm10 10l.94 2.06.94-2.06 2.06-.94-2.06-.94-.94-2.06-.94 2.06-2.06.94z\"/><path d=\"M17.41 7.96l-1.37-1.37c-.4-.4-.92-.59-1.43-.59-.52 0-1.04.2-1.43.59L10.3 9.45l-7.72 7.72c-.78.78-.78 2.05 0 2.83L4 21.41c.39.39.9.59 1.41.59.51 0 1.02-.2 1.41-.59l7.78-7.78 2.81-2.81c.8-.78.8-2.07 0-2.86zM5.41 20L4 18.59l7.72-7.72 1.47 1.35L5.41 20z\"/>\n",
              "  </svg>\n",
              "      </button>\n",
              "      \n",
              "  <style>\n",
              "    .colab-df-container {\n",
              "      display:flex;\n",
              "      flex-wrap:wrap;\n",
              "      gap: 12px;\n",
              "    }\n",
              "\n",
              "    .colab-df-convert {\n",
              "      background-color: #E8F0FE;\n",
              "      border: none;\n",
              "      border-radius: 50%;\n",
              "      cursor: pointer;\n",
              "      display: none;\n",
              "      fill: #1967D2;\n",
              "      height: 32px;\n",
              "      padding: 0 0 0 0;\n",
              "      width: 32px;\n",
              "    }\n",
              "\n",
              "    .colab-df-convert:hover {\n",
              "      background-color: #E2EBFA;\n",
              "      box-shadow: 0px 1px 2px rgba(60, 64, 67, 0.3), 0px 1px 3px 1px rgba(60, 64, 67, 0.15);\n",
              "      fill: #174EA6;\n",
              "    }\n",
              "\n",
              "    [theme=dark] .colab-df-convert {\n",
              "      background-color: #3B4455;\n",
              "      fill: #D2E3FC;\n",
              "    }\n",
              "\n",
              "    [theme=dark] .colab-df-convert:hover {\n",
              "      background-color: #434B5C;\n",
              "      box-shadow: 0px 1px 3px 1px rgba(0, 0, 0, 0.15);\n",
              "      filter: drop-shadow(0px 1px 2px rgba(0, 0, 0, 0.3));\n",
              "      fill: #FFFFFF;\n",
              "    }\n",
              "  </style>\n",
              "\n",
              "      <script>\n",
              "        const buttonEl =\n",
              "          document.querySelector('#df-cfc57e01-bc64-4c74-87b1-5d9bb87156df button.colab-df-convert');\n",
              "        buttonEl.style.display =\n",
              "          google.colab.kernel.accessAllowed ? 'block' : 'none';\n",
              "\n",
              "        async function convertToInteractive(key) {\n",
              "          const element = document.querySelector('#df-cfc57e01-bc64-4c74-87b1-5d9bb87156df');\n",
              "          const dataTable =\n",
              "            await google.colab.kernel.invokeFunction('convertToInteractive',\n",
              "                                                     [key], {});\n",
              "          if (!dataTable) return;\n",
              "\n",
              "          const docLinkHtml = 'Like what you see? Visit the ' +\n",
              "            '<a target=\"_blank\" href=https://colab.research.google.com/notebooks/data_table.ipynb>data table notebook</a>'\n",
              "            + ' to learn more about interactive tables.';\n",
              "          element.innerHTML = '';\n",
              "          dataTable['output_type'] = 'display_data';\n",
              "          await google.colab.output.renderOutput(dataTable, element);\n",
              "          const docLink = document.createElement('div');\n",
              "          docLink.innerHTML = docLinkHtml;\n",
              "          element.appendChild(docLink);\n",
              "        }\n",
              "      </script>\n",
              "    </div>\n",
              "  </div>\n",
              "  "
            ]
          },
          "metadata": {},
          "execution_count": 28
        }
      ]
    },
    {
      "cell_type": "markdown",
      "source": [
        "## Viendo correlaciones entre mis datos"
      ],
      "metadata": {
        "id": "xfUluqqyIdLZ"
      }
    },
    {
      "cell_type": "code",
      "source": [
        "#Con .corr() -no olvidar los paréntesis- podemos realizar un mapa de calor para identificar si hay correlación entre variables\n",
        "corr_ = data.corr()\n",
        "plt.figure(figsize=(10,8))\n",
        "sns.heatmap(corr_)"
      ],
      "metadata": {
        "colab": {
          "base_uri": "https://localhost:8080/",
          "height": 583
        },
        "id": "Tuff-VKQIsCq",
        "outputId": "0410fe77-5bef-4324-d621-8d94ef7ee79c"
      },
      "execution_count": null,
      "outputs": [
        {
          "output_type": "execute_result",
          "data": {
            "text/plain": [
              "<Axes: >"
            ]
          },
          "metadata": {},
          "execution_count": 29
        },
        {
          "output_type": "display_data",
          "data": {
            "text/plain": [
              "<Figure size 720x576 with 2 Axes>"
            ],
            "image/png": "[encoded data removed]"
          },
          "metadata": {
            "needs_background": "light"
          }
        }
      ]
    },
    {
      "cell_type": "code",
      "source": [
        "from scipy.stats import chi2_contingency\n",
        "\n",
        "def cramers_V(var1,var2) :\n",
        "  crosstab =np.array(pd.crosstab(var1,var2, rownames=None, colnames=None)) \n",
        "  stat = chi2_contingency(crosstab)[0] \n",
        "  obs = np.sum(crosstab) \n",
        "  mini = min(crosstab.shape)-1 \n",
        "  return (stat/(obs*mini))\n",
        "\n",
        "rows= []\n",
        "\n",
        "for var1 in data:\n",
        "  col = []\n",
        "  for var2 in data :\n",
        "    cramers =cramers_V(data[var1], data[var2]) \n",
        "    col.append(round(cramers,2)) \n",
        "  rows.append(col)\n",
        "\n",
        "cramers_results = np.array(rows)\n",
        "\n",
        "cramerv_matrix = pd.DataFrame(cramers_results, columns = data.columns, index =data.columns)\n",
        "mask = np.triu(np.ones_like(cramerv_matrix, dtype=np.bool))\n",
        "plt.figure(figsize=(10,8))\n",
        "cat_heatmap = sns.heatmap(cramerv_matrix, mask=mask, vmin=-1, vmax=1, annot=True, cmap='BrBG')\n",
        "cat_heatmap.set_title('Correlación - mapa de calor', fontdict={'fontsize':12}, pad=12);"
      ],
      "metadata": {
        "colab": {
          "base_uri": "https://localhost:8080/",
          "height": 658
        },
        "id": "o2Yw7sA7IvFR",
        "outputId": "49d5a4a6-e58b-4b7a-8864-4b7ede661bb4"
      },
      "execution_count": null,
      "outputs": [
        {
          "output_type": "stream",
          "name": "stderr",
          "text": [
            "<ipython-input-30-924a01289ea3>:22: DeprecationWarning: `np.bool` is a deprecated alias for the builtin `bool`. To silence this warning, use `bool` by itself. Doing this will not modify any behavior and is safe. If you specifically wanted the numpy scalar type, use `np.bool_` here.\n",
            "Deprecated in NumPy 1.20; for more details and guidance: https://numpy.org/devdocs/release/1.20.0-notes.html#deprecations\n",
            "  mask = np.triu(np.ones_like(cramerv_matrix, dtype=np.bool))\n"
          ]
        },
        {
          "output_type": "display_data",
          "data": {
            "text/plain": [
              "<Figure size 720x576 with 2 Axes>"
            ],
            "image/png": "[encoded data removed]"
          },
          "metadata": {
            "needs_background": "light"
          }
        }
      ]
    },
    {
      "cell_type": "markdown",
      "source": [
        "Según el gráfico las columnas **Miembros_de_fam**, **Hermanos**, **Padres_hijos** están correlacionadas.\n",
        "\n",
        "Por ello solo nos quedaremos con la columna que nos aporta mayor información: **Miembros_de_fam**"
      ],
      "metadata": {
        "id": "Zh1Qsv7wIzK-"
      }
    },
    {
      "cell_type": "code",
      "source": [
        "#Con .drop eliminamos las columnas Hermanos y Padres_hijos\n",
        "data.drop(['Hermanos','Padres_hijos'],axis=1, inplace=True)"
      ],
      "metadata": {
        "id": "6OBOCGX3I0_M"
      },
      "execution_count": null,
      "outputs": []
    },
    {
      "cell_type": "markdown",
      "source": [
        "## Normalizando mi data:\n",
        "Veamos la distribución de nuestros dos datos netamente numéricos que tenemos: Tarifa y Edad\n"
      ],
      "metadata": {
        "id": "RM09j1OnI3B5"
      }
    },
    {
      "cell_type": "code",
      "source": [
        "#Con .distplot mostramos un histograma con una línea de tendencia de ambas variables\n",
        "sns.distplot(data['Tarifa'])\n",
        "plt.show()\n",
        "sns.distplot(data['Edad'])\n",
        "plt.show()"
      ],
      "metadata": {
        "colab": {
          "base_uri": "https://localhost:8080/",
          "height": 942
        },
        "id": "PTweDzW-I4ix",
        "outputId": "73f78ae9-884a-47a1-c0ef-d00d0c19d700"
      },
      "execution_count": null,
      "outputs": [
        {
          "output_type": "stream",
          "name": "stderr",
          "text": [
            "<ipython-input-32-9c0fab256c3d>:2: UserWarning: \n",
            "\n",
            "`distplot` is a deprecated function and will be removed in seaborn v0.14.0.\n",
            "\n",
            "Please adapt your code to use either `displot` (a figure-level function with\n",
            "similar flexibility) or `histplot` (an axes-level function for histograms).\n",
            "\n",
            "For a guide to updating your code to use the new functions, please see\n",
            "https://gist.github.com/mwaskom/de44147ed2974457ad6372750bbe5751\n",
            "\n",
            "  sns.distplot(data['Tarifa'])\n"
          ]
        },
        {
          "output_type": "display_data",
          "data": {
            "text/plain": [
              "<Figure size 432x288 with 1 Axes>"
            ],
            "image/png": "[encoded data removed]"
          },
          "metadata": {
            "needs_background": "light"
          }
        },
        {
          "output_type": "stream",
          "name": "stderr",
          "text": [
            "<ipython-input-32-9c0fab256c3d>:4: UserWarning: \n",
            "\n",
            "`distplot` is a deprecated function and will be removed in seaborn v0.14.0.\n",
            "\n",
            "Please adapt your code to use either `displot` (a figure-level function with\n",
            "similar flexibility) or `histplot` (an axes-level function for histograms).\n",
            "\n",
            "For a guide to updating your code to use the new functions, please see\n",
            "https://gist.github.com/mwaskom/de44147ed2974457ad6372750bbe5751\n",
            "\n",
            "  sns.distplot(data['Edad'])\n"
          ]
        },
        {
          "output_type": "display_data",
          "data": {
            "text/plain": [
              "<Figure size 432x288 with 1 Axes>"
            ],
            "image/png": "[encoded data removed]"
          },
          "metadata": {
            "needs_background": "light"
          }
        }
      ]
    },
    {
      "cell_type": "markdown",
      "source": [
        "Las **escalas no difieren demasiado** ya que **ambas variables** se distribuyen **mayormente dentro de las decenas**.\n",
        "\n",
        "Sin embargo por asuntos de didáctica para terminar el procesamiento de los datos vamos a normalizar ambas variables."
      ],
      "metadata": {
        "id": "waw_63r_I7DR"
      }
    },
    {
      "cell_type": "code",
      "source": [
        "#Importamos la librería normalize para la normalización de la data.\n",
        "from sklearn.preprocessing import normalize\n",
        "\n",
        "#Seleccionamos las columnas que vamos a normalizar\n",
        "data_to_norm = [data['Tarifa'],data['Edad']]\n",
        "\n",
        "#Aplicamos normalize sobre las columnas seleccionadas\n",
        "data_normalizada = normalize(data_to_norm)"
      ],
      "metadata": {
        "id": "bVhbxRdQI9wd"
      },
      "execution_count": null,
      "outputs": []
    },
    {
      "cell_type": "code",
      "source": [
        "#Asignamos cada los datos normalizados de cada columna: Tarifa y Edad\n",
        "data = data.assign(Tarifa = data_normalizada[0]) \n",
        "data = data.assign(Edad = data_normalizada[1])\n",
        "\n",
        "#Comprobamos los cambios realizados\n",
        "data.head()"
      ],
      "metadata": {
        "colab": {
          "base_uri": "https://localhost:8080/",
          "height": 237
        },
        "id": "dmAs9so4JCTx",
        "outputId": "a79213ab-9535-4dc9-ccb6-d38c8df27cea"
      },
      "execution_count": null,
      "outputs": [
        {
          "output_type": "execute_result",
          "data": {
            "text/plain": [
              "            Sobrevivio  Pclass  Genero      Edad    Tarifa  P_embarque  \\\n",
              "IdPasajero                                                               \n",
              "1                    0       3       1  0.022643  0.006032           1   \n",
              "2                    1       1       5  0.039111  0.059304           3   \n",
              "3                    1       3       5  0.026760  0.006593           1   \n",
              "4                    1       1       5  0.036024  0.044176           1   \n",
              "5                    0       3       1  0.036024  0.006697           1   \n",
              "\n",
              "            Miembros_familia  Viaja_solo  \n",
              "IdPasajero                                \n",
              "1                          2           0  \n",
              "2                          2           0  \n",
              "3                          1           1  \n",
              "4                          2           0  \n",
              "5                          1           1  "
            ],
            "text/html": [
              "\n",
              "  <div id=\"df-7cf38ef1-7da5-4f65-be78-8a41aad86c4c\">\n",
              "    <div class=\"colab-df-container\">\n",
              "      <div>\n",
              "<style scoped>\n",
              "    .dataframe tbody tr th:only-of-type {\n",
              "        vertical-align: middle;\n",
              "    }\n",
              "\n",
              "    .dataframe tbody tr th {\n",
              "        vertical-align: top;\n",
              "    }\n",
              "\n",
              "    .dataframe thead th {\n",
              "        text-align: right;\n",
              "    }\n",
              "</style>\n",
              "<table border=\"1\" class=\"dataframe\">\n",
              "  <thead>\n",
              "    <tr style=\"text-align: right;\">\n",
              "      <th></th>\n",
              "      <th>Sobrevivio</th>\n",
              "      <th>Pclass</th>\n",
              "      <th>Genero</th>\n",
              "      <th>Edad</th>\n",
              "      <th>Tarifa</th>\n",
              "      <th>P_embarque</th>\n",
              "      <th>Miembros_familia</th>\n",
              "      <th>Viaja_solo</th>\n",
              "    </tr>\n",
              "    <tr>\n",
              "      <th>IdPasajero</th>\n",
              "      <th></th>\n",
              "      <th></th>\n",
              "      <th></th>\n",
              "      <th></th>\n",
              "      <th></th>\n",
              "      <th></th>\n",
              "      <th></th>\n",
              "      <th></th>\n",
              "    </tr>\n",
              "  </thead>\n",
              "  <tbody>\n",
              "    <tr>\n",
              "      <th>1</th>\n",
              "      <td>0</td>\n",
              "      <td>3</td>\n",
              "      <td>1</td>\n",
              "      <td>0.022643</td>\n",
              "      <td>0.006032</td>\n",
              "      <td>1</td>\n",
              "      <td>2</td>\n",
              "      <td>0</td>\n",
              "    </tr>\n",
              "    <tr>\n",
              "      <th>2</th>\n",
              "      <td>1</td>\n",
              "      <td>1</td>\n",
              "      <td>5</td>\n",
              "      <td>0.039111</td>\n",
              "      <td>0.059304</td>\n",
              "      <td>3</td>\n",
              "      <td>2</td>\n",
              "      <td>0</td>\n",
              "    </tr>\n",
              "    <tr>\n",
              "      <th>3</th>\n",
              "      <td>1</td>\n",
              "      <td>3</td>\n",
              "      <td>5</td>\n",
              "      <td>0.026760</td>\n",
              "      <td>0.006593</td>\n",
              "      <td>1</td>\n",
              "      <td>1</td>\n",
              "      <td>1</td>\n",
              "    </tr>\n",
              "    <tr>\n",
              "      <th>4</th>\n",
              "      <td>1</td>\n",
              "      <td>1</td>\n",
              "      <td>5</td>\n",
              "      <td>0.036024</td>\n",
              "      <td>0.044176</td>\n",
              "      <td>1</td>\n",
              "      <td>2</td>\n",
              "      <td>0</td>\n",
              "    </tr>\n",
              "    <tr>\n",
              "      <th>5</th>\n",
              "      <td>0</td>\n",
              "      <td>3</td>\n",
              "      <td>1</td>\n",
              "      <td>0.036024</td>\n",
              "      <td>0.006697</td>\n",
              "      <td>1</td>\n",
              "      <td>1</td>\n",
              "      <td>1</td>\n",
              "    </tr>\n",
              "  </tbody>\n",
              "</table>\n",
              "</div>\n",
              "      <button class=\"colab-df-convert\" onclick=\"convertToInteractive('df-7cf38ef1-7da5-4f65-be78-8a41aad86c4c')\"\n",
              "              title=\"Convert this dataframe to an interactive table.\"\n",
              "              style=\"display:none;\">\n",
              "        \n",
              "  <svg xmlns=\"http://www.w3.org/2000/svg\" height=\"24px\"viewBox=\"0 0 24 24\"\n",
              "       width=\"24px\">\n",
              "    <path d=\"M0 0h24v24H0V0z\" fill=\"none\"/>\n",
              "    <path d=\"M18.56 5.44l.94 2.06.94-2.06 2.06-.94-2.06-.94-.94-2.06-.94 2.06-2.06.94zm-11 1L8.5 8.5l.94-2.06 2.06-.94-2.06-.94L8.5 2.5l-.94 2.06-2.06.94zm10 10l.94 2.06.94-2.06 2.06-.94-2.06-.94-.94-2.06-.94 2.06-2.06.94z\"/><path d=\"M17.41 7.96l-1.37-1.37c-.4-.4-.92-.59-1.43-.59-.52 0-1.04.2-1.43.59L10.3 9.45l-7.72 7.72c-.78.78-.78 2.05 0 2.83L4 21.41c.39.39.9.59 1.41.59.51 0 1.02-.2 1.41-.59l7.78-7.78 2.81-2.81c.8-.78.8-2.07 0-2.86zM5.41 20L4 18.59l7.72-7.72 1.47 1.35L5.41 20z\"/>\n",
              "  </svg>\n",
              "      </button>\n",
              "      \n",
              "  <style>\n",
              "    .colab-df-container {\n",
              "      display:flex;\n",
              "      flex-wrap:wrap;\n",
              "      gap: 12px;\n",
              "    }\n",
              "\n",
              "    .colab-df-convert {\n",
              "      background-color: #E8F0FE;\n",
              "      border: none;\n",
              "      border-radius: 50%;\n",
              "      cursor: pointer;\n",
              "      display: none;\n",
              "      fill: #1967D2;\n",
              "      height: 32px;\n",
              "      padding: 0 0 0 0;\n",
              "      width: 32px;\n",
              "    }\n",
              "\n",
              "    .colab-df-convert:hover {\n",
              "      background-color: #E2EBFA;\n",
              "      box-shadow: 0px 1px 2px rgba(60, 64, 67, 0.3), 0px 1px 3px 1px rgba(60, 64, 67, 0.15);\n",
              "      fill: #174EA6;\n",
              "    }\n",
              "\n",
              "    [theme=dark] .colab-df-convert {\n",
              "      background-color: #3B4455;\n",
              "      fill: #D2E3FC;\n",
              "    }\n",
              "\n",
              "    [theme=dark] .colab-df-convert:hover {\n",
              "      background-color: #434B5C;\n",
              "      box-shadow: 0px 1px 3px 1px rgba(0, 0, 0, 0.15);\n",
              "      filter: drop-shadow(0px 1px 2px rgba(0, 0, 0, 0.3));\n",
              "      fill: #FFFFFF;\n",
              "    }\n",
              "  </style>\n",
              "\n",
              "      <script>\n",
              "        const buttonEl =\n",
              "          document.querySelector('#df-7cf38ef1-7da5-4f65-be78-8a41aad86c4c button.colab-df-convert');\n",
              "        buttonEl.style.display =\n",
              "          google.colab.kernel.accessAllowed ? 'block' : 'none';\n",
              "\n",
              "        async function convertToInteractive(key) {\n",
              "          const element = document.querySelector('#df-7cf38ef1-7da5-4f65-be78-8a41aad86c4c');\n",
              "          const dataTable =\n",
              "            await google.colab.kernel.invokeFunction('convertToInteractive',\n",
              "                                                     [key], {});\n",
              "          if (!dataTable) return;\n",
              "\n",
              "          const docLinkHtml = 'Like what you see? Visit the ' +\n",
              "            '<a target=\"_blank\" href=https://colab.research.google.com/notebooks/data_table.ipynb>data table notebook</a>'\n",
              "            + ' to learn more about interactive tables.';\n",
              "          element.innerHTML = '';\n",
              "          dataTable['output_type'] = 'display_data';\n",
              "          await google.colab.output.renderOutput(dataTable, element);\n",
              "          const docLink = document.createElement('div');\n",
              "          docLink.innerHTML = docLinkHtml;\n",
              "          element.appendChild(docLink);\n",
              "        }\n",
              "      </script>\n",
              "    </div>\n",
              "  </div>\n",
              "  "
            ]
          },
          "metadata": {},
          "execution_count": 34
        }
      ]
    },
    {
      "cell_type": "code",
      "source": [
        "#Con .distplot mostramos un histograma con una línea de tendencia de ambas variables\n",
        "sns.distplot(data['Tarifa'])\n",
        "plt.show()\n",
        "sns.distplot(data['Edad'])\n",
        "plt.show()"
      ],
      "metadata": {
        "colab": {
          "base_uri": "https://localhost:8080/",
          "height": 942
        },
        "id": "dwVU2rOJJKZM",
        "outputId": "acf18444-fea7-47bb-8226-44d97eb3ea91"
      },
      "execution_count": null,
      "outputs": [
        {
          "output_type": "stream",
          "name": "stderr",
          "text": [
            "<ipython-input-35-9c0fab256c3d>:2: UserWarning: \n",
            "\n",
            "`distplot` is a deprecated function and will be removed in seaborn v0.14.0.\n",
            "\n",
            "Please adapt your code to use either `displot` (a figure-level function with\n",
            "similar flexibility) or `histplot` (an axes-level function for histograms).\n",
            "\n",
            "For a guide to updating your code to use the new functions, please see\n",
            "https://gist.github.com/mwaskom/de44147ed2974457ad6372750bbe5751\n",
            "\n",
            "  sns.distplot(data['Tarifa'])\n"
          ]
        },
        {
          "output_type": "display_data",
          "data": {
            "text/plain": [
              "<Figure size 432x288 with 1 Axes>"
            ],
            "image/png": "[encoded data removed]"
          },
          "metadata": {
            "needs_background": "light"
          }
        },
        {
          "output_type": "stream",
          "name": "stderr",
          "text": [
            "<ipython-input-35-9c0fab256c3d>:4: UserWarning: \n",
            "\n",
            "`distplot` is a deprecated function and will be removed in seaborn v0.14.0.\n",
            "\n",
            "Please adapt your code to use either `displot` (a figure-level function with\n",
            "similar flexibility) or `histplot` (an axes-level function for histograms).\n",
            "\n",
            "For a guide to updating your code to use the new functions, please see\n",
            "https://gist.github.com/mwaskom/de44147ed2974457ad6372750bbe5751\n",
            "\n",
            "  sns.distplot(data['Edad'])\n"
          ]
        },
        {
          "output_type": "display_data",
          "data": {
            "text/plain": [
              "<Figure size 432x288 with 1 Axes>"
            ],
            "image/png": "[encoded data removed]"
          },
          "metadata": {
            "needs_background": "light"
          }
        }
      ]
    },
    {
      "cell_type": "markdown",
      "source": [
        "# **Transformación de datos**"
      ],
      "metadata": {
        "id": "IOFy2bdmJNcM"
      }
    },
    {
      "cell_type": "code",
      "source": [
        "#Importamos dos dataset para esta competencia el train y summit\n",
        "train = pd.read_csv('https://raw.githubusercontent.com/SergioGerman412/Datasets/main/train_titanic.csv')\n",
        "summit = pd.read_csv('https://raw.githubusercontent.com/SergioGerman412/Datasets/main/summit_titanic.csv')"
      ],
      "metadata": {
        "id": "aL3SATUhJYcU"
      },
      "execution_count": null,
      "outputs": []
    },
    {
      "cell_type": "code",
      "source": [
        "train.drop(['Unnamed: 0'], axis = 1,inplace=True) \n",
        "summit.drop(['Unnamed: 0'], axis = 1,inplace=True) "
      ],
      "metadata": {
        "id": "XFB8_Z06LMS0"
      },
      "execution_count": null,
      "outputs": []
    },
    {
      "cell_type": "code",
      "source": [
        "train.head(1)"
      ],
      "metadata": {
        "colab": {
          "base_uri": "https://localhost:8080/",
          "height": 81
        },
        "id": "3vmc-jRdLWRI",
        "outputId": "574c0d18-5ac3-4565-8f27-6d9ee12480a2"
      },
      "execution_count": null,
      "outputs": [
        {
          "output_type": "execute_result",
          "data": {
            "text/plain": [
              "   Sobrevivio  Pclass  Genero      Edad    Tarifa  P_embarque  \\\n",
              "0           0       3       1  0.022518  0.006032           1   \n",
              "\n",
              "   Miembros_de_fam  Viaja_solo  \n",
              "0                2           0  "
            ],
            "text/html": [
              "\n",
              "  <div id=\"df-b636dfa6-7b74-4edf-8e96-b4a7988806d1\">\n",
              "    <div class=\"colab-df-container\">\n",
              "      <div>\n",
              "<style scoped>\n",
              "    .dataframe tbody tr th:only-of-type {\n",
              "        vertical-align: middle;\n",
              "    }\n",
              "\n",
              "    .dataframe tbody tr th {\n",
              "        vertical-align: top;\n",
              "    }\n",
              "\n",
              "    .dataframe thead th {\n",
              "        text-align: right;\n",
              "    }\n",
              "</style>\n",
              "<table border=\"1\" class=\"dataframe\">\n",
              "  <thead>\n",
              "    <tr style=\"text-align: right;\">\n",
              "      <th></th>\n",
              "      <th>Sobrevivio</th>\n",
              "      <th>Pclass</th>\n",
              "      <th>Genero</th>\n",
              "      <th>Edad</th>\n",
              "      <th>Tarifa</th>\n",
              "      <th>P_embarque</th>\n",
              "      <th>Miembros_de_fam</th>\n",
              "      <th>Viaja_solo</th>\n",
              "    </tr>\n",
              "  </thead>\n",
              "  <tbody>\n",
              "    <tr>\n",
              "      <th>0</th>\n",
              "      <td>0</td>\n",
              "      <td>3</td>\n",
              "      <td>1</td>\n",
              "      <td>0.022518</td>\n",
              "      <td>0.006032</td>\n",
              "      <td>1</td>\n",
              "      <td>2</td>\n",
              "      <td>0</td>\n",
              "    </tr>\n",
              "  </tbody>\n",
              "</table>\n",
              "</div>\n",
              "      <button class=\"colab-df-convert\" onclick=\"convertToInteractive('df-b636dfa6-7b74-4edf-8e96-b4a7988806d1')\"\n",
              "              title=\"Convert this dataframe to an interactive table.\"\n",
              "              style=\"display:none;\">\n",
              "        \n",
              "  <svg xmlns=\"http://www.w3.org/2000/svg\" height=\"24px\"viewBox=\"0 0 24 24\"\n",
              "       width=\"24px\">\n",
              "    <path d=\"M0 0h24v24H0V0z\" fill=\"none\"/>\n",
              "    <path d=\"M18.56 5.44l.94 2.06.94-2.06 2.06-.94-2.06-.94-.94-2.06-.94 2.06-2.06.94zm-11 1L8.5 8.5l.94-2.06 2.06-.94-2.06-.94L8.5 2.5l-.94 2.06-2.06.94zm10 10l.94 2.06.94-2.06 2.06-.94-2.06-.94-.94-2.06-.94 2.06-2.06.94z\"/><path d=\"M17.41 7.96l-1.37-1.37c-.4-.4-.92-.59-1.43-.59-.52 0-1.04.2-1.43.59L10.3 9.45l-7.72 7.72c-.78.78-.78 2.05 0 2.83L4 21.41c.39.39.9.59 1.41.59.51 0 1.02-.2 1.41-.59l7.78-7.78 2.81-2.81c.8-.78.8-2.07 0-2.86zM5.41 20L4 18.59l7.72-7.72 1.47 1.35L5.41 20z\"/>\n",
              "  </svg>\n",
              "      </button>\n",
              "      \n",
              "  <style>\n",
              "    .colab-df-container {\n",
              "      display:flex;\n",
              "      flex-wrap:wrap;\n",
              "      gap: 12px;\n",
              "    }\n",
              "\n",
              "    .colab-df-convert {\n",
              "      background-color: #E8F0FE;\n",
              "      border: none;\n",
              "      border-radius: 50%;\n",
              "      cursor: pointer;\n",
              "      display: none;\n",
              "      fill: #1967D2;\n",
              "      height: 32px;\n",
              "      padding: 0 0 0 0;\n",
              "      width: 32px;\n",
              "    }\n",
              "\n",
              "    .colab-df-convert:hover {\n",
              "      background-color: #E2EBFA;\n",
              "      box-shadow: 0px 1px 2px rgba(60, 64, 67, 0.3), 0px 1px 3px 1px rgba(60, 64, 67, 0.15);\n",
              "      fill: #174EA6;\n",
              "    }\n",
              "\n",
              "    [theme=dark] .colab-df-convert {\n",
              "      background-color: #3B4455;\n",
              "      fill: #D2E3FC;\n",
              "    }\n",
              "\n",
              "    [theme=dark] .colab-df-convert:hover {\n",
              "      background-color: #434B5C;\n",
              "      box-shadow: 0px 1px 3px 1px rgba(0, 0, 0, 0.15);\n",
              "      filter: drop-shadow(0px 1px 2px rgba(0, 0, 0, 0.3));\n",
              "      fill: #FFFFFF;\n",
              "    }\n",
              "  </style>\n",
              "\n",
              "      <script>\n",
              "        const buttonEl =\n",
              "          document.querySelector('#df-b636dfa6-7b74-4edf-8e96-b4a7988806d1 button.colab-df-convert');\n",
              "        buttonEl.style.display =\n",
              "          google.colab.kernel.accessAllowed ? 'block' : 'none';\n",
              "\n",
              "        async function convertToInteractive(key) {\n",
              "          const element = document.querySelector('#df-b636dfa6-7b74-4edf-8e96-b4a7988806d1');\n",
              "          const dataTable =\n",
              "            await google.colab.kernel.invokeFunction('convertToInteractive',\n",
              "                                                     [key], {});\n",
              "          if (!dataTable) return;\n",
              "\n",
              "          const docLinkHtml = 'Like what you see? Visit the ' +\n",
              "            '<a target=\"_blank\" href=https://colab.research.google.com/notebooks/data_table.ipynb>data table notebook</a>'\n",
              "            + ' to learn more about interactive tables.';\n",
              "          element.innerHTML = '';\n",
              "          dataTable['output_type'] = 'display_data';\n",
              "          await google.colab.output.renderOutput(dataTable, element);\n",
              "          const docLink = document.createElement('div');\n",
              "          docLink.innerHTML = docLinkHtml;\n",
              "          element.appendChild(docLink);\n",
              "        }\n",
              "      </script>\n",
              "    </div>\n",
              "  </div>\n",
              "  "
            ]
          },
          "metadata": {},
          "execution_count": 46
        }
      ]
    },
    {
      "cell_type": "code",
      "source": [
        "summit.head(1)"
      ],
      "metadata": {
        "colab": {
          "base_uri": "https://localhost:8080/",
          "height": 81
        },
        "id": "JGpvnJ4uLYp0",
        "outputId": "244791be-a152-43e8-e410-71e4fb49e460"
      },
      "execution_count": null,
      "outputs": [
        {
          "output_type": "execute_result",
          "data": {
            "text/plain": [
              "   Pclass  Genero     Edad    Tarifa  P_embarque  Miembros_de_fam  Viaja_solo\n",
              "0       3       1  0.05123  0.007803           5                1           1"
            ],
            "text/html": [
              "\n",
              "  <div id=\"df-b4e02f99-68ed-4c89-9bb3-c07d673ef3e5\">\n",
              "    <div class=\"colab-df-container\">\n",
              "      <div>\n",
              "<style scoped>\n",
              "    .dataframe tbody tr th:only-of-type {\n",
              "        vertical-align: middle;\n",
              "    }\n",
              "\n",
              "    .dataframe tbody tr th {\n",
              "        vertical-align: top;\n",
              "    }\n",
              "\n",
              "    .dataframe thead th {\n",
              "        text-align: right;\n",
              "    }\n",
              "</style>\n",
              "<table border=\"1\" class=\"dataframe\">\n",
              "  <thead>\n",
              "    <tr style=\"text-align: right;\">\n",
              "      <th></th>\n",
              "      <th>Pclass</th>\n",
              "      <th>Genero</th>\n",
              "      <th>Edad</th>\n",
              "      <th>Tarifa</th>\n",
              "      <th>P_embarque</th>\n",
              "      <th>Miembros_de_fam</th>\n",
              "      <th>Viaja_solo</th>\n",
              "    </tr>\n",
              "  </thead>\n",
              "  <tbody>\n",
              "    <tr>\n",
              "      <th>0</th>\n",
              "      <td>3</td>\n",
              "      <td>1</td>\n",
              "      <td>0.05123</td>\n",
              "      <td>0.007803</td>\n",
              "      <td>5</td>\n",
              "      <td>1</td>\n",
              "      <td>1</td>\n",
              "    </tr>\n",
              "  </tbody>\n",
              "</table>\n",
              "</div>\n",
              "      <button class=\"colab-df-convert\" onclick=\"convertToInteractive('df-b4e02f99-68ed-4c89-9bb3-c07d673ef3e5')\"\n",
              "              title=\"Convert this dataframe to an interactive table.\"\n",
              "              style=\"display:none;\">\n",
              "        \n",
              "  <svg xmlns=\"http://www.w3.org/2000/svg\" height=\"24px\"viewBox=\"0 0 24 24\"\n",
              "       width=\"24px\">\n",
              "    <path d=\"M0 0h24v24H0V0z\" fill=\"none\"/>\n",
              "    <path d=\"M18.56 5.44l.94 2.06.94-2.06 2.06-.94-2.06-.94-.94-2.06-.94 2.06-2.06.94zm-11 1L8.5 8.5l.94-2.06 2.06-.94-2.06-.94L8.5 2.5l-.94 2.06-2.06.94zm10 10l.94 2.06.94-2.06 2.06-.94-2.06-.94-.94-2.06-.94 2.06-2.06.94z\"/><path d=\"M17.41 7.96l-1.37-1.37c-.4-.4-.92-.59-1.43-.59-.52 0-1.04.2-1.43.59L10.3 9.45l-7.72 7.72c-.78.78-.78 2.05 0 2.83L4 21.41c.39.39.9.59 1.41.59.51 0 1.02-.2 1.41-.59l7.78-7.78 2.81-2.81c.8-.78.8-2.07 0-2.86zM5.41 20L4 18.59l7.72-7.72 1.47 1.35L5.41 20z\"/>\n",
              "  </svg>\n",
              "      </button>\n",
              "      \n",
              "  <style>\n",
              "    .colab-df-container {\n",
              "      display:flex;\n",
              "      flex-wrap:wrap;\n",
              "      gap: 12px;\n",
              "    }\n",
              "\n",
              "    .colab-df-convert {\n",
              "      background-color: #E8F0FE;\n",
              "      border: none;\n",
              "      border-radius: 50%;\n",
              "      cursor: pointer;\n",
              "      display: none;\n",
              "      fill: #1967D2;\n",
              "      height: 32px;\n",
              "      padding: 0 0 0 0;\n",
              "      width: 32px;\n",
              "    }\n",
              "\n",
              "    .colab-df-convert:hover {\n",
              "      background-color: #E2EBFA;\n",
              "      box-shadow: 0px 1px 2px rgba(60, 64, 67, 0.3), 0px 1px 3px 1px rgba(60, 64, 67, 0.15);\n",
              "      fill: #174EA6;\n",
              "    }\n",
              "\n",
              "    [theme=dark] .colab-df-convert {\n",
              "      background-color: #3B4455;\n",
              "      fill: #D2E3FC;\n",
              "    }\n",
              "\n",
              "    [theme=dark] .colab-df-convert:hover {\n",
              "      background-color: #434B5C;\n",
              "      box-shadow: 0px 1px 3px 1px rgba(0, 0, 0, 0.15);\n",
              "      filter: drop-shadow(0px 1px 2px rgba(0, 0, 0, 0.3));\n",
              "      fill: #FFFFFF;\n",
              "    }\n",
              "  </style>\n",
              "\n",
              "      <script>\n",
              "        const buttonEl =\n",
              "          document.querySelector('#df-b4e02f99-68ed-4c89-9bb3-c07d673ef3e5 button.colab-df-convert');\n",
              "        buttonEl.style.display =\n",
              "          google.colab.kernel.accessAllowed ? 'block' : 'none';\n",
              "\n",
              "        async function convertToInteractive(key) {\n",
              "          const element = document.querySelector('#df-b4e02f99-68ed-4c89-9bb3-c07d673ef3e5');\n",
              "          const dataTable =\n",
              "            await google.colab.kernel.invokeFunction('convertToInteractive',\n",
              "                                                     [key], {});\n",
              "          if (!dataTable) return;\n",
              "\n",
              "          const docLinkHtml = 'Like what you see? Visit the ' +\n",
              "            '<a target=\"_blank\" href=https://colab.research.google.com/notebooks/data_table.ipynb>data table notebook</a>'\n",
              "            + ' to learn more about interactive tables.';\n",
              "          element.innerHTML = '';\n",
              "          dataTable['output_type'] = 'display_data';\n",
              "          await google.colab.output.renderOutput(dataTable, element);\n",
              "          const docLink = document.createElement('div');\n",
              "          docLink.innerHTML = docLinkHtml;\n",
              "          element.appendChild(docLink);\n",
              "        }\n",
              "      </script>\n",
              "    </div>\n",
              "  </div>\n",
              "  "
            ]
          },
          "metadata": {},
          "execution_count": 47
        }
      ]
    },
    {
      "cell_type": "markdown",
      "source": [
        "En cada **competencia** de Ciencia de Datos se presenta al concursante un conjunto de datos **sin target** exclusivamente con el objetivo de completar este dato faltante. Por lo tanto este conjunto de datos denominado **summit** no se utiliza en el entrenamiento."
      ],
      "metadata": {
        "id": "kV3SPzUgLd6c"
      }
    },
    {
      "cell_type": "code",
      "source": [
        "#Denominamos a las variables predictoras X mientras que el target se denomina Y\n",
        "X = train.drop('Sobrevivio',axis=1)\n",
        "y = train['Sobrevivio']"
      ],
      "metadata": {
        "id": "ixeX2hZlLhIg"
      },
      "execution_count": null,
      "outputs": []
    },
    {
      "cell_type": "code",
      "source": [
        "#Realizamos la división de ambas variables\n",
        "from sklearn.model_selection import train_test_split\n",
        "X_train, X_test, y_train, y_test= train_test_split(X,y,test_size = 0.15,random_state=1) #Separa el 15% de la data para generar las predicciones"
      ],
      "metadata": {
        "id": "bOOzzXjYLiuU"
      },
      "execution_count": null,
      "outputs": []
    },
    {
      "cell_type": "code",
      "source": [
        "#Mostramos con el parámetro shape la cantidad de filas que resultaron en cada parte\n",
        "print('Para el X_train:', X_train.shape, 'y para el y_train',y_train.shape)\n",
        "print('Para el X_test:',X_test.shape,'y para el y_test',y_test.shape)"
      ],
      "metadata": {
        "colab": {
          "base_uri": "https://localhost:8080/"
        },
        "id": "odzesM4KLkfs",
        "outputId": "22621995-4f7c-40c2-ef8c-9223aa4fb272"
      },
      "execution_count": null,
      "outputs": [
        {
          "output_type": "stream",
          "name": "stdout",
          "text": [
            "Para el X_train: (757, 7) y para el y_train (757,)\n",
            "Para el X_test: (134, 7) y para el y_test (134,)\n"
          ]
        }
      ]
    },
    {
      "cell_type": "markdown",
      "source": [
        "# **Minería de Datos**"
      ],
      "metadata": {
        "id": "yLr_1LURLn_D"
      }
    },
    {
      "cell_type": "markdown",
      "source": [
        "##Regresión Logística"
      ],
      "metadata": {
        "id": "MdAVBj2wN_vA"
      }
    },
    {
      "cell_type": "code",
      "source": [
        "from sklearn.linear_model import LogisticRegression #Importamos la librería para aplicar Regresión Logística\n",
        "rl = LogisticRegression(random_state=1) #creamos la variable rl para guardar el modelo con los parámetros deseados\n",
        "rl.fit(X_train, y_train) #entrenamos con datos guardados en X_train, y_train\n",
        "rl_pred = rl.predict(X_test) #generamos las predicciones usando como variables predictoras los datos en X_test\n",
        "rl_pred #mostramos las predicciones guardadas en la variable rl_pred"
      ],
      "metadata": {
        "colab": {
          "base_uri": "https://localhost:8080/"
        },
        "id": "0tCwwnPAOCVI",
        "outputId": "9dfb9d3c-50d8-41cb-a8bb-ad0eedae07e1"
      },
      "execution_count": null,
      "outputs": [
        {
          "output_type": "execute_result",
          "data": {
            "text/plain": [
              "array([1, 0, 1, 1, 1, 0, 0, 1, 1, 1, 0, 1, 0, 0, 1, 0, 0, 0, 0, 1, 0, 0,\n",
              "       1, 0, 0, 0, 1, 1, 0, 1, 1, 0, 0, 1, 0, 0, 0, 0, 1, 0, 1, 1, 1, 0,\n",
              "       1, 0, 0, 0, 0, 0, 0, 1, 0, 0, 0, 1, 0, 0, 0, 1, 0, 0, 0, 0, 0, 1,\n",
              "       0, 0, 0, 0, 0, 0, 0, 0, 1, 0, 1, 0, 0, 1, 0, 0, 0, 0, 1, 0, 0, 0,\n",
              "       0, 1, 0, 0, 0, 1, 0, 0, 0, 1, 0, 0, 0, 0, 0, 1, 1, 0, 0, 0, 0, 0,\n",
              "       1, 0, 0, 0, 0, 0, 0, 0, 1, 1, 1, 0, 0, 0, 1, 1, 1, 1, 0, 0, 0, 0,\n",
              "       0, 0])"
            ]
          },
          "metadata": {},
          "execution_count": 132
        }
      ]
    },
    {
      "cell_type": "markdown",
      "source": [
        "*Probabilidades de la predicción sobre el target*"
      ],
      "metadata": {
        "id": "zUtf15MHOFvJ"
      }
    },
    {
      "cell_type": "code",
      "source": [
        "#Calculamos la probabilidades de obtener 1 con el método predict_proba\n",
        "rl_prob = rl.predict_proba(X_test)[:, 1]\n",
        "rl_prob"
      ],
      "metadata": {
        "colab": {
          "base_uri": "https://localhost:8080/"
        },
        "id": "Oc2-FMZWOHUI",
        "outputId": "5fcd2f0b-6e40-4c7f-9755-fbe91b54bbe4"
      },
      "execution_count": null,
      "outputs": [
        {
          "output_type": "execute_result",
          "data": {
            "text/plain": [
              "array([0.91729564, 0.08136309, 0.82118345, 0.72672992, 0.52482667,\n",
              "       0.0826539 , 0.19232699, 0.94525274, 0.50460252, 0.8027339 ,\n",
              "       0.08242648, 0.64878952, 0.34971917, 0.18026305, 0.72616848,\n",
              "       0.35364663, 0.1343863 , 0.12153028, 0.0818032 , 0.63221405,\n",
              "       0.08202955, 0.14262996, 0.93165645, 0.18318907, 0.43221445,\n",
              "       0.08231814, 0.88020459, 0.8184411 , 0.18143172, 0.91935382,\n",
              "       0.64952848, 0.35250892, 0.32647374, 0.73977099, 0.11411516,\n",
              "       0.09878873, 0.35226765, 0.08292933, 0.50455385, 0.08271092,\n",
              "       0.6486182 , 0.66629049, 0.92326366, 0.35068598, 0.57222651,\n",
              "       0.08185386, 0.07136162, 0.18001865, 0.39785405, 0.18255087,\n",
              "       0.21118137, 0.82074147, 0.18221456, 0.18031792, 0.08221043,\n",
              "       0.74005545, 0.18109702, 0.34811681, 0.02301163, 0.64983199,\n",
              "       0.10792254, 0.09763139, 0.25429892, 0.35073088, 0.45771161,\n",
              "       0.70607247, 0.10516566, 0.09765791, 0.38939711, 0.19157263,\n",
              "       0.0887176 , 0.13416234, 0.39515416, 0.0828742 , 0.81672516,\n",
              "       0.22378208, 0.94524752, 0.11562187, 0.39191829, 0.91951427,\n",
              "       0.08270697, 0.00578822, 0.08299   , 0.08190655, 0.84634714,\n",
              "       0.08221031, 0.08167501, 0.09657323, 0.09872091, 0.77585131,\n",
              "       0.35036849, 0.09731202, 0.11529835, 0.72956275, 0.08258002,\n",
              "       0.39690319, 0.08050946, 0.69082927, 0.08276826, 0.08171603,\n",
              "       0.39651268, 0.35137531, 0.10434291, 0.77498835, 0.95476146,\n",
              "       0.08254949, 0.0822004 , 0.08219919, 0.1347748 , 0.0814703 ,\n",
              "       0.5000775 , 0.09782967, 0.17902209, 0.12136865, 0.18180098,\n",
              "       0.08197192, 0.25394795, 0.4569403 , 0.87455279, 0.64794841,\n",
              "       0.87521111, 0.36864517, 0.08253177, 0.18234027, 0.92449325,\n",
              "       0.91896237, 0.81999977, 0.64947127, 0.00579783, 0.11578422,\n",
              "       0.08248335, 0.08135281, 0.27562389, 0.39851879])"
            ]
          },
          "metadata": {},
          "execution_count": 133
        }
      ]
    },
    {
      "cell_type": "markdown",
      "source": [
        "*Coeficientes de la regresión logística*"
      ],
      "metadata": {
        "id": "b3jO-h-COJSA"
      }
    },
    {
      "cell_type": "code",
      "source": [
        "#Mostramos los coeficientes de la ecuación obtenida con la Regresión Logística\n",
        "coeficientes = pd.DataFrame({'variables':X_train.columns.values, 'betas': np.round(rl.coef_[0],4) })\n",
        "coeficientes"
      ],
      "metadata": {
        "colab": {
          "base_uri": "https://localhost:8080/",
          "height": 269
        },
        "id": "won0Y_BkOKyp",
        "outputId": "b521401d-4c81-49cd-8c72-2d4f4ee957ee"
      },
      "execution_count": null,
      "outputs": [
        {
          "output_type": "execute_result",
          "data": {
            "text/plain": [
              "         variables   betas\n",
              "0           Pclass -0.9037\n",
              "1           Genero  0.7561\n",
              "2             Edad -0.7345\n",
              "3           Tarifa  0.1102\n",
              "4       P_embarque  0.0930\n",
              "5  Miembros_de_fam -0.3521\n",
              "6       Viaja_solo -0.7824"
            ],
            "text/html": [
              "\n",
              "  <div id=\"df-cb6a4330-b912-4f21-b32e-ac5ca3b3d391\">\n",
              "    <div class=\"colab-df-container\">\n",
              "      <div>\n",
              "<style scoped>\n",
              "    .dataframe tbody tr th:only-of-type {\n",
              "        vertical-align: middle;\n",
              "    }\n",
              "\n",
              "    .dataframe tbody tr th {\n",
              "        vertical-align: top;\n",
              "    }\n",
              "\n",
              "    .dataframe thead th {\n",
              "        text-align: right;\n",
              "    }\n",
              "</style>\n",
              "<table border=\"1\" class=\"dataframe\">\n",
              "  <thead>\n",
              "    <tr style=\"text-align: right;\">\n",
              "      <th></th>\n",
              "      <th>variables</th>\n",
              "      <th>betas</th>\n",
              "    </tr>\n",
              "  </thead>\n",
              "  <tbody>\n",
              "    <tr>\n",
              "      <th>0</th>\n",
              "      <td>Pclass</td>\n",
              "      <td>-0.9037</td>\n",
              "    </tr>\n",
              "    <tr>\n",
              "      <th>1</th>\n",
              "      <td>Genero</td>\n",
              "      <td>0.7561</td>\n",
              "    </tr>\n",
              "    <tr>\n",
              "      <th>2</th>\n",
              "      <td>Edad</td>\n",
              "      <td>-0.7345</td>\n",
              "    </tr>\n",
              "    <tr>\n",
              "      <th>3</th>\n",
              "      <td>Tarifa</td>\n",
              "      <td>0.1102</td>\n",
              "    </tr>\n",
              "    <tr>\n",
              "      <th>4</th>\n",
              "      <td>P_embarque</td>\n",
              "      <td>0.0930</td>\n",
              "    </tr>\n",
              "    <tr>\n",
              "      <th>5</th>\n",
              "      <td>Miembros_de_fam</td>\n",
              "      <td>-0.3521</td>\n",
              "    </tr>\n",
              "    <tr>\n",
              "      <th>6</th>\n",
              "      <td>Viaja_solo</td>\n",
              "      <td>-0.7824</td>\n",
              "    </tr>\n",
              "  </tbody>\n",
              "</table>\n",
              "</div>\n",
              "      <button class=\"colab-df-convert\" onclick=\"convertToInteractive('df-cb6a4330-b912-4f21-b32e-ac5ca3b3d391')\"\n",
              "              title=\"Convert this dataframe to an interactive table.\"\n",
              "              style=\"display:none;\">\n",
              "        \n",
              "  <svg xmlns=\"http://www.w3.org/2000/svg\" height=\"24px\"viewBox=\"0 0 24 24\"\n",
              "       width=\"24px\">\n",
              "    <path d=\"M0 0h24v24H0V0z\" fill=\"none\"/>\n",
              "    <path d=\"M18.56 5.44l.94 2.06.94-2.06 2.06-.94-2.06-.94-.94-2.06-.94 2.06-2.06.94zm-11 1L8.5 8.5l.94-2.06 2.06-.94-2.06-.94L8.5 2.5l-.94 2.06-2.06.94zm10 10l.94 2.06.94-2.06 2.06-.94-2.06-.94-.94-2.06-.94 2.06-2.06.94z\"/><path d=\"M17.41 7.96l-1.37-1.37c-.4-.4-.92-.59-1.43-.59-.52 0-1.04.2-1.43.59L10.3 9.45l-7.72 7.72c-.78.78-.78 2.05 0 2.83L4 21.41c.39.39.9.59 1.41.59.51 0 1.02-.2 1.41-.59l7.78-7.78 2.81-2.81c.8-.78.8-2.07 0-2.86zM5.41 20L4 18.59l7.72-7.72 1.47 1.35L5.41 20z\"/>\n",
              "  </svg>\n",
              "      </button>\n",
              "      \n",
              "  <style>\n",
              "    .colab-df-container {\n",
              "      display:flex;\n",
              "      flex-wrap:wrap;\n",
              "      gap: 12px;\n",
              "    }\n",
              "\n",
              "    .colab-df-convert {\n",
              "      background-color: #E8F0FE;\n",
              "      border: none;\n",
              "      border-radius: 50%;\n",
              "      cursor: pointer;\n",
              "      display: none;\n",
              "      fill: #1967D2;\n",
              "      height: 32px;\n",
              "      padding: 0 0 0 0;\n",
              "      width: 32px;\n",
              "    }\n",
              "\n",
              "    .colab-df-convert:hover {\n",
              "      background-color: #E2EBFA;\n",
              "      box-shadow: 0px 1px 2px rgba(60, 64, 67, 0.3), 0px 1px 3px 1px rgba(60, 64, 67, 0.15);\n",
              "      fill: #174EA6;\n",
              "    }\n",
              "\n",
              "    [theme=dark] .colab-df-convert {\n",
              "      background-color: #3B4455;\n",
              "      fill: #D2E3FC;\n",
              "    }\n",
              "\n",
              "    [theme=dark] .colab-df-convert:hover {\n",
              "      background-color: #434B5C;\n",
              "      box-shadow: 0px 1px 3px 1px rgba(0, 0, 0, 0.15);\n",
              "      filter: drop-shadow(0px 1px 2px rgba(0, 0, 0, 0.3));\n",
              "      fill: #FFFFFF;\n",
              "    }\n",
              "  </style>\n",
              "\n",
              "      <script>\n",
              "        const buttonEl =\n",
              "          document.querySelector('#df-cb6a4330-b912-4f21-b32e-ac5ca3b3d391 button.colab-df-convert');\n",
              "        buttonEl.style.display =\n",
              "          google.colab.kernel.accessAllowed ? 'block' : 'none';\n",
              "\n",
              "        async function convertToInteractive(key) {\n",
              "          const element = document.querySelector('#df-cb6a4330-b912-4f21-b32e-ac5ca3b3d391');\n",
              "          const dataTable =\n",
              "            await google.colab.kernel.invokeFunction('convertToInteractive',\n",
              "                                                     [key], {});\n",
              "          if (!dataTable) return;\n",
              "\n",
              "          const docLinkHtml = 'Like what you see? Visit the ' +\n",
              "            '<a target=\"_blank\" href=https://colab.research.google.com/notebooks/data_table.ipynb>data table notebook</a>'\n",
              "            + ' to learn more about interactive tables.';\n",
              "          element.innerHTML = '';\n",
              "          dataTable['output_type'] = 'display_data';\n",
              "          await google.colab.output.renderOutput(dataTable, element);\n",
              "          const docLink = document.createElement('div');\n",
              "          docLink.innerHTML = docLinkHtml;\n",
              "          element.appendChild(docLink);\n",
              "        }\n",
              "      </script>\n",
              "    </div>\n",
              "  </div>\n",
              "  "
            ]
          },
          "metadata": {},
          "execution_count": 134
        }
      ]
    },
    {
      "cell_type": "code",
      "source": [
        "#Calculamos el accuracy comparando las predicciones generadas versus y_test\n",
        "from sklearn.metrics import accuracy_score\n",
        "print('El accuracy para mi primero modelo es :{0:.2f}'.format(accuracy_score(y_test,rl_pred))) #usando la expresión regex .2f para mostrar 2 decimales"
      ],
      "metadata": {
        "colab": {
          "base_uri": "https://localhost:8080/"
        },
        "id": "2SaSRWq3OODt",
        "outputId": "06cc1d79-582f-4ff8-bd67-6ace2b7238a5"
      },
      "execution_count": null,
      "outputs": [
        {
          "output_type": "stream",
          "name": "stdout",
          "text": [
            "El accuracy para mi primero modelo es :0.81\n"
          ]
        }
      ]
    },
    {
      "cell_type": "markdown",
      "source": [
        "*Score de la Regresión Logística*"
      ],
      "metadata": {
        "id": "b-_HDwBLOMlR"
      }
    },
    {
      "cell_type": "markdown",
      "source": [
        "##Perceptrón Multicapa"
      ],
      "metadata": {
        "id": "CAhL9js9MJss"
      }
    },
    {
      "cell_type": "code",
      "source": [
        "y = train['Sobrevivio']\n",
        "\n",
        "X = train.iloc[:, 1:8]"
      ],
      "metadata": {
        "id": "kWIFlu4iNLAw"
      },
      "execution_count": null,
      "outputs": []
    },
    {
      "cell_type": "code",
      "source": [
        "#dividir el dataset\n",
        "from sklearn.model_selection import train_test_split\n",
        "\n",
        "train_X, val_X, train_y, val_y = train_test_split(X, y, test_size=0.15, random_state=18)"
      ],
      "metadata": {
        "id": "AiB-nmobMx2Q"
      },
      "execution_count": null,
      "outputs": []
    },
    {
      "cell_type": "code",
      "source": [
        "from tensorflow import keras\n",
        "from tensorflow.keras import layers, callbacks"
      ],
      "metadata": {
        "id": "odHctf8mL73c"
      },
      "execution_count": null,
      "outputs": []
    },
    {
      "cell_type": "code",
      "source": [
        "#early stopping para evitar el overfitting\n",
        "\n",
        "early_stopping = callbacks.EarlyStopping(\n",
        "    min_delta=0.02,   #cantidad mínima de cambio para contar como una mejora\n",
        "    patience=30,      #cuantas epocas esperar para detener el entrenamiento\n",
        "    restore_best_weights=True,\n",
        "    )"
      ],
      "metadata": {
        "id": "8hs2-fObMNC4"
      },
      "execution_count": null,
      "outputs": []
    },
    {
      "cell_type": "code",
      "source": [
        "#crear red neuronal artificial\n",
        "model = keras.Sequential([\n",
        "    \n",
        "#crear capa de entrada\n",
        "    layers.Dense(units=1, activation = 'relu', input_shape=[7]),\n",
        " \n",
        "#crear capa oculta\n",
        "     layers.Dense(units=1, activation = 'relu'),\n",
        "     \n",
        "#crear capa de salida\n",
        "\n",
        "     layers.Dense(units=1, activation='sigmoid'),\n",
        "\n",
        "   ])"
      ],
      "metadata": {
        "id": "0Z7pXr9FMOpA"
      },
      "execution_count": null,
      "outputs": []
    },
    {
      "cell_type": "code",
      "source": [
        "#definir optimizador, función de pérdida y métricas\n",
        "\n",
        "model.compile(\n",
        "    optimizer = 'adam',\n",
        "    loss = 'binary_crossentropy',\n",
        "    metrics=['binary_accuracy'],\n",
        "    )"
      ],
      "metadata": {
        "id": "SVfpWbZXMRJv"
      },
      "execution_count": null,
      "outputs": []
    },
    {
      "cell_type": "code",
      "source": [
        "#definir tamaño de lote, épocas, etc.\n",
        "history = model.fit(\n",
        "        train_X, train_y,\n",
        "        validation_data=(val_X, val_y),\n",
        "        batch_size=20,\n",
        "        epochs=140,\n",
        "        callbacks=[early_stopping]\n",
        "        )"
      ],
      "metadata": {
        "colab": {
          "base_uri": "https://localhost:8080/"
        },
        "id": "DvawKfdzMXEB",
        "outputId": "0f2ebf72-3029-4d81-9c6b-f92afd84d0f0"
      },
      "execution_count": null,
      "outputs": [
        {
          "output_type": "stream",
          "name": "stdout",
          "text": [
            "Epoch 1/140\n",
            "38/38 [==============================] - 3s 11ms/step - loss: 0.8274 - binary_accuracy: 0.6196 - val_loss: 0.8236 - val_binary_accuracy: 0.5970\n",
            "Epoch 2/140\n",
            "38/38 [==============================] - 0s 6ms/step - loss: 0.7862 - binary_accuracy: 0.6196 - val_loss: 0.7877 - val_binary_accuracy: 0.5970\n",
            "Epoch 3/140\n",
            "38/38 [==============================] - 0s 5ms/step - loss: 0.7612 - binary_accuracy: 0.6196 - val_loss: 0.7636 - val_binary_accuracy: 0.5970\n",
            "Epoch 4/140\n",
            "38/38 [==============================] - 0s 7ms/step - loss: 0.7435 - binary_accuracy: 0.6196 - val_loss: 0.7475 - val_binary_accuracy: 0.5970\n",
            "Epoch 5/140\n",
            "38/38 [==============================] - 0s 9ms/step - loss: 0.7316 - binary_accuracy: 0.6196 - val_loss: 0.7353 - val_binary_accuracy: 0.5970\n",
            "Epoch 6/140\n",
            "38/38 [==============================] - 0s 11ms/step - loss: 0.7226 - binary_accuracy: 0.6196 - val_loss: 0.7268 - val_binary_accuracy: 0.5970\n",
            "Epoch 7/140\n",
            "38/38 [==============================] - 0s 8ms/step - loss: 0.7159 - binary_accuracy: 0.6196 - val_loss: 0.7200 - val_binary_accuracy: 0.5970\n",
            "Epoch 8/140\n",
            "38/38 [==============================] - 0s 9ms/step - loss: 0.7103 - binary_accuracy: 0.6196 - val_loss: 0.7142 - val_binary_accuracy: 0.5970\n",
            "Epoch 9/140\n",
            "38/38 [==============================] - 0s 11ms/step - loss: 0.7058 - binary_accuracy: 0.6196 - val_loss: 0.7095 - val_binary_accuracy: 0.5970\n",
            "Epoch 10/140\n",
            "38/38 [==============================] - 0s 7ms/step - loss: 0.7018 - binary_accuracy: 0.6196 - val_loss: 0.7061 - val_binary_accuracy: 0.5970\n",
            "Epoch 11/140\n",
            "38/38 [==============================] - 0s 11ms/step - loss: 0.6989 - binary_accuracy: 0.6196 - val_loss: 0.7024 - val_binary_accuracy: 0.5970\n",
            "Epoch 12/140\n",
            "38/38 [==============================] - 0s 5ms/step - loss: 0.6955 - binary_accuracy: 0.6196 - val_loss: 0.6998 - val_binary_accuracy: 0.5970\n",
            "Epoch 13/140\n",
            "38/38 [==============================] - 0s 7ms/step - loss: 0.6929 - binary_accuracy: 0.6196 - val_loss: 0.6973 - val_binary_accuracy: 0.5970\n",
            "Epoch 14/140\n",
            "38/38 [==============================] - 0s 8ms/step - loss: 0.6905 - binary_accuracy: 0.6196 - val_loss: 0.6952 - val_binary_accuracy: 0.5970\n",
            "Epoch 15/140\n",
            "38/38 [==============================] - 0s 6ms/step - loss: 0.6883 - binary_accuracy: 0.6196 - val_loss: 0.6930 - val_binary_accuracy: 0.5970\n",
            "Epoch 16/140\n",
            "38/38 [==============================] - 0s 7ms/step - loss: 0.6863 - binary_accuracy: 0.6196 - val_loss: 0.6913 - val_binary_accuracy: 0.5970\n",
            "Epoch 17/140\n",
            "38/38 [==============================] - 0s 5ms/step - loss: 0.6846 - binary_accuracy: 0.6196 - val_loss: 0.6897 - val_binary_accuracy: 0.5970\n",
            "Epoch 18/140\n",
            "38/38 [==============================] - 0s 5ms/step - loss: 0.6829 - binary_accuracy: 0.6196 - val_loss: 0.6881 - val_binary_accuracy: 0.5970\n",
            "Epoch 19/140\n",
            "38/38 [==============================] - 0s 5ms/step - loss: 0.6815 - binary_accuracy: 0.6196 - val_loss: 0.6869 - val_binary_accuracy: 0.5970\n",
            "Epoch 20/140\n",
            "38/38 [==============================] - 0s 6ms/step - loss: 0.6801 - binary_accuracy: 0.6196 - val_loss: 0.6855 - val_binary_accuracy: 0.5970\n",
            "Epoch 21/140\n",
            "38/38 [==============================] - 0s 5ms/step - loss: 0.6787 - binary_accuracy: 0.6196 - val_loss: 0.6845 - val_binary_accuracy: 0.5970\n",
            "Epoch 22/140\n",
            "38/38 [==============================] - 0s 8ms/step - loss: 0.6775 - binary_accuracy: 0.6196 - val_loss: 0.6835 - val_binary_accuracy: 0.5970\n",
            "Epoch 23/140\n",
            "38/38 [==============================] - 0s 8ms/step - loss: 0.6765 - binary_accuracy: 0.6196 - val_loss: 0.6825 - val_binary_accuracy: 0.5970\n",
            "Epoch 24/140\n",
            "38/38 [==============================] - 0s 5ms/step - loss: 0.6754 - binary_accuracy: 0.6196 - val_loss: 0.6816 - val_binary_accuracy: 0.5970\n",
            "Epoch 25/140\n",
            "38/38 [==============================] - 0s 5ms/step - loss: 0.6744 - binary_accuracy: 0.6196 - val_loss: 0.6808 - val_binary_accuracy: 0.5970\n",
            "Epoch 26/140\n",
            "38/38 [==============================] - 0s 6ms/step - loss: 0.6736 - binary_accuracy: 0.6196 - val_loss: 0.6800 - val_binary_accuracy: 0.5970\n",
            "Epoch 27/140\n",
            "38/38 [==============================] - 0s 6ms/step - loss: 0.6727 - binary_accuracy: 0.6196 - val_loss: 0.6793 - val_binary_accuracy: 0.5970\n",
            "Epoch 28/140\n",
            "38/38 [==============================] - 0s 5ms/step - loss: 0.6718 - binary_accuracy: 0.6196 - val_loss: 0.6787 - val_binary_accuracy: 0.5970\n",
            "Epoch 29/140\n",
            "38/38 [==============================] - 0s 5ms/step - loss: 0.6710 - binary_accuracy: 0.6196 - val_loss: 0.6780 - val_binary_accuracy: 0.5970\n",
            "Epoch 30/140\n",
            "38/38 [==============================] - 0s 3ms/step - loss: 0.6702 - binary_accuracy: 0.6196 - val_loss: 0.6773 - val_binary_accuracy: 0.5970\n",
            "Epoch 31/140\n",
            "38/38 [==============================] - 0s 2ms/step - loss: 0.6695 - binary_accuracy: 0.6196 - val_loss: 0.6768 - val_binary_accuracy: 0.5970\n",
            "Epoch 32/140\n",
            "38/38 [==============================] - 0s 4ms/step - loss: 0.6691 - binary_accuracy: 0.6196 - val_loss: 0.6760 - val_binary_accuracy: 0.5970\n",
            "Epoch 33/140\n",
            "38/38 [==============================] - 0s 8ms/step - loss: 0.6682 - binary_accuracy: 0.6196 - val_loss: 0.6756 - val_binary_accuracy: 0.5970\n",
            "Epoch 34/140\n",
            "38/38 [==============================] - 0s 5ms/step - loss: 0.6675 - binary_accuracy: 0.6196 - val_loss: 0.6750 - val_binary_accuracy: 0.5970\n",
            "Epoch 35/140\n",
            "38/38 [==============================] - 0s 6ms/step - loss: 0.6669 - binary_accuracy: 0.6196 - val_loss: 0.6744 - val_binary_accuracy: 0.5970\n",
            "Epoch 36/140\n",
            "38/38 [==============================] - 0s 5ms/step - loss: 0.6662 - binary_accuracy: 0.6196 - val_loss: 0.6739 - val_binary_accuracy: 0.5970\n",
            "Epoch 37/140\n",
            "38/38 [==============================] - 0s 9ms/step - loss: 0.6655 - binary_accuracy: 0.6196 - val_loss: 0.6733 - val_binary_accuracy: 0.5970\n",
            "Epoch 38/140\n",
            "38/38 [==============================] - 0s 9ms/step - loss: 0.6647 - binary_accuracy: 0.6196 - val_loss: 0.6725 - val_binary_accuracy: 0.5970\n",
            "Epoch 39/140\n",
            "38/38 [==============================] - 0s 5ms/step - loss: 0.6640 - binary_accuracy: 0.6196 - val_loss: 0.6719 - val_binary_accuracy: 0.5970\n",
            "Epoch 40/140\n",
            "38/38 [==============================] - 0s 7ms/step - loss: 0.6632 - binary_accuracy: 0.6196 - val_loss: 0.6711 - val_binary_accuracy: 0.5970\n",
            "Epoch 41/140\n",
            "38/38 [==============================] - 0s 5ms/step - loss: 0.6626 - binary_accuracy: 0.6196 - val_loss: 0.6705 - val_binary_accuracy: 0.5970\n",
            "Epoch 42/140\n",
            "38/38 [==============================] - 0s 6ms/step - loss: 0.6615 - binary_accuracy: 0.6196 - val_loss: 0.6695 - val_binary_accuracy: 0.5970\n",
            "Epoch 43/140\n",
            "38/38 [==============================] - 0s 7ms/step - loss: 0.6606 - binary_accuracy: 0.6196 - val_loss: 0.6686 - val_binary_accuracy: 0.5970\n",
            "Epoch 44/140\n",
            "38/38 [==============================] - 0s 7ms/step - loss: 0.6596 - binary_accuracy: 0.6196 - val_loss: 0.6676 - val_binary_accuracy: 0.5970\n",
            "Epoch 45/140\n",
            "38/38 [==============================] - 0s 5ms/step - loss: 0.6586 - binary_accuracy: 0.6196 - val_loss: 0.6663 - val_binary_accuracy: 0.5970\n",
            "Epoch 46/140\n",
            "38/38 [==============================] - 0s 6ms/step - loss: 0.6573 - binary_accuracy: 0.6196 - val_loss: 0.6651 - val_binary_accuracy: 0.5970\n",
            "Epoch 47/140\n",
            "38/38 [==============================] - 0s 6ms/step - loss: 0.6561 - binary_accuracy: 0.6196 - val_loss: 0.6637 - val_binary_accuracy: 0.5970\n",
            "Epoch 48/140\n",
            "38/38 [==============================] - 0s 9ms/step - loss: 0.6542 - binary_accuracy: 0.6196 - val_loss: 0.6616 - val_binary_accuracy: 0.5970\n",
            "Epoch 49/140\n",
            "38/38 [==============================] - 0s 7ms/step - loss: 0.6523 - binary_accuracy: 0.6196 - val_loss: 0.6597 - val_binary_accuracy: 0.5970\n",
            "Epoch 50/140\n",
            "38/38 [==============================] - 0s 5ms/step - loss: 0.6503 - binary_accuracy: 0.6196 - val_loss: 0.6573 - val_binary_accuracy: 0.5970\n",
            "Epoch 51/140\n",
            "38/38 [==============================] - 0s 6ms/step - loss: 0.6476 - binary_accuracy: 0.6196 - val_loss: 0.6543 - val_binary_accuracy: 0.5970\n",
            "Epoch 52/140\n",
            "38/38 [==============================] - 0s 9ms/step - loss: 0.6446 - binary_accuracy: 0.6196 - val_loss: 0.6508 - val_binary_accuracy: 0.5970\n",
            "Epoch 53/140\n",
            "38/38 [==============================] - 0s 9ms/step - loss: 0.6411 - binary_accuracy: 0.6196 - val_loss: 0.6467 - val_binary_accuracy: 0.5970\n",
            "Epoch 54/140\n",
            "38/38 [==============================] - 0s 7ms/step - loss: 0.6367 - binary_accuracy: 0.6196 - val_loss: 0.6416 - val_binary_accuracy: 0.5970\n",
            "Epoch 55/140\n",
            "38/38 [==============================] - 0s 4ms/step - loss: 0.6312 - binary_accuracy: 0.6196 - val_loss: 0.6349 - val_binary_accuracy: 0.5970\n",
            "Epoch 56/140\n",
            "38/38 [==============================] - 0s 3ms/step - loss: 0.6248 - binary_accuracy: 0.6196 - val_loss: 0.6272 - val_binary_accuracy: 0.5970\n",
            "Epoch 57/140\n",
            "38/38 [==============================] - 0s 4ms/step - loss: 0.6176 - binary_accuracy: 0.6196 - val_loss: 0.6191 - val_binary_accuracy: 0.5970\n",
            "Epoch 58/140\n",
            "38/38 [==============================] - 0s 3ms/step - loss: 0.6106 - binary_accuracy: 0.6196 - val_loss: 0.6107 - val_binary_accuracy: 0.5970\n",
            "Epoch 59/140\n",
            "38/38 [==============================] - 0s 3ms/step - loss: 0.6035 - binary_accuracy: 0.6196 - val_loss: 0.6024 - val_binary_accuracy: 0.5970\n",
            "Epoch 60/140\n",
            "38/38 [==============================] - 0s 4ms/step - loss: 0.5962 - binary_accuracy: 0.6196 - val_loss: 0.5933 - val_binary_accuracy: 0.5970\n",
            "Epoch 61/140\n",
            "38/38 [==============================] - 0s 3ms/step - loss: 0.5885 - binary_accuracy: 0.6196 - val_loss: 0.5843 - val_binary_accuracy: 0.5970\n",
            "Epoch 62/140\n",
            "38/38 [==============================] - 0s 3ms/step - loss: 0.5810 - binary_accuracy: 0.6196 - val_loss: 0.5739 - val_binary_accuracy: 0.5970\n",
            "Epoch 63/140\n",
            "38/38 [==============================] - 0s 3ms/step - loss: 0.5738 - binary_accuracy: 0.6196 - val_loss: 0.5642 - val_binary_accuracy: 0.5970\n",
            "Epoch 64/140\n",
            "38/38 [==============================] - 0s 2ms/step - loss: 0.5661 - binary_accuracy: 0.6196 - val_loss: 0.5554 - val_binary_accuracy: 0.5970\n",
            "Epoch 65/140\n",
            "38/38 [==============================] - 0s 3ms/step - loss: 0.5589 - binary_accuracy: 0.6196 - val_loss: 0.5466 - val_binary_accuracy: 0.5970\n",
            "Epoch 66/140\n",
            "38/38 [==============================] - 0s 3ms/step - loss: 0.5531 - binary_accuracy: 0.6196 - val_loss: 0.5393 - val_binary_accuracy: 0.5970\n",
            "Epoch 67/140\n",
            "38/38 [==============================] - 0s 3ms/step - loss: 0.5477 - binary_accuracy: 0.6579 - val_loss: 0.5323 - val_binary_accuracy: 0.7388\n",
            "Epoch 68/140\n",
            "38/38 [==============================] - 0s 3ms/step - loss: 0.5430 - binary_accuracy: 0.7781 - val_loss: 0.5261 - val_binary_accuracy: 0.7388\n",
            "Epoch 69/140\n",
            "38/38 [==============================] - 0s 3ms/step - loss: 0.5389 - binary_accuracy: 0.7741 - val_loss: 0.5201 - val_binary_accuracy: 0.7463\n",
            "Epoch 70/140\n",
            "38/38 [==============================] - 0s 3ms/step - loss: 0.5349 - binary_accuracy: 0.7807 - val_loss: 0.5137 - val_binary_accuracy: 0.7612\n",
            "Epoch 71/140\n",
            "38/38 [==============================] - 0s 3ms/step - loss: 0.5315 - binary_accuracy: 0.7900 - val_loss: 0.5082 - val_binary_accuracy: 0.7612\n",
            "Epoch 72/140\n",
            "38/38 [==============================] - 0s 3ms/step - loss: 0.5280 - binary_accuracy: 0.7926 - val_loss: 0.5037 - val_binary_accuracy: 0.7687\n",
            "Epoch 73/140\n",
            "38/38 [==============================] - 0s 3ms/step - loss: 0.5252 - binary_accuracy: 0.7952 - val_loss: 0.4991 - val_binary_accuracy: 0.7836\n",
            "Epoch 74/140\n",
            "38/38 [==============================] - 0s 3ms/step - loss: 0.5227 - binary_accuracy: 0.7966 - val_loss: 0.4950 - val_binary_accuracy: 0.7836\n",
            "Epoch 75/140\n",
            "38/38 [==============================] - 0s 3ms/step - loss: 0.5198 - binary_accuracy: 0.7939 - val_loss: 0.4909 - val_binary_accuracy: 0.7761\n",
            "Epoch 76/140\n",
            "38/38 [==============================] - 0s 3ms/step - loss: 0.5172 - binary_accuracy: 0.7952 - val_loss: 0.4879 - val_binary_accuracy: 0.7761\n",
            "Epoch 77/140\n",
            "38/38 [==============================] - 0s 3ms/step - loss: 0.5152 - binary_accuracy: 0.8005 - val_loss: 0.4845 - val_binary_accuracy: 0.7836\n",
            "Epoch 78/140\n",
            "38/38 [==============================] - 0s 3ms/step - loss: 0.5129 - binary_accuracy: 0.7966 - val_loss: 0.4812 - val_binary_accuracy: 0.7761\n",
            "Epoch 79/140\n",
            "38/38 [==============================] - 0s 3ms/step - loss: 0.5110 - binary_accuracy: 0.7979 - val_loss: 0.4787 - val_binary_accuracy: 0.7761\n",
            "Epoch 80/140\n",
            "38/38 [==============================] - 0s 3ms/step - loss: 0.5093 - binary_accuracy: 0.7966 - val_loss: 0.4757 - val_binary_accuracy: 0.7761\n",
            "Epoch 81/140\n",
            "38/38 [==============================] - 0s 3ms/step - loss: 0.5073 - binary_accuracy: 0.7966 - val_loss: 0.4732 - val_binary_accuracy: 0.7761\n",
            "Epoch 82/140\n",
            "38/38 [==============================] - 0s 2ms/step - loss: 0.5055 - binary_accuracy: 0.7992 - val_loss: 0.4706 - val_binary_accuracy: 0.7761\n",
            "Epoch 83/140\n",
            "38/38 [==============================] - 0s 3ms/step - loss: 0.5041 - binary_accuracy: 0.7992 - val_loss: 0.4682 - val_binary_accuracy: 0.7761\n",
            "Epoch 84/140\n",
            "38/38 [==============================] - 0s 3ms/step - loss: 0.5025 - binary_accuracy: 0.7992 - val_loss: 0.4664 - val_binary_accuracy: 0.7761\n",
            "Epoch 85/140\n",
            "38/38 [==============================] - 0s 3ms/step - loss: 0.5013 - binary_accuracy: 0.7992 - val_loss: 0.4642 - val_binary_accuracy: 0.7761\n",
            "Epoch 86/140\n",
            "38/38 [==============================] - 0s 3ms/step - loss: 0.4999 - binary_accuracy: 0.7992 - val_loss: 0.4622 - val_binary_accuracy: 0.7761\n",
            "Epoch 87/140\n",
            "38/38 [==============================] - 0s 3ms/step - loss: 0.4985 - binary_accuracy: 0.7992 - val_loss: 0.4604 - val_binary_accuracy: 0.7761\n",
            "Epoch 88/140\n",
            "38/38 [==============================] - 0s 2ms/step - loss: 0.4971 - binary_accuracy: 0.7992 - val_loss: 0.4589 - val_binary_accuracy: 0.7761\n",
            "Epoch 89/140\n",
            "38/38 [==============================] - 0s 3ms/step - loss: 0.4959 - binary_accuracy: 0.7992 - val_loss: 0.4573 - val_binary_accuracy: 0.7761\n",
            "Epoch 90/140\n",
            "38/38 [==============================] - 0s 3ms/step - loss: 0.4948 - binary_accuracy: 0.7992 - val_loss: 0.4556 - val_binary_accuracy: 0.7761\n",
            "Epoch 91/140\n",
            "38/38 [==============================] - 0s 3ms/step - loss: 0.4937 - binary_accuracy: 0.7992 - val_loss: 0.4542 - val_binary_accuracy: 0.7761\n",
            "Epoch 92/140\n",
            "38/38 [==============================] - 0s 3ms/step - loss: 0.4927 - binary_accuracy: 0.7992 - val_loss: 0.4529 - val_binary_accuracy: 0.7761\n",
            "Epoch 93/140\n",
            "38/38 [==============================] - 0s 3ms/step - loss: 0.4917 - binary_accuracy: 0.7992 - val_loss: 0.4512 - val_binary_accuracy: 0.7761\n",
            "Epoch 94/140\n",
            "38/38 [==============================] - 0s 3ms/step - loss: 0.4907 - binary_accuracy: 0.8018 - val_loss: 0.4505 - val_binary_accuracy: 0.8134\n",
            "Epoch 95/140\n",
            "38/38 [==============================] - 0s 3ms/step - loss: 0.4898 - binary_accuracy: 0.8058 - val_loss: 0.4488 - val_binary_accuracy: 0.7985\n",
            "Epoch 96/140\n",
            "38/38 [==============================] - 0s 3ms/step - loss: 0.4890 - binary_accuracy: 0.8071 - val_loss: 0.4476 - val_binary_accuracy: 0.8060\n",
            "Epoch 97/140\n",
            "38/38 [==============================] - 0s 3ms/step - loss: 0.4880 - binary_accuracy: 0.8071 - val_loss: 0.4466 - val_binary_accuracy: 0.8060\n",
            "Epoch 98/140\n",
            "38/38 [==============================] - 0s 3ms/step - loss: 0.4873 - binary_accuracy: 0.8058 - val_loss: 0.4458 - val_binary_accuracy: 0.8134\n",
            "Epoch 99/140\n",
            "38/38 [==============================] - 0s 3ms/step - loss: 0.4867 - binary_accuracy: 0.8045 - val_loss: 0.4444 - val_binary_accuracy: 0.8134\n",
            "Epoch 100/140\n",
            "38/38 [==============================] - 0s 3ms/step - loss: 0.4861 - binary_accuracy: 0.8058 - val_loss: 0.4435 - val_binary_accuracy: 0.8134\n",
            "Epoch 101/140\n",
            "38/38 [==============================] - 0s 3ms/step - loss: 0.4851 - binary_accuracy: 0.8071 - val_loss: 0.4426 - val_binary_accuracy: 0.8134\n",
            "Epoch 102/140\n",
            "38/38 [==============================] - 0s 3ms/step - loss: 0.4846 - binary_accuracy: 0.8071 - val_loss: 0.4422 - val_binary_accuracy: 0.8209\n",
            "Epoch 103/140\n",
            "38/38 [==============================] - 0s 3ms/step - loss: 0.4839 - binary_accuracy: 0.8085 - val_loss: 0.4407 - val_binary_accuracy: 0.8284\n",
            "Epoch 104/140\n",
            "38/38 [==============================] - 0s 3ms/step - loss: 0.4831 - binary_accuracy: 0.8071 - val_loss: 0.4398 - val_binary_accuracy: 0.8209\n",
            "Epoch 105/140\n",
            "38/38 [==============================] - 0s 3ms/step - loss: 0.4825 - binary_accuracy: 0.8071 - val_loss: 0.4393 - val_binary_accuracy: 0.8284\n",
            "Epoch 106/140\n",
            "38/38 [==============================] - 0s 3ms/step - loss: 0.4817 - binary_accuracy: 0.8071 - val_loss: 0.4385 - val_binary_accuracy: 0.8284\n",
            "Epoch 107/140\n",
            "38/38 [==============================] - 0s 3ms/step - loss: 0.4813 - binary_accuracy: 0.8058 - val_loss: 0.4382 - val_binary_accuracy: 0.8284\n",
            "Epoch 108/140\n",
            "38/38 [==============================] - 0s 3ms/step - loss: 0.4810 - binary_accuracy: 0.8071 - val_loss: 0.4370 - val_binary_accuracy: 0.8284\n",
            "Epoch 109/140\n",
            "38/38 [==============================] - 0s 3ms/step - loss: 0.4805 - binary_accuracy: 0.8058 - val_loss: 0.4363 - val_binary_accuracy: 0.8358\n",
            "Epoch 110/140\n",
            "38/38 [==============================] - 0s 2ms/step - loss: 0.4805 - binary_accuracy: 0.7992 - val_loss: 0.4361 - val_binary_accuracy: 0.8284\n",
            "Epoch 111/140\n",
            "38/38 [==============================] - 0s 3ms/step - loss: 0.4797 - binary_accuracy: 0.8045 - val_loss: 0.4351 - val_binary_accuracy: 0.8284\n",
            "Epoch 112/140\n",
            "38/38 [==============================] - 0s 3ms/step - loss: 0.4786 - binary_accuracy: 0.8058 - val_loss: 0.4346 - val_binary_accuracy: 0.8284\n",
            "Epoch 113/140\n",
            "38/38 [==============================] - 0s 3ms/step - loss: 0.4782 - binary_accuracy: 0.8045 - val_loss: 0.4337 - val_binary_accuracy: 0.8284\n",
            "Epoch 114/140\n",
            "38/38 [==============================] - 0s 3ms/step - loss: 0.4777 - binary_accuracy: 0.8045 - val_loss: 0.4333 - val_binary_accuracy: 0.8284\n",
            "Epoch 115/140\n",
            "38/38 [==============================] - 0s 3ms/step - loss: 0.4774 - binary_accuracy: 0.8071 - val_loss: 0.4329 - val_binary_accuracy: 0.8284\n",
            "Epoch 116/140\n",
            "38/38 [==============================] - 0s 3ms/step - loss: 0.4770 - binary_accuracy: 0.8045 - val_loss: 0.4326 - val_binary_accuracy: 0.8284\n",
            "Epoch 117/140\n",
            "38/38 [==============================] - 0s 3ms/step - loss: 0.4768 - binary_accuracy: 0.8045 - val_loss: 0.4318 - val_binary_accuracy: 0.8284\n",
            "Epoch 118/140\n",
            "38/38 [==============================] - 0s 3ms/step - loss: 0.4761 - binary_accuracy: 0.8045 - val_loss: 0.4312 - val_binary_accuracy: 0.8284\n",
            "Epoch 119/140\n",
            "38/38 [==============================] - 0s 3ms/step - loss: 0.4757 - binary_accuracy: 0.8045 - val_loss: 0.4304 - val_binary_accuracy: 0.8284\n",
            "Epoch 120/140\n",
            "38/38 [==============================] - 0s 3ms/step - loss: 0.4757 - binary_accuracy: 0.8058 - val_loss: 0.4303 - val_binary_accuracy: 0.8284\n",
            "Epoch 121/140\n",
            "38/38 [==============================] - 0s 3ms/step - loss: 0.4749 - binary_accuracy: 0.8045 - val_loss: 0.4296 - val_binary_accuracy: 0.8284\n",
            "Epoch 122/140\n",
            "38/38 [==============================] - 0s 2ms/step - loss: 0.4746 - binary_accuracy: 0.8045 - val_loss: 0.4295 - val_binary_accuracy: 0.8284\n",
            "Epoch 123/140\n",
            "38/38 [==============================] - 0s 3ms/step - loss: 0.4742 - binary_accuracy: 0.8045 - val_loss: 0.4291 - val_binary_accuracy: 0.8284\n",
            "Epoch 124/140\n",
            "38/38 [==============================] - 0s 2ms/step - loss: 0.4739 - binary_accuracy: 0.8045 - val_loss: 0.4286 - val_binary_accuracy: 0.8284\n",
            "Epoch 125/140\n",
            "38/38 [==============================] - 0s 3ms/step - loss: 0.4735 - binary_accuracy: 0.8045 - val_loss: 0.4279 - val_binary_accuracy: 0.8284\n",
            "Epoch 126/140\n",
            "38/38 [==============================] - 0s 3ms/step - loss: 0.4734 - binary_accuracy: 0.8045 - val_loss: 0.4277 - val_binary_accuracy: 0.8284\n",
            "Epoch 127/140\n",
            "38/38 [==============================] - 0s 2ms/step - loss: 0.4735 - binary_accuracy: 0.8045 - val_loss: 0.4274 - val_binary_accuracy: 0.8284\n",
            "Epoch 128/140\n",
            "38/38 [==============================] - 0s 3ms/step - loss: 0.4725 - binary_accuracy: 0.8045 - val_loss: 0.4270 - val_binary_accuracy: 0.8284\n",
            "Epoch 129/140\n",
            "38/38 [==============================] - 0s 4ms/step - loss: 0.4723 - binary_accuracy: 0.8045 - val_loss: 0.4269 - val_binary_accuracy: 0.8284\n",
            "Epoch 130/140\n",
            "38/38 [==============================] - 0s 3ms/step - loss: 0.4718 - binary_accuracy: 0.8045 - val_loss: 0.4265 - val_binary_accuracy: 0.8284\n",
            "Epoch 131/140\n",
            "38/38 [==============================] - 0s 3ms/step - loss: 0.4716 - binary_accuracy: 0.8045 - val_loss: 0.4265 - val_binary_accuracy: 0.8284\n",
            "Epoch 132/140\n",
            "38/38 [==============================] - 0s 3ms/step - loss: 0.4716 - binary_accuracy: 0.8045 - val_loss: 0.4264 - val_binary_accuracy: 0.8284\n",
            "Epoch 133/140\n",
            "38/38 [==============================] - 0s 3ms/step - loss: 0.4711 - binary_accuracy: 0.8045 - val_loss: 0.4263 - val_binary_accuracy: 0.8284\n",
            "Epoch 134/140\n",
            "38/38 [==============================] - 0s 3ms/step - loss: 0.4713 - binary_accuracy: 0.7992 - val_loss: 0.4262 - val_binary_accuracy: 0.8284\n"
          ]
        }
      ]
    },
    {
      "cell_type": "code",
      "source": [
        "#definir y_pred\n",
        "y_pred = model.predict(X_test)"
      ],
      "metadata": {
        "colab": {
          "base_uri": "https://localhost:8080/"
        },
        "id": "DRLJp8h0MnFS",
        "outputId": "35b9a218-ab58-4069-b737-9f13a2836398"
      },
      "execution_count": null,
      "outputs": [
        {
          "output_type": "stream",
          "name": "stdout",
          "text": [
            "5/5 [==============================] - 0s 2ms/step\n"
          ]
        }
      ]
    },
    {
      "cell_type": "code",
      "source": [
        "#transformar datos a binarios discretos\n",
        "y_pred1 = list(map(lambda x:1 if x>0.5 else 0, y_pred))"
      ],
      "metadata": {
        "id": "V9BCPzXsM54S"
      },
      "execution_count": null,
      "outputs": []
    },
    {
      "cell_type": "markdown",
      "source": [
        "#**Evaluación e Interpretación**"
      ],
      "metadata": {
        "id": "4dTljq59NMP4"
      }
    },
    {
      "cell_type": "markdown",
      "source": [
        "##Regresión Logística"
      ],
      "metadata": {
        "id": "xdULUJHrOUSa"
      }
    },
    {
      "cell_type": "code",
      "source": [
        "from sklearn.metrics import accuracy_score\n",
        "precisión2 = accuracy_score(y_test, rl_pred)\n",
        "\n",
        "\n",
        "!pip install -q scikit-plot\n",
        "import scikitplot as skplt\n",
        "skplt.metrics.plot_confusion_matrix(y_test, rl_pred, figsize=(4,4))"
      ],
      "metadata": {
        "colab": {
          "base_uri": "https://localhost:8080/",
          "height": 278
        },
        "id": "81f5VzveOW4I",
        "outputId": "98536b5d-1603-45e6-9ec6-f148faca5fdc"
      },
      "execution_count": null,
      "outputs": [
        {
          "output_type": "execute_result",
          "data": {
            "text/plain": [
              "<Axes: title={'center': 'Confusion Matrix'}, xlabel='Predicted label', ylabel='True label'>"
            ]
          },
          "metadata": {},
          "execution_count": 170
        },
        {
          "output_type": "display_data",
          "data": {
            "text/plain": [
              "<Figure size 288x288 with 2 Axes>"
            ],
            "image/png": "[encoded data removed]"
          },
          "metadata": {
            "needs_background": "light"
          }
        }
      ]
    },
    {
      "cell_type": "code",
      "source": [
        "from sklearn.metrics import classification_report\n",
        "rf_report2 = classification_report(y_test, rl_pred, target_names=['No', 'Si'])\n",
        "print(rf_report2)"
      ],
      "metadata": {
        "colab": {
          "base_uri": "https://localhost:8080/"
        },
        "id": "j0ZegCQvOo0A",
        "outputId": "74dea9f7-e80d-482d-b904-66b0160bac2e"
      },
      "execution_count": null,
      "outputs": [
        {
          "output_type": "stream",
          "name": "stdout",
          "text": [
            "              precision    recall  f1-score   support\n",
            "\n",
            "          No       0.79      0.91      0.85        80\n",
            "          Si       0.83      0.65      0.73        54\n",
            "\n",
            "    accuracy                           0.81       134\n",
            "   macro avg       0.81      0.78      0.79       134\n",
            "weighted avg       0.81      0.81      0.80       134\n",
            "\n"
          ]
        }
      ]
    },
    {
      "cell_type": "code",
      "source": [
        "from sklearn.metrics import roc_curve, roc_auc_score #Importamos las librerías necesarias para dibujar las curvas ROC\n",
        "false_positive_rate1, true_positive_rate1, threshold1 = roc_curve(y_test, rl_pred) #Obtenemos las métricas de la curva ROC \n",
        "print('roc_auc_score Perceptrón Multicapa: ', roc_auc_score(y_test, rl_pred))\n"
      ],
      "metadata": {
        "colab": {
          "base_uri": "https://localhost:8080/"
        },
        "id": "KebaaaeDO1P8",
        "outputId": "9fd1f5cb-8071-4907-f3f3-bdb29e24b358"
      },
      "execution_count": null,
      "outputs": [
        {
          "output_type": "stream",
          "name": "stdout",
          "text": [
            "roc_auc_score Perceptrón Multicapa:  0.7803240740740741\n"
          ]
        }
      ]
    },
    {
      "cell_type": "code",
      "source": [
        "#Dibujamos la curva ROC con las métricas obtenidas para Perceptrón Multicapa\n",
        "plt.subplots(1, figsize=(10,10))\n",
        "plt.title('Curva AUC - Perceptrón Multicapa')\n",
        "plt.plot(false_positive_rate1, true_positive_rate1)\n",
        "plt.plot([0, 1], ls=\"--\")\n",
        "plt.plot([0, 0], [1, 0] , c=\".7\"), plt.plot([1, 1] , c=\".7\")\n",
        "plt.ylabel('True Positive Rate')\n",
        "plt.xlabel('False Positive Rate')\n",
        "plt.show()"
      ],
      "metadata": {
        "colab": {
          "base_uri": "https://localhost:8080/",
          "height": 621
        },
        "id": "vReU_ITuOxSo",
        "outputId": "6b4ac2d5-7b9d-4e23-a294-ad9f3a1c8d44"
      },
      "execution_count": null,
      "outputs": [
        {
          "output_type": "display_data",
          "data": {
            "text/plain": [
              "<Figure size 720x720 with 1 Axes>"
            ],
            "image/png": "[encoded data removed]"
          },
          "metadata": {
            "needs_background": "light"
          }
        }
      ]
    },
    {
      "cell_type": "markdown",
      "source": [
        "##Perceptrón Multicapa"
      ],
      "metadata": {
        "id": "t7lSt7HbNQ6g"
      }
    },
    {
      "cell_type": "code",
      "source": [
        "from sklearn.metrics import accuracy_score\n",
        "precisión = accuracy_score(val_y, y_pred1)\n",
        "\n",
        "\n",
        "!pip install -q scikit-plot\n",
        "import scikitplot as skplt\n",
        "skplt.metrics.plot_confusion_matrix(val_y, y_pred1, figsize=(4,4))"
      ],
      "metadata": {
        "colab": {
          "base_uri": "https://localhost:8080/",
          "height": 282
        },
        "id": "aLE2_CrhNGNh",
        "outputId": "da6279c5-d238-4b59-a1d1-be16c714b7f4"
      },
      "execution_count": null,
      "outputs": [
        {
          "output_type": "execute_result",
          "data": {
            "text/plain": [
              "<Axes: title={'center': 'Confusion Matrix'}, xlabel='Predicted label', ylabel='True label'>"
            ]
          },
          "metadata": {},
          "execution_count": 174
        },
        {
          "output_type": "display_data",
          "data": {
            "text/plain": [
              "<Figure size 288x288 with 2 Axes>"
            ],
            "image/png": "[encoded data removed]"
          },
          "metadata": {
            "needs_background": "light"
          }
        }
      ]
    },
    {
      "cell_type": "code",
      "source": [
        "from sklearn.metrics import accuracy_score\n",
        "\n",
        "accuracy = accuracy_score(val_y, y_pred1)\n",
        "accuracy "
      ],
      "metadata": {
        "colab": {
          "base_uri": "https://localhost:8080/"
        },
        "id": "RTfZCy6gNndA",
        "outputId": "b644dcf9-e499-4141-fb14-b95af25d37c3"
      },
      "execution_count": null,
      "outputs": [
        {
          "output_type": "execute_result",
          "data": {
            "text/plain": [
              "0.5223880597014925"
            ]
          },
          "metadata": {},
          "execution_count": 175
        }
      ]
    },
    {
      "cell_type": "code",
      "source": [
        "from sklearn.metrics import classification_report\n",
        "rf_report = classification_report(val_y, y_pred1, target_names=['No', 'Si'])\n",
        "print(rf_report)"
      ],
      "metadata": {
        "colab": {
          "base_uri": "https://localhost:8080/"
        },
        "id": "7f81U0vENpg4",
        "outputId": "0c16039f-c0f8-4f3f-819d-dfd930626d0d"
      },
      "execution_count": null,
      "outputs": [
        {
          "output_type": "stream",
          "name": "stdout",
          "text": [
            "              precision    recall  f1-score   support\n",
            "\n",
            "          No       0.59      0.69      0.63        80\n",
            "          Si       0.38      0.28      0.32        54\n",
            "\n",
            "    accuracy                           0.52       134\n",
            "   macro avg       0.48      0.48      0.48       134\n",
            "weighted avg       0.50      0.52      0.51       134\n",
            "\n"
          ]
        }
      ]
    },
    {
      "cell_type": "code",
      "source": [
        "from sklearn.metrics import roc_curve, roc_auc_score #Importamos las librerías necesarias para dibujar las curvas ROC\n",
        "false_positive_rate1, true_positive_rate1, threshold1 = roc_curve(val_y, y_pred1) #Obtenemos las métricas de la curva ROC usando y_test vs rl_prob\n",
        "print('roc_auc_score Perceptrón Multicapa: ', roc_auc_score(val_y, y_pred1))\n"
      ],
      "metadata": {
        "colab": {
          "base_uri": "https://localhost:8080/"
        },
        "id": "7ACYp8d1Nrdb",
        "outputId": "cd860189-6611-4064-8a56-3340eb19a619"
      },
      "execution_count": null,
      "outputs": [
        {
          "output_type": "stream",
          "name": "stdout",
          "text": [
            "roc_auc_score Perceptrón Multicapa:  0.48263888888888884\n"
          ]
        }
      ]
    },
    {
      "cell_type": "code",
      "source": [
        "#Dibujamos la curva ROC con las métricas obtenidas para Perceptrón Multicapa\n",
        "plt.subplots(1, figsize=(10,10))\n",
        "plt.title('Curva AUC - Perceptrón Multicapa')\n",
        "plt.plot(false_positive_rate1, true_positive_rate1)\n",
        "plt.plot([0, 1], ls=\"--\")\n",
        "plt.plot([0, 0], [1, 0] , c=\".7\"), plt.plot([1, 1] , c=\".7\")\n",
        "plt.ylabel('True Positive Rate')\n",
        "plt.xlabel('False Positive Rate')\n",
        "plt.show()"
      ],
      "metadata": {
        "colab": {
          "base_uri": "https://localhost:8080/",
          "height": 621
        },
        "id": "m3uVDXJyNuJc",
        "outputId": "423782f2-f334-4c54-a085-676dc2c60550"
      },
      "execution_count": null,
      "outputs": [
        {
          "output_type": "display_data",
          "data": {
            "text/plain": [
              "<Figure size 720x720 with 1 Axes>"
            ],
            "image/png": "[encoded data removed]"
          },
          "metadata": {
            "needs_background": "light"
          }
        }
      ]
    }
  ]
}