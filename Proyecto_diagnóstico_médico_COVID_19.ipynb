{
  "nbformat": 4,
  "nbformat_minor": 0,
  "metadata": {
    "colab": {
      "provenance": [],
      "collapsed_sections": [
        "AzQln7uqCfJt",
        "GN8pTFF6D3Sm",
        "QMu-zAAhGIy_",
        "3Y3NRGTAGVXk",
        "Wmc4tDl6jA2H",
        "4VlEXZOqGgES",
        "RKKCHic0J8w4"
      ]
    },
    "kernelspec": {
      "display_name": "Python 3",
      "name": "python3"
    },
    "language_info": {
      "name": "python"
    }
  },
  "cells": [
    {
      "cell_type": "markdown",
      "source": [
        "#**Diagnóstico médico de Covid-19 basado en redes neuronales artificiales**"
      ],
      "metadata": {
        "id": "WMDATTQ-ADhJ"
      }
    },
    {
      "cell_type": "markdown",
      "source": [
        "**Resumen:** La presente investigación se enfoca en la detección del Covid-19 mediante redes neuronales artificiales, con el fin de colaborar y apoyar en el diagnóstico médico, y facilitar en la detección del Covid-19 para evitar el aumento de la cifra de infectados mediante ello."
      ],
      "metadata": {
        "id": "RoK1FNO9AXAe"
      }
    },
    {
      "cell_type": "markdown",
      "source": [
        " ![texto alternativo](https://drive.google.com/uc?export=view&id=1cS-b-LlCHT3E3MvlNpb2DhkWgab5AcpK)"
      ],
      "metadata": {
        "id": "snSEdH4DBdj3"
      }
    },
    {
      "cell_type": "markdown",
      "source": [
        "#**Metodología KDD PROCESS**"
      ],
      "metadata": {
        "id": "g5XpJW_MCB8a"
      }
    },
    {
      "cell_type": "markdown",
      "source": [
        "##**Selección de datos**"
      ],
      "metadata": {
        "id": "AzQln7uqCfJt"
      }
    },
    {
      "cell_type": "code",
      "metadata": {
        "id": "EVrw5F21OEc6"
      },
      "source": [
        "import pandas as pd\n",
        "import numpy as np\n",
        "import missingno as ms\n",
        "import seaborn as sns\n",
        "import matplotlib.pyplot as plt\n",
        "from tensorflow import keras\n",
        "from tensorflow.keras import layers, callbacks"
      ],
      "execution_count": null,
      "outputs": []
    },
    {
      "cell_type": "code",
      "metadata": {
        "colab": {
          "base_uri": "https://localhost:8080/",
          "height": 173
        },
        "id": "tDArCGRlO8Ko",
        "outputId": "b91f5c5e-b9a0-4647-cc44-f67b17ed1774"
      },
      "source": [
        "#importar el dataset\n",
        "datasetcovid = pd.read_csv(\"https://raw.githubusercontent.com/SergioGerman412/Datasets/main/datasetcovid2.csv\")\n",
        "datasetcovid.head(2)"
      ],
      "execution_count": null,
      "outputs": [
        {
          "output_type": "execute_result",
          "data": {
            "text/plain": [
              "   dificultad para respirar  dolor en el pecho  dificultad para moverse  \\\n",
              "0                         1                  0                        1   \n",
              "1                         1                  0                        1   \n",
              "\n",
              "   fiebre  tos  fatiga  pérdida del olfato  pérdida del gusto  náuseas  \\\n",
              "0       1    1       1                   1                  0        0   \n",
              "1       1    0       1                   1                  1        0   \n",
              "\n",
              "   diarrea  dolor de garganta  dolor de cabeza  dolor muscular  conjuntivitis  \\\n",
              "0        0                  1                1               1              0   \n",
              "1        1                  1                1               1              0   \n",
              "\n",
              "   erupción cutánea  diagnóstico  \n",
              "0                 0            1  \n",
              "1                 0            1  "
            ],
            "text/html": [
              "\n",
              "  <div id=\"df-32c4499c-374f-4cf7-9e5c-53e04cce43f7\">\n",
              "    <div class=\"colab-df-container\">\n",
              "      <div>\n",
              "<style scoped>\n",
              "    .dataframe tbody tr th:only-of-type {\n",
              "        vertical-align: middle;\n",
              "    }\n",
              "\n",
              "    .dataframe tbody tr th {\n",
              "        vertical-align: top;\n",
              "    }\n",
              "\n",
              "    .dataframe thead th {\n",
              "        text-align: right;\n",
              "    }\n",
              "</style>\n",
              "<table border=\"1\" class=\"dataframe\">\n",
              "  <thead>\n",
              "    <tr style=\"text-align: right;\">\n",
              "      <th></th>\n",
              "      <th>dificultad para respirar</th>\n",
              "      <th>dolor en el pecho</th>\n",
              "      <th>dificultad para moverse</th>\n",
              "      <th>fiebre</th>\n",
              "      <th>tos</th>\n",
              "      <th>fatiga</th>\n",
              "      <th>pérdida del olfato</th>\n",
              "      <th>pérdida del gusto</th>\n",
              "      <th>náuseas</th>\n",
              "      <th>diarrea</th>\n",
              "      <th>dolor de garganta</th>\n",
              "      <th>dolor de cabeza</th>\n",
              "      <th>dolor muscular</th>\n",
              "      <th>conjuntivitis</th>\n",
              "      <th>erupción cutánea</th>\n",
              "      <th>diagnóstico</th>\n",
              "    </tr>\n",
              "  </thead>\n",
              "  <tbody>\n",
              "    <tr>\n",
              "      <th>0</th>\n",
              "      <td>1</td>\n",
              "      <td>0</td>\n",
              "      <td>1</td>\n",
              "      <td>1</td>\n",
              "      <td>1</td>\n",
              "      <td>1</td>\n",
              "      <td>1</td>\n",
              "      <td>0</td>\n",
              "      <td>0</td>\n",
              "      <td>0</td>\n",
              "      <td>1</td>\n",
              "      <td>1</td>\n",
              "      <td>1</td>\n",
              "      <td>0</td>\n",
              "      <td>0</td>\n",
              "      <td>1</td>\n",
              "    </tr>\n",
              "    <tr>\n",
              "      <th>1</th>\n",
              "      <td>1</td>\n",
              "      <td>0</td>\n",
              "      <td>1</td>\n",
              "      <td>1</td>\n",
              "      <td>0</td>\n",
              "      <td>1</td>\n",
              "      <td>1</td>\n",
              "      <td>1</td>\n",
              "      <td>0</td>\n",
              "      <td>1</td>\n",
              "      <td>1</td>\n",
              "      <td>1</td>\n",
              "      <td>1</td>\n",
              "      <td>0</td>\n",
              "      <td>0</td>\n",
              "      <td>1</td>\n",
              "    </tr>\n",
              "  </tbody>\n",
              "</table>\n",
              "</div>\n",
              "      <button class=\"colab-df-convert\" onclick=\"convertToInteractive('df-32c4499c-374f-4cf7-9e5c-53e04cce43f7')\"\n",
              "              title=\"Convert this dataframe to an interactive table.\"\n",
              "              style=\"display:none;\">\n",
              "        \n",
              "  <svg xmlns=\"http://www.w3.org/2000/svg\" height=\"24px\"viewBox=\"0 0 24 24\"\n",
              "       width=\"24px\">\n",
              "    <path d=\"M0 0h24v24H0V0z\" fill=\"none\"/>\n",
              "    <path d=\"M18.56 5.44l.94 2.06.94-2.06 2.06-.94-2.06-.94-.94-2.06-.94 2.06-2.06.94zm-11 1L8.5 8.5l.94-2.06 2.06-.94-2.06-.94L8.5 2.5l-.94 2.06-2.06.94zm10 10l.94 2.06.94-2.06 2.06-.94-2.06-.94-.94-2.06-.94 2.06-2.06.94z\"/><path d=\"M17.41 7.96l-1.37-1.37c-.4-.4-.92-.59-1.43-.59-.52 0-1.04.2-1.43.59L10.3 9.45l-7.72 7.72c-.78.78-.78 2.05 0 2.83L4 21.41c.39.39.9.59 1.41.59.51 0 1.02-.2 1.41-.59l7.78-7.78 2.81-2.81c.8-.78.8-2.07 0-2.86zM5.41 20L4 18.59l7.72-7.72 1.47 1.35L5.41 20z\"/>\n",
              "  </svg>\n",
              "      </button>\n",
              "      \n",
              "  <style>\n",
              "    .colab-df-container {\n",
              "      display:flex;\n",
              "      flex-wrap:wrap;\n",
              "      gap: 12px;\n",
              "    }\n",
              "\n",
              "    .colab-df-convert {\n",
              "      background-color: #E8F0FE;\n",
              "      border: none;\n",
              "      border-radius: 50%;\n",
              "      cursor: pointer;\n",
              "      display: none;\n",
              "      fill: #1967D2;\n",
              "      height: 32px;\n",
              "      padding: 0 0 0 0;\n",
              "      width: 32px;\n",
              "    }\n",
              "\n",
              "    .colab-df-convert:hover {\n",
              "      background-color: #E2EBFA;\n",
              "      box-shadow: 0px 1px 2px rgba(60, 64, 67, 0.3), 0px 1px 3px 1px rgba(60, 64, 67, 0.15);\n",
              "      fill: #174EA6;\n",
              "    }\n",
              "\n",
              "    [theme=dark] .colab-df-convert {\n",
              "      background-color: #3B4455;\n",
              "      fill: #D2E3FC;\n",
              "    }\n",
              "\n",
              "    [theme=dark] .colab-df-convert:hover {\n",
              "      background-color: #434B5C;\n",
              "      box-shadow: 0px 1px 3px 1px rgba(0, 0, 0, 0.15);\n",
              "      filter: drop-shadow(0px 1px 2px rgba(0, 0, 0, 0.3));\n",
              "      fill: #FFFFFF;\n",
              "    }\n",
              "  </style>\n",
              "\n",
              "      <script>\n",
              "        const buttonEl =\n",
              "          document.querySelector('#df-32c4499c-374f-4cf7-9e5c-53e04cce43f7 button.colab-df-convert');\n",
              "        buttonEl.style.display =\n",
              "          google.colab.kernel.accessAllowed ? 'block' : 'none';\n",
              "\n",
              "        async function convertToInteractive(key) {\n",
              "          const element = document.querySelector('#df-32c4499c-374f-4cf7-9e5c-53e04cce43f7');\n",
              "          const dataTable =\n",
              "            await google.colab.kernel.invokeFunction('convertToInteractive',\n",
              "                                                     [key], {});\n",
              "          if (!dataTable) return;\n",
              "\n",
              "          const docLinkHtml = 'Like what you see? Visit the ' +\n",
              "            '<a target=\"_blank\" href=https://colab.research.google.com/notebooks/data_table.ipynb>data table notebook</a>'\n",
              "            + ' to learn more about interactive tables.';\n",
              "          element.innerHTML = '';\n",
              "          dataTable['output_type'] = 'display_data';\n",
              "          await google.colab.output.renderOutput(dataTable, element);\n",
              "          const docLink = document.createElement('div');\n",
              "          docLink.innerHTML = docLinkHtml;\n",
              "          element.appendChild(docLink);\n",
              "        }\n",
              "      </script>\n",
              "    </div>\n",
              "  </div>\n",
              "  "
            ]
          },
          "metadata": {},
          "execution_count": 4
        }
      ]
    },
    {
      "cell_type": "code",
      "metadata": {
        "colab": {
          "base_uri": "https://localhost:8080/",
          "height": 379
        },
        "id": "093r75uRSMqj",
        "outputId": "c9871f8f-4803-4c4d-89da-8abb63993467"
      },
      "source": [
        "datasetcovid.describe()"
      ],
      "execution_count": null,
      "outputs": [
        {
          "output_type": "execute_result",
          "data": {
            "text/plain": [
              "       dificultad para respirar  dolor en el pecho  dificultad para moverse  \\\n",
              "count                500.000000         500.000000                500.00000   \n",
              "mean                   0.616000           0.452000                  0.34600   \n",
              "std                    0.486845           0.498189                  0.47617   \n",
              "min                    0.000000           0.000000                  0.00000   \n",
              "25%                    0.000000           0.000000                  0.00000   \n",
              "50%                    1.000000           0.000000                  0.00000   \n",
              "75%                    1.000000           1.000000                  1.00000   \n",
              "max                    1.000000           1.000000                  1.00000   \n",
              "\n",
              "           fiebre        tos      fatiga  pérdida del olfato  \\\n",
              "count  500.000000  500.00000  500.000000          500.000000   \n",
              "mean     0.678000    0.77600    0.884000            0.302000   \n",
              "std      0.467711    0.41734    0.320546            0.459585   \n",
              "min      0.000000    0.00000    0.000000            0.000000   \n",
              "25%      0.000000    1.00000    1.000000            0.000000   \n",
              "50%      1.000000    1.00000    1.000000            0.000000   \n",
              "75%      1.000000    1.00000    1.000000            1.000000   \n",
              "max      1.000000    1.00000    1.000000            1.000000   \n",
              "\n",
              "       pérdida del gusto     náuseas     diarrea  dolor de garganta  \\\n",
              "count         500.000000  500.000000  500.000000         500.000000   \n",
              "mean            0.288000    0.210000    0.412000           0.322000   \n",
              "std             0.453285    0.407716    0.492688           0.467711   \n",
              "min             0.000000    0.000000    0.000000           0.000000   \n",
              "25%             0.000000    0.000000    0.000000           0.000000   \n",
              "50%             0.000000    0.000000    0.000000           0.000000   \n",
              "75%             1.000000    0.000000    1.000000           1.000000   \n",
              "max             1.000000    1.000000    1.000000           1.000000   \n",
              "\n",
              "       dolor de cabeza  dolor muscular  conjuntivitis  erupción cutánea  \\\n",
              "count       500.000000      500.000000     500.000000        500.000000   \n",
              "mean          0.808000        0.796000       0.010000          0.016000   \n",
              "std           0.394268        0.403373       0.099598          0.125601   \n",
              "min           0.000000        0.000000       0.000000          0.000000   \n",
              "25%           1.000000        1.000000       0.000000          0.000000   \n",
              "50%           1.000000        1.000000       0.000000          0.000000   \n",
              "75%           1.000000        1.000000       0.000000          0.000000   \n",
              "max           1.000000        1.000000       1.000000          1.000000   \n",
              "\n",
              "       diagnóstico  \n",
              "count    500.00000  \n",
              "mean       0.92200  \n",
              "std        0.26844  \n",
              "min        0.00000  \n",
              "25%        1.00000  \n",
              "50%        1.00000  \n",
              "75%        1.00000  \n",
              "max        1.00000  "
            ],
            "text/html": [
              "\n",
              "  <div id=\"df-a1808e03-ed56-45ec-bade-49381268ca41\">\n",
              "    <div class=\"colab-df-container\">\n",
              "      <div>\n",
              "<style scoped>\n",
              "    .dataframe tbody tr th:only-of-type {\n",
              "        vertical-align: middle;\n",
              "    }\n",
              "\n",
              "    .dataframe tbody tr th {\n",
              "        vertical-align: top;\n",
              "    }\n",
              "\n",
              "    .dataframe thead th {\n",
              "        text-align: right;\n",
              "    }\n",
              "</style>\n",
              "<table border=\"1\" class=\"dataframe\">\n",
              "  <thead>\n",
              "    <tr style=\"text-align: right;\">\n",
              "      <th></th>\n",
              "      <th>dificultad para respirar</th>\n",
              "      <th>dolor en el pecho</th>\n",
              "      <th>dificultad para moverse</th>\n",
              "      <th>fiebre</th>\n",
              "      <th>tos</th>\n",
              "      <th>fatiga</th>\n",
              "      <th>pérdida del olfato</th>\n",
              "      <th>pérdida del gusto</th>\n",
              "      <th>náuseas</th>\n",
              "      <th>diarrea</th>\n",
              "      <th>dolor de garganta</th>\n",
              "      <th>dolor de cabeza</th>\n",
              "      <th>dolor muscular</th>\n",
              "      <th>conjuntivitis</th>\n",
              "      <th>erupción cutánea</th>\n",
              "      <th>diagnóstico</th>\n",
              "    </tr>\n",
              "  </thead>\n",
              "  <tbody>\n",
              "    <tr>\n",
              "      <th>count</th>\n",
              "      <td>500.000000</td>\n",
              "      <td>500.000000</td>\n",
              "      <td>500.00000</td>\n",
              "      <td>500.000000</td>\n",
              "      <td>500.00000</td>\n",
              "      <td>500.000000</td>\n",
              "      <td>500.000000</td>\n",
              "      <td>500.000000</td>\n",
              "      <td>500.000000</td>\n",
              "      <td>500.000000</td>\n",
              "      <td>500.000000</td>\n",
              "      <td>500.000000</td>\n",
              "      <td>500.000000</td>\n",
              "      <td>500.000000</td>\n",
              "      <td>500.000000</td>\n",
              "      <td>500.00000</td>\n",
              "    </tr>\n",
              "    <tr>\n",
              "      <th>mean</th>\n",
              "      <td>0.616000</td>\n",
              "      <td>0.452000</td>\n",
              "      <td>0.34600</td>\n",
              "      <td>0.678000</td>\n",
              "      <td>0.77600</td>\n",
              "      <td>0.884000</td>\n",
              "      <td>0.302000</td>\n",
              "      <td>0.288000</td>\n",
              "      <td>0.210000</td>\n",
              "      <td>0.412000</td>\n",
              "      <td>0.322000</td>\n",
              "      <td>0.808000</td>\n",
              "      <td>0.796000</td>\n",
              "      <td>0.010000</td>\n",
              "      <td>0.016000</td>\n",
              "      <td>0.92200</td>\n",
              "    </tr>\n",
              "    <tr>\n",
              "      <th>std</th>\n",
              "      <td>0.486845</td>\n",
              "      <td>0.498189</td>\n",
              "      <td>0.47617</td>\n",
              "      <td>0.467711</td>\n",
              "      <td>0.41734</td>\n",
              "      <td>0.320546</td>\n",
              "      <td>0.459585</td>\n",
              "      <td>0.453285</td>\n",
              "      <td>0.407716</td>\n",
              "      <td>0.492688</td>\n",
              "      <td>0.467711</td>\n",
              "      <td>0.394268</td>\n",
              "      <td>0.403373</td>\n",
              "      <td>0.099598</td>\n",
              "      <td>0.125601</td>\n",
              "      <td>0.26844</td>\n",
              "    </tr>\n",
              "    <tr>\n",
              "      <th>min</th>\n",
              "      <td>0.000000</td>\n",
              "      <td>0.000000</td>\n",
              "      <td>0.00000</td>\n",
              "      <td>0.000000</td>\n",
              "      <td>0.00000</td>\n",
              "      <td>0.000000</td>\n",
              "      <td>0.000000</td>\n",
              "      <td>0.000000</td>\n",
              "      <td>0.000000</td>\n",
              "      <td>0.000000</td>\n",
              "      <td>0.000000</td>\n",
              "      <td>0.000000</td>\n",
              "      <td>0.000000</td>\n",
              "      <td>0.000000</td>\n",
              "      <td>0.000000</td>\n",
              "      <td>0.00000</td>\n",
              "    </tr>\n",
              "    <tr>\n",
              "      <th>25%</th>\n",
              "      <td>0.000000</td>\n",
              "      <td>0.000000</td>\n",
              "      <td>0.00000</td>\n",
              "      <td>0.000000</td>\n",
              "      <td>1.00000</td>\n",
              "      <td>1.000000</td>\n",
              "      <td>0.000000</td>\n",
              "      <td>0.000000</td>\n",
              "      <td>0.000000</td>\n",
              "      <td>0.000000</td>\n",
              "      <td>0.000000</td>\n",
              "      <td>1.000000</td>\n",
              "      <td>1.000000</td>\n",
              "      <td>0.000000</td>\n",
              "      <td>0.000000</td>\n",
              "      <td>1.00000</td>\n",
              "    </tr>\n",
              "    <tr>\n",
              "      <th>50%</th>\n",
              "      <td>1.000000</td>\n",
              "      <td>0.000000</td>\n",
              "      <td>0.00000</td>\n",
              "      <td>1.000000</td>\n",
              "      <td>1.00000</td>\n",
              "      <td>1.000000</td>\n",
              "      <td>0.000000</td>\n",
              "      <td>0.000000</td>\n",
              "      <td>0.000000</td>\n",
              "      <td>0.000000</td>\n",
              "      <td>0.000000</td>\n",
              "      <td>1.000000</td>\n",
              "      <td>1.000000</td>\n",
              "      <td>0.000000</td>\n",
              "      <td>0.000000</td>\n",
              "      <td>1.00000</td>\n",
              "    </tr>\n",
              "    <tr>\n",
              "      <th>75%</th>\n",
              "      <td>1.000000</td>\n",
              "      <td>1.000000</td>\n",
              "      <td>1.00000</td>\n",
              "      <td>1.000000</td>\n",
              "      <td>1.00000</td>\n",
              "      <td>1.000000</td>\n",
              "      <td>1.000000</td>\n",
              "      <td>1.000000</td>\n",
              "      <td>0.000000</td>\n",
              "      <td>1.000000</td>\n",
              "      <td>1.000000</td>\n",
              "      <td>1.000000</td>\n",
              "      <td>1.000000</td>\n",
              "      <td>0.000000</td>\n",
              "      <td>0.000000</td>\n",
              "      <td>1.00000</td>\n",
              "    </tr>\n",
              "    <tr>\n",
              "      <th>max</th>\n",
              "      <td>1.000000</td>\n",
              "      <td>1.000000</td>\n",
              "      <td>1.00000</td>\n",
              "      <td>1.000000</td>\n",
              "      <td>1.00000</td>\n",
              "      <td>1.000000</td>\n",
              "      <td>1.000000</td>\n",
              "      <td>1.000000</td>\n",
              "      <td>1.000000</td>\n",
              "      <td>1.000000</td>\n",
              "      <td>1.000000</td>\n",
              "      <td>1.000000</td>\n",
              "      <td>1.000000</td>\n",
              "      <td>1.000000</td>\n",
              "      <td>1.000000</td>\n",
              "      <td>1.00000</td>\n",
              "    </tr>\n",
              "  </tbody>\n",
              "</table>\n",
              "</div>\n",
              "      <button class=\"colab-df-convert\" onclick=\"convertToInteractive('df-a1808e03-ed56-45ec-bade-49381268ca41')\"\n",
              "              title=\"Convert this dataframe to an interactive table.\"\n",
              "              style=\"display:none;\">\n",
              "        \n",
              "  <svg xmlns=\"http://www.w3.org/2000/svg\" height=\"24px\"viewBox=\"0 0 24 24\"\n",
              "       width=\"24px\">\n",
              "    <path d=\"M0 0h24v24H0V0z\" fill=\"none\"/>\n",
              "    <path d=\"M18.56 5.44l.94 2.06.94-2.06 2.06-.94-2.06-.94-.94-2.06-.94 2.06-2.06.94zm-11 1L8.5 8.5l.94-2.06 2.06-.94-2.06-.94L8.5 2.5l-.94 2.06-2.06.94zm10 10l.94 2.06.94-2.06 2.06-.94-2.06-.94-.94-2.06-.94 2.06-2.06.94z\"/><path d=\"M17.41 7.96l-1.37-1.37c-.4-.4-.92-.59-1.43-.59-.52 0-1.04.2-1.43.59L10.3 9.45l-7.72 7.72c-.78.78-.78 2.05 0 2.83L4 21.41c.39.39.9.59 1.41.59.51 0 1.02-.2 1.41-.59l7.78-7.78 2.81-2.81c.8-.78.8-2.07 0-2.86zM5.41 20L4 18.59l7.72-7.72 1.47 1.35L5.41 20z\"/>\n",
              "  </svg>\n",
              "      </button>\n",
              "      \n",
              "  <style>\n",
              "    .colab-df-container {\n",
              "      display:flex;\n",
              "      flex-wrap:wrap;\n",
              "      gap: 12px;\n",
              "    }\n",
              "\n",
              "    .colab-df-convert {\n",
              "      background-color: #E8F0FE;\n",
              "      border: none;\n",
              "      border-radius: 50%;\n",
              "      cursor: pointer;\n",
              "      display: none;\n",
              "      fill: #1967D2;\n",
              "      height: 32px;\n",
              "      padding: 0 0 0 0;\n",
              "      width: 32px;\n",
              "    }\n",
              "\n",
              "    .colab-df-convert:hover {\n",
              "      background-color: #E2EBFA;\n",
              "      box-shadow: 0px 1px 2px rgba(60, 64, 67, 0.3), 0px 1px 3px 1px rgba(60, 64, 67, 0.15);\n",
              "      fill: #174EA6;\n",
              "    }\n",
              "\n",
              "    [theme=dark] .colab-df-convert {\n",
              "      background-color: #3B4455;\n",
              "      fill: #D2E3FC;\n",
              "    }\n",
              "\n",
              "    [theme=dark] .colab-df-convert:hover {\n",
              "      background-color: #434B5C;\n",
              "      box-shadow: 0px 1px 3px 1px rgba(0, 0, 0, 0.15);\n",
              "      filter: drop-shadow(0px 1px 2px rgba(0, 0, 0, 0.3));\n",
              "      fill: #FFFFFF;\n",
              "    }\n",
              "  </style>\n",
              "\n",
              "      <script>\n",
              "        const buttonEl =\n",
              "          document.querySelector('#df-a1808e03-ed56-45ec-bade-49381268ca41 button.colab-df-convert');\n",
              "        buttonEl.style.display =\n",
              "          google.colab.kernel.accessAllowed ? 'block' : 'none';\n",
              "\n",
              "        async function convertToInteractive(key) {\n",
              "          const element = document.querySelector('#df-a1808e03-ed56-45ec-bade-49381268ca41');\n",
              "          const dataTable =\n",
              "            await google.colab.kernel.invokeFunction('convertToInteractive',\n",
              "                                                     [key], {});\n",
              "          if (!dataTable) return;\n",
              "\n",
              "          const docLinkHtml = 'Like what you see? Visit the ' +\n",
              "            '<a target=\"_blank\" href=https://colab.research.google.com/notebooks/data_table.ipynb>data table notebook</a>'\n",
              "            + ' to learn more about interactive tables.';\n",
              "          element.innerHTML = '';\n",
              "          dataTable['output_type'] = 'display_data';\n",
              "          await google.colab.output.renderOutput(dataTable, element);\n",
              "          const docLink = document.createElement('div');\n",
              "          docLink.innerHTML = docLinkHtml;\n",
              "          element.appendChild(docLink);\n",
              "        }\n",
              "      </script>\n",
              "    </div>\n",
              "  </div>\n",
              "  "
            ]
          },
          "metadata": {},
          "execution_count": 5
        }
      ]
    },
    {
      "cell_type": "markdown",
      "source": [
        "*Interpretación*\n",
        "\n",
        "- No existe la presencia de datos nulos en base a \"count\"\n",
        "- El min y max esta entre 0 y 1, por lo que se determina que las variables estan en binarios"
      ],
      "metadata": {
        "id": "hoUZPCjsCNcB"
      }
    },
    {
      "cell_type": "code",
      "source": [
        "print('La cantidad de filas de de mi dataset es:',len(datasetcovid.index))"
      ],
      "metadata": {
        "colab": {
          "base_uri": "https://localhost:8080/"
        },
        "id": "Y4d8z1dOCoZl",
        "outputId": "9180f2aa-a47c-4157-ccf5-a3b939fd23e3"
      },
      "execution_count": null,
      "outputs": [
        {
          "output_type": "stream",
          "name": "stdout",
          "text": [
            "La cantidad de filas de de mi dataset es: 500\n"
          ]
        }
      ]
    },
    {
      "cell_type": "code",
      "source": [
        "list(datasetcovid.columns)"
      ],
      "metadata": {
        "colab": {
          "base_uri": "https://localhost:8080/"
        },
        "id": "sYrLk6U2DSat",
        "outputId": "6a46f226-602a-4113-aaf3-efef79b115ad"
      },
      "execution_count": null,
      "outputs": [
        {
          "output_type": "execute_result",
          "data": {
            "text/plain": [
              "['dificultad para respirar',\n",
              " 'dolor en el pecho',\n",
              " 'dificultad para moverse',\n",
              " 'fiebre',\n",
              " 'tos',\n",
              " 'fatiga',\n",
              " 'pérdida del olfato',\n",
              " 'pérdida del gusto',\n",
              " 'náuseas',\n",
              " 'diarrea',\n",
              " 'dolor de garganta',\n",
              " 'dolor de cabeza',\n",
              " 'dolor muscular',\n",
              " 'conjuntivitis',\n",
              " 'erupción cutánea',\n",
              " 'diagnóstico']"
            ]
          },
          "metadata": {},
          "execution_count": 7
        }
      ]
    },
    {
      "cell_type": "code",
      "source": [
        "plt.figure(figsize=(5,3))\n",
        "sns.countplot(x = 'fiebre', data = datasetcovid)"
      ],
      "metadata": {
        "colab": {
          "base_uri": "https://localhost:8080/",
          "height": 244
        },
        "id": "Wu7U_irRilae",
        "outputId": "4599e205-c5d3-4ff2-9ec7-438e04ab1c80"
      },
      "execution_count": null,
      "outputs": [
        {
          "output_type": "execute_result",
          "data": {
            "text/plain": [
              "<Axes: xlabel='fiebre', ylabel='count'>"
            ]
          },
          "metadata": {},
          "execution_count": 13
        },
        {
          "output_type": "display_data",
          "data": {
            "text/plain": [
              "<Figure size 360x216 with 1 Axes>"
            ],
            "image/png": "[encoded data removed]"
          },
          "metadata": {
            "needs_background": "light"
          }
        }
      ]
    },
    {
      "cell_type": "markdown",
      "source": [
        "##**Pre Procesamiento de datos**"
      ],
      "metadata": {
        "id": "GN8pTFF6D3Sm"
      }
    },
    {
      "cell_type": "markdown",
      "source": [
        "**verificar datos nulos**"
      ],
      "metadata": {
        "id": "Fn7aKyG-E0yE"
      }
    },
    {
      "cell_type": "code",
      "source": [
        "#utilizando la librería missigno verificamos los datos nulos en el dataset\n",
        "ms.matrix(datasetcovid)"
      ],
      "metadata": {
        "colab": {
          "base_uri": "https://localhost:8080/",
          "height": 756
        },
        "id": "pdApBlOYEL4j",
        "outputId": "d15b5914-a0ec-4476-a5c4-594a981e9c90"
      },
      "execution_count": null,
      "outputs": [
        {
          "output_type": "execute_result",
          "data": {
            "text/plain": [
              "<Axes: >"
            ]
          },
          "metadata": {},
          "execution_count": 14
        },
        {
          "output_type": "display_data",
          "data": {
            "text/plain": [
              "<Figure size 1800x720 with 2 Axes>"
            ],
            "image/png": "[encoded data removed]"
          },
          "metadata": {
            "needs_background": "light"
          }
        }
      ]
    },
    {
      "cell_type": "code",
      "source": [
        "datasetcovid.isna().sum()"
      ],
      "metadata": {
        "colab": {
          "base_uri": "https://localhost:8080/"
        },
        "id": "ji4FG1i8EO9z",
        "outputId": "73af82b1-97ee-4472-dd7b-bf5c6c815720"
      },
      "execution_count": null,
      "outputs": [
        {
          "output_type": "execute_result",
          "data": {
            "text/plain": [
              "dificultad para respirar    0\n",
              "dolor en el pecho           0\n",
              "dificultad para moverse     0\n",
              "fiebre                      0\n",
              "tos                         0\n",
              "fatiga                      0\n",
              "pérdida del olfato          0\n",
              "pérdida del gusto           0\n",
              "náuseas                     0\n",
              "diarrea                     0\n",
              "dolor de garganta           0\n",
              "dolor de cabeza             0\n",
              "dolor muscular              0\n",
              "conjuntivitis               0\n",
              "erupción cutánea            0\n",
              "diagnóstico                 0\n",
              "dtype: int64"
            ]
          },
          "metadata": {},
          "execution_count": 15
        }
      ]
    },
    {
      "cell_type": "markdown",
      "source": [
        "**Verificar las influencias de las variables con el target**"
      ],
      "metadata": {
        "id": "lwJPIZ0HExJ0"
      }
    },
    {
      "cell_type": "code",
      "source": [
        "#revisando las influencias de mis variables\n",
        "\n",
        "fig,(ax1, ax2, ax3, ax4)=plt.subplots(ncols=4,figsize=(20,5))\n",
        "pd.crosstab(datasetcovid['diagnóstico'],datasetcovid['dificultad para respirar']).plot(kind='bar',ax=ax1, ylim=[0,700])\n",
        "pd.crosstab(datasetcovid['diagnóstico'],datasetcovid['dificultad para moverse']).plot(kind='bar',ax=ax2, ylim=[0,700])\n",
        "pd.crosstab(datasetcovid['diagnóstico'],datasetcovid['fiebre']).plot(kind='bar',ax=ax3, ylim=[0,700])\n",
        "pd.crosstab(datasetcovid['diagnóstico'],datasetcovid['tos']).plot(kind='bar',ax=ax4, ylim=[0,700])"
      ],
      "metadata": {
        "colab": {
          "base_uri": "https://localhost:8080/",
          "height": 353
        },
        "id": "mD0bAhRuEbfx",
        "outputId": "993d2fb4-569d-49dd-a6a3-a34ae762e4f9"
      },
      "execution_count": null,
      "outputs": [
        {
          "output_type": "execute_result",
          "data": {
            "text/plain": [
              "<Axes: xlabel='diagnóstico'>"
            ]
          },
          "metadata": {},
          "execution_count": 16
        },
        {
          "output_type": "display_data",
          "data": {
            "text/plain": [
              "<Figure size 1440x360 with 4 Axes>"
            ],
            "image/png": "[encoded data removed]"
          },
          "metadata": {
            "needs_background": "light"
          }
        }
      ]
    },
    {
      "cell_type": "markdown",
      "source": [
        "**verificar outliers**"
      ],
      "metadata": {
        "id": "AOmxUTwOE3jt"
      }
    },
    {
      "cell_type": "markdown",
      "source": [
        "**outliers:** o también conocidos como **atípicos**, son datos que no se comportan al igual que el resto. En palabras más sencillas un outlier sería una observación dentro de una muestra que no es consistente con el resto."
      ],
      "metadata": {
        "id": "gMRBm-0JnI1g"
      }
    },
    {
      "cell_type": "code",
      "source": [
        "boxplot1 = datasetcovid.iloc[:, 0:3]"
      ],
      "metadata": {
        "id": "u97ksO5lFfar"
      },
      "execution_count": null,
      "outputs": []
    },
    {
      "cell_type": "code",
      "source": [
        "sns.boxplot(data=boxplot1)\n",
        "plt.figure(figsize=(12,16))"
      ],
      "metadata": {
        "colab": {
          "base_uri": "https://localhost:8080/",
          "height": 301
        },
        "id": "IonEQ2dfFgmU",
        "outputId": "da478a71-3974-47eb-9897-58bb8dd99a72"
      },
      "execution_count": null,
      "outputs": [
        {
          "output_type": "execute_result",
          "data": {
            "text/plain": [
              "<Figure size 864x1152 with 0 Axes>"
            ]
          },
          "metadata": {},
          "execution_count": 18
        },
        {
          "output_type": "display_data",
          "data": {
            "text/plain": [
              "<Figure size 432x288 with 1 Axes>"
            ],
            "image/png": "[encoded data removed]"
          },
          "metadata": {
            "needs_background": "light"
          }
        },
        {
          "output_type": "display_data",
          "data": {
            "text/plain": [
              "<Figure size 864x1152 with 0 Axes>"
            ]
          },
          "metadata": {}
        }
      ]
    },
    {
      "cell_type": "markdown",
      "source": [
        "**Análisis univariante**"
      ],
      "metadata": {
        "id": "DXQlSRWNFxDT"
      }
    },
    {
      "cell_type": "code",
      "source": [
        "datasetcovid['dificultad para respirar'].unique()"
      ],
      "metadata": {
        "colab": {
          "base_uri": "https://localhost:8080/"
        },
        "id": "f7vwSmXmFdCT",
        "outputId": "49eb7652-d540-49dc-aeb8-1b9ff8ab0272"
      },
      "execution_count": null,
      "outputs": [
        {
          "output_type": "execute_result",
          "data": {
            "text/plain": [
              "array([1, 0])"
            ]
          },
          "metadata": {},
          "execution_count": 19
        }
      ]
    },
    {
      "cell_type": "code",
      "source": [
        "datasetcovid['dolor en el pecho'].unique()"
      ],
      "metadata": {
        "colab": {
          "base_uri": "https://localhost:8080/"
        },
        "id": "6lBPgxBjFnxM",
        "outputId": "48081b46-06c3-4ac7-d03d-8a831cf79f87"
      },
      "execution_count": null,
      "outputs": [
        {
          "output_type": "execute_result",
          "data": {
            "text/plain": [
              "array([0, 1])"
            ]
          },
          "metadata": {},
          "execution_count": 20
        }
      ]
    },
    {
      "cell_type": "code",
      "source": [
        "datasetcovid['dificultad para moverse'].unique()"
      ],
      "metadata": {
        "colab": {
          "base_uri": "https://localhost:8080/"
        },
        "id": "AX7mWiX4FqIM",
        "outputId": "db0f7b1e-9bff-49f0-94e9-3ccffec86697"
      },
      "execution_count": null,
      "outputs": [
        {
          "output_type": "execute_result",
          "data": {
            "text/plain": [
              "array([1, 0])"
            ]
          },
          "metadata": {},
          "execution_count": 21
        }
      ]
    },
    {
      "cell_type": "code",
      "source": [
        "datasetcovid['fiebre'].unique()"
      ],
      "metadata": {
        "colab": {
          "base_uri": "https://localhost:8080/"
        },
        "id": "K4A55GdwFs_6",
        "outputId": "dc3ef06e-2a1d-460e-84dd-7b6c6524474d"
      },
      "execution_count": null,
      "outputs": [
        {
          "output_type": "execute_result",
          "data": {
            "text/plain": [
              "array([1, 0])"
            ]
          },
          "metadata": {},
          "execution_count": 22
        }
      ]
    },
    {
      "cell_type": "code",
      "source": [
        "datasetcovid['tos'].unique()"
      ],
      "metadata": {
        "colab": {
          "base_uri": "https://localhost:8080/"
        },
        "id": "ld312fIyFuqz",
        "outputId": "9952fea7-c9d7-4dc6-873e-f08f91c0e9f6"
      },
      "execution_count": null,
      "outputs": [
        {
          "output_type": "execute_result",
          "data": {
            "text/plain": [
              "array([1, 0])"
            ]
          },
          "metadata": {},
          "execution_count": 23
        }
      ]
    },
    {
      "cell_type": "markdown",
      "source": [
        "##**Transformación**"
      ],
      "metadata": {
        "id": "QMu-zAAhGIy_"
      }
    },
    {
      "cell_type": "code",
      "metadata": {
        "id": "-pHUMoZmILZ8"
      },
      "source": [
        "#definir x Y del entrenamiento\n",
        "y = datasetcovid.diagnóstico\n",
        "\n",
        "X = datasetcovid.drop('diagnóstico',axis=1)"
      ],
      "execution_count": null,
      "outputs": []
    },
    {
      "cell_type": "code",
      "metadata": {
        "id": "xTLXj9O-IPgU"
      },
      "source": [
        "#dividir el dataset\n",
        "from sklearn.model_selection import train_test_split\n",
        "\n",
        "train_X, val_X, train_y, val_y = train_test_split(X, y, test_size=0.2, random_state=8)\n"
      ],
      "execution_count": null,
      "outputs": []
    },
    {
      "cell_type": "markdown",
      "source": [
        "##**Minería de datos**"
      ],
      "metadata": {
        "id": "3Y3NRGTAGVXk"
      }
    },
    {
      "cell_type": "markdown",
      "source": [
        "### Perceptrón Multicapa"
      ],
      "metadata": {
        "id": "Wmc4tDl6jA2H"
      }
    },
    {
      "cell_type": "code",
      "metadata": {
        "id": "cPe4PCV7l3ox"
      },
      "source": [
        "#early stopping para evitar el overfitting\n",
        "\n",
        "early_stopping = callbacks.EarlyStopping(\n",
        "    min_delta=0.01,   #cantidad mínima de cambio para contar como una mejora\n",
        "    patience=30,      #cuantas epocas esperar para detener el entrenamiento\n",
        "    restore_best_weights=True,\n",
        "    )\n"
      ],
      "execution_count": null,
      "outputs": []
    },
    {
      "cell_type": "code",
      "metadata": {
        "id": "x_VVuSmJIdUr"
      },
      "source": [
        "#crear red neuronal artificial\n",
        "model = keras.Sequential([\n",
        "    \n",
        "#crear capa de entrada\n",
        "    layers.Dense(units=1, activation = 'relu', input_shape=[15]),\n",
        " \n",
        "#crear capa oculta\n",
        "     layers.Dense(units=1, activation = 'relu'),\n",
        "     \n",
        "#crear capa de salida\n",
        "\n",
        "     layers.Dense(units=1, activation='sigmoid'),\n",
        "\n",
        "   ])"
      ],
      "execution_count": null,
      "outputs": []
    },
    {
      "cell_type": "code",
      "metadata": {
        "id": "p1JLVpHWIm_M"
      },
      "source": [
        "#definir optimizador, función de pérdida y métricas\n",
        "\n",
        "model.compile(\n",
        "    optimizer = 'adam',\n",
        "    loss = 'binary_crossentropy',\n",
        "    metrics=['binary_accuracy'],\n",
        "    )"
      ],
      "execution_count": null,
      "outputs": []
    },
    {
      "cell_type": "code",
      "metadata": {
        "colab": {
          "base_uri": "https://localhost:8080/"
        },
        "id": "Oii9ScpnIuxd",
        "outputId": "a3ffc342-5856-4996-ae96-e62845d52059"
      },
      "source": [
        "#definir tamaño de lote, épocas, etc.\n",
        "history = model.fit(\n",
        "        train_X, train_y,\n",
        "        validation_data=(val_X, val_y),\n",
        "        batch_size=10,\n",
        "        epochs=200,\n",
        "        callbacks=[early_stopping]\n",
        "        )"
      ],
      "execution_count": null,
      "outputs": [
        {
          "output_type": "stream",
          "name": "stdout",
          "text": [
            "Epoch 1/200\n",
            "40/40 [==============================] - 2s 21ms/step - loss: 0.6776 - binary_accuracy: 0.9025 - val_loss: 0.6595 - val_binary_accuracy: 0.9400\n",
            "Epoch 2/200\n",
            "40/40 [==============================] - 0s 8ms/step - loss: 0.6443 - binary_accuracy: 0.9175 - val_loss: 0.6185 - val_binary_accuracy: 0.9400\n",
            "Epoch 3/200\n",
            "40/40 [==============================] - 0s 9ms/step - loss: 0.5978 - binary_accuracy: 0.9175 - val_loss: 0.5560 - val_binary_accuracy: 0.9400\n",
            "Epoch 4/200\n",
            "40/40 [==============================] - 0s 11ms/step - loss: 0.5266 - binary_accuracy: 0.9175 - val_loss: 0.4640 - val_binary_accuracy: 0.9400\n",
            "Epoch 5/200\n",
            "40/40 [==============================] - 0s 8ms/step - loss: 0.4369 - binary_accuracy: 0.9175 - val_loss: 0.3694 - val_binary_accuracy: 0.9400\n",
            "Epoch 6/200\n",
            "40/40 [==============================] - 1s 14ms/step - loss: 0.3540 - binary_accuracy: 0.9175 - val_loss: 0.2881 - val_binary_accuracy: 0.9400\n",
            "Epoch 7/200\n",
            "40/40 [==============================] - 0s 8ms/step - loss: 0.2915 - binary_accuracy: 0.9175 - val_loss: 0.2319 - val_binary_accuracy: 0.9400\n",
            "Epoch 8/200\n",
            "40/40 [==============================] - 0s 9ms/step - loss: 0.2516 - binary_accuracy: 0.9175 - val_loss: 0.1964 - val_binary_accuracy: 0.9400\n",
            "Epoch 9/200\n",
            "40/40 [==============================] - 0s 6ms/step - loss: 0.2274 - binary_accuracy: 0.9175 - val_loss: 0.1758 - val_binary_accuracy: 0.9400\n",
            "Epoch 10/200\n",
            "40/40 [==============================] - 0s 4ms/step - loss: 0.2134 - binary_accuracy: 0.9175 - val_loss: 0.1636 - val_binary_accuracy: 0.9400\n",
            "Epoch 11/200\n",
            "40/40 [==============================] - 0s 5ms/step - loss: 0.2050 - binary_accuracy: 0.9175 - val_loss: 0.1554 - val_binary_accuracy: 0.9400\n",
            "Epoch 12/200\n",
            "40/40 [==============================] - 0s 3ms/step - loss: 0.1997 - binary_accuracy: 0.9175 - val_loss: 0.1493 - val_binary_accuracy: 0.9400\n",
            "Epoch 13/200\n",
            "40/40 [==============================] - 0s 3ms/step - loss: 0.1955 - binary_accuracy: 0.9175 - val_loss: 0.1456 - val_binary_accuracy: 0.9400\n",
            "Epoch 14/200\n",
            "40/40 [==============================] - 0s 4ms/step - loss: 0.1925 - binary_accuracy: 0.9175 - val_loss: 0.1426 - val_binary_accuracy: 0.9400\n",
            "Epoch 15/200\n",
            "40/40 [==============================] - 0s 4ms/step - loss: 0.1897 - binary_accuracy: 0.9175 - val_loss: 0.1399 - val_binary_accuracy: 0.9400\n",
            "Epoch 16/200\n",
            "40/40 [==============================] - 0s 4ms/step - loss: 0.1872 - binary_accuracy: 0.9175 - val_loss: 0.1376 - val_binary_accuracy: 0.9400\n",
            "Epoch 17/200\n",
            "40/40 [==============================] - 0s 3ms/step - loss: 0.1850 - binary_accuracy: 0.9175 - val_loss: 0.1355 - val_binary_accuracy: 0.9400\n",
            "Epoch 18/200\n",
            "40/40 [==============================] - 0s 5ms/step - loss: 0.1827 - binary_accuracy: 0.9175 - val_loss: 0.1333 - val_binary_accuracy: 0.9400\n",
            "Epoch 19/200\n",
            "40/40 [==============================] - 0s 6ms/step - loss: 0.1801 - binary_accuracy: 0.9175 - val_loss: 0.1312 - val_binary_accuracy: 0.9400\n",
            "Epoch 20/200\n",
            "40/40 [==============================] - 0s 7ms/step - loss: 0.1779 - binary_accuracy: 0.9175 - val_loss: 0.1294 - val_binary_accuracy: 0.9400\n",
            "Epoch 21/200\n",
            "40/40 [==============================] - 0s 7ms/step - loss: 0.1755 - binary_accuracy: 0.9175 - val_loss: 0.1274 - val_binary_accuracy: 0.9400\n",
            "Epoch 22/200\n",
            "40/40 [==============================] - 0s 7ms/step - loss: 0.1729 - binary_accuracy: 0.9175 - val_loss: 0.1258 - val_binary_accuracy: 0.9400\n",
            "Epoch 23/200\n",
            "40/40 [==============================] - 0s 7ms/step - loss: 0.1705 - binary_accuracy: 0.9175 - val_loss: 0.1242 - val_binary_accuracy: 0.9400\n",
            "Epoch 24/200\n",
            "40/40 [==============================] - 0s 7ms/step - loss: 0.1680 - binary_accuracy: 0.9175 - val_loss: 0.1223 - val_binary_accuracy: 0.9400\n",
            "Epoch 25/200\n",
            "40/40 [==============================] - 0s 5ms/step - loss: 0.1655 - binary_accuracy: 0.9175 - val_loss: 0.1204 - val_binary_accuracy: 0.9400\n",
            "Epoch 26/200\n",
            "40/40 [==============================] - 0s 6ms/step - loss: 0.1630 - binary_accuracy: 0.9175 - val_loss: 0.1187 - val_binary_accuracy: 0.9400\n",
            "Epoch 27/200\n",
            "40/40 [==============================] - 0s 7ms/step - loss: 0.1605 - binary_accuracy: 0.9175 - val_loss: 0.1169 - val_binary_accuracy: 0.9400\n",
            "Epoch 28/200\n",
            "40/40 [==============================] - 0s 7ms/step - loss: 0.1579 - binary_accuracy: 0.9175 - val_loss: 0.1150 - val_binary_accuracy: 0.9400\n",
            "Epoch 29/200\n",
            "40/40 [==============================] - 0s 5ms/step - loss: 0.1552 - binary_accuracy: 0.9175 - val_loss: 0.1130 - val_binary_accuracy: 0.9400\n",
            "Epoch 30/200\n",
            "40/40 [==============================] - 0s 4ms/step - loss: 0.1526 - binary_accuracy: 0.9175 - val_loss: 0.1112 - val_binary_accuracy: 0.9400\n",
            "Epoch 31/200\n",
            "40/40 [==============================] - 0s 4ms/step - loss: 0.1500 - binary_accuracy: 0.9175 - val_loss: 0.1093 - val_binary_accuracy: 0.9400\n",
            "Epoch 32/200\n",
            "40/40 [==============================] - 0s 5ms/step - loss: 0.1473 - binary_accuracy: 0.9175 - val_loss: 0.1076 - val_binary_accuracy: 0.9400\n",
            "Epoch 33/200\n",
            "40/40 [==============================] - 0s 5ms/step - loss: 0.1447 - binary_accuracy: 0.9175 - val_loss: 0.1057 - val_binary_accuracy: 0.9400\n",
            "Epoch 34/200\n",
            "40/40 [==============================] - 0s 4ms/step - loss: 0.1419 - binary_accuracy: 0.9175 - val_loss: 0.1039 - val_binary_accuracy: 0.9400\n",
            "Epoch 35/200\n",
            "40/40 [==============================] - 0s 4ms/step - loss: 0.1392 - binary_accuracy: 0.9175 - val_loss: 0.1022 - val_binary_accuracy: 0.9400\n",
            "Epoch 36/200\n",
            "40/40 [==============================] - 0s 4ms/step - loss: 0.1365 - binary_accuracy: 0.9175 - val_loss: 0.1005 - val_binary_accuracy: 0.9400\n",
            "Epoch 37/200\n",
            "40/40 [==============================] - 0s 4ms/step - loss: 0.1337 - binary_accuracy: 0.9175 - val_loss: 0.0988 - val_binary_accuracy: 0.9400\n",
            "Epoch 38/200\n",
            "40/40 [==============================] - 0s 5ms/step - loss: 0.1310 - binary_accuracy: 0.9175 - val_loss: 0.0972 - val_binary_accuracy: 0.9400\n",
            "Epoch 39/200\n",
            "40/40 [==============================] - 0s 4ms/step - loss: 0.1285 - binary_accuracy: 0.9175 - val_loss: 0.0959 - val_binary_accuracy: 0.9400\n",
            "Epoch 40/200\n",
            "40/40 [==============================] - 0s 4ms/step - loss: 0.1255 - binary_accuracy: 0.9175 - val_loss: 0.0942 - val_binary_accuracy: 0.9400\n",
            "Epoch 41/200\n",
            "40/40 [==============================] - 0s 4ms/step - loss: 0.1232 - binary_accuracy: 0.9225 - val_loss: 0.0926 - val_binary_accuracy: 0.9500\n",
            "Epoch 42/200\n",
            "40/40 [==============================] - 0s 4ms/step - loss: 0.1213 - binary_accuracy: 0.9375 - val_loss: 0.0913 - val_binary_accuracy: 0.9500\n",
            "Epoch 43/200\n",
            "40/40 [==============================] - 0s 5ms/step - loss: 0.1192 - binary_accuracy: 0.9400 - val_loss: 0.0897 - val_binary_accuracy: 0.9600\n",
            "Epoch 44/200\n",
            "40/40 [==============================] - 0s 4ms/step - loss: 0.1171 - binary_accuracy: 0.9400 - val_loss: 0.0888 - val_binary_accuracy: 0.9600\n",
            "Epoch 45/200\n",
            "40/40 [==============================] - 0s 5ms/step - loss: 0.1150 - binary_accuracy: 0.9400 - val_loss: 0.0875 - val_binary_accuracy: 0.9600\n",
            "Epoch 46/200\n",
            "40/40 [==============================] - 0s 4ms/step - loss: 0.1130 - binary_accuracy: 0.9450 - val_loss: 0.0865 - val_binary_accuracy: 0.9700\n",
            "Epoch 47/200\n",
            "40/40 [==============================] - 0s 4ms/step - loss: 0.1109 - binary_accuracy: 0.9500 - val_loss: 0.0853 - val_binary_accuracy: 0.9700\n",
            "Epoch 48/200\n",
            "40/40 [==============================] - 0s 3ms/step - loss: 0.1089 - binary_accuracy: 0.9500 - val_loss: 0.0842 - val_binary_accuracy: 0.9700\n",
            "Epoch 49/200\n",
            "40/40 [==============================] - 0s 4ms/step - loss: 0.1072 - binary_accuracy: 0.9500 - val_loss: 0.0833 - val_binary_accuracy: 0.9700\n",
            "Epoch 50/200\n",
            "40/40 [==============================] - 0s 4ms/step - loss: 0.1051 - binary_accuracy: 0.9500 - val_loss: 0.0821 - val_binary_accuracy: 0.9700\n",
            "Epoch 51/200\n",
            "40/40 [==============================] - 0s 5ms/step - loss: 0.1033 - binary_accuracy: 0.9525 - val_loss: 0.0811 - val_binary_accuracy: 0.9700\n",
            "Epoch 52/200\n",
            "40/40 [==============================] - 0s 3ms/step - loss: 0.1016 - binary_accuracy: 0.9550 - val_loss: 0.0802 - val_binary_accuracy: 0.9700\n",
            "Epoch 53/200\n",
            "40/40 [==============================] - 0s 4ms/step - loss: 0.0998 - binary_accuracy: 0.9550 - val_loss: 0.0795 - val_binary_accuracy: 0.9700\n",
            "Epoch 54/200\n",
            "40/40 [==============================] - 0s 4ms/step - loss: 0.0981 - binary_accuracy: 0.9550 - val_loss: 0.0784 - val_binary_accuracy: 0.9700\n",
            "Epoch 55/200\n",
            "40/40 [==============================] - 0s 5ms/step - loss: 0.0965 - binary_accuracy: 0.9575 - val_loss: 0.0776 - val_binary_accuracy: 0.9700\n",
            "Epoch 56/200\n",
            "40/40 [==============================] - 0s 4ms/step - loss: 0.0948 - binary_accuracy: 0.9625 - val_loss: 0.0769 - val_binary_accuracy: 0.9700\n",
            "Epoch 57/200\n",
            "40/40 [==============================] - 0s 5ms/step - loss: 0.0932 - binary_accuracy: 0.9625 - val_loss: 0.0759 - val_binary_accuracy: 0.9700\n",
            "Epoch 58/200\n",
            "40/40 [==============================] - 0s 4ms/step - loss: 0.0916 - binary_accuracy: 0.9625 - val_loss: 0.0753 - val_binary_accuracy: 0.9700\n",
            "Epoch 59/200\n",
            "40/40 [==============================] - 0s 4ms/step - loss: 0.0900 - binary_accuracy: 0.9625 - val_loss: 0.0744 - val_binary_accuracy: 0.9700\n",
            "Epoch 60/200\n",
            "40/40 [==============================] - 0s 4ms/step - loss: 0.0885 - binary_accuracy: 0.9625 - val_loss: 0.0737 - val_binary_accuracy: 0.9700\n",
            "Epoch 61/200\n",
            "40/40 [==============================] - 0s 4ms/step - loss: 0.0869 - binary_accuracy: 0.9625 - val_loss: 0.0726 - val_binary_accuracy: 0.9700\n",
            "Epoch 62/200\n",
            "40/40 [==============================] - 0s 5ms/step - loss: 0.0856 - binary_accuracy: 0.9625 - val_loss: 0.0714 - val_binary_accuracy: 0.9700\n",
            "Epoch 63/200\n",
            "40/40 [==============================] - 0s 5ms/step - loss: 0.0841 - binary_accuracy: 0.9650 - val_loss: 0.0708 - val_binary_accuracy: 0.9700\n",
            "Epoch 64/200\n",
            "40/40 [==============================] - 0s 4ms/step - loss: 0.0829 - binary_accuracy: 0.9700 - val_loss: 0.0698 - val_binary_accuracy: 0.9700\n",
            "Epoch 65/200\n",
            "40/40 [==============================] - 0s 4ms/step - loss: 0.0813 - binary_accuracy: 0.9700 - val_loss: 0.0693 - val_binary_accuracy: 0.9600\n",
            "Epoch 66/200\n",
            "40/40 [==============================] - 0s 4ms/step - loss: 0.0799 - binary_accuracy: 0.9700 - val_loss: 0.0686 - val_binary_accuracy: 0.9600\n",
            "Epoch 67/200\n",
            "40/40 [==============================] - 0s 4ms/step - loss: 0.0785 - binary_accuracy: 0.9700 - val_loss: 0.0676 - val_binary_accuracy: 0.9600\n",
            "Epoch 68/200\n",
            "40/40 [==============================] - 0s 6ms/step - loss: 0.0771 - binary_accuracy: 0.9700 - val_loss: 0.0669 - val_binary_accuracy: 0.9700\n",
            "Epoch 69/200\n",
            "40/40 [==============================] - 0s 4ms/step - loss: 0.0757 - binary_accuracy: 0.9725 - val_loss: 0.0663 - val_binary_accuracy: 0.9700\n",
            "Epoch 70/200\n",
            "40/40 [==============================] - 0s 4ms/step - loss: 0.0744 - binary_accuracy: 0.9725 - val_loss: 0.0656 - val_binary_accuracy: 0.9700\n",
            "Epoch 71/200\n",
            "40/40 [==============================] - 0s 4ms/step - loss: 0.0731 - binary_accuracy: 0.9725 - val_loss: 0.0649 - val_binary_accuracy: 0.9700\n",
            "Epoch 72/200\n",
            "40/40 [==============================] - 0s 4ms/step - loss: 0.0717 - binary_accuracy: 0.9725 - val_loss: 0.0641 - val_binary_accuracy: 0.9700\n",
            "Epoch 73/200\n",
            "40/40 [==============================] - 0s 4ms/step - loss: 0.0705 - binary_accuracy: 0.9725 - val_loss: 0.0632 - val_binary_accuracy: 0.9700\n",
            "Epoch 74/200\n",
            "40/40 [==============================] - 0s 6ms/step - loss: 0.0693 - binary_accuracy: 0.9750 - val_loss: 0.0628 - val_binary_accuracy: 0.9700\n",
            "Epoch 75/200\n",
            "40/40 [==============================] - 0s 4ms/step - loss: 0.0681 - binary_accuracy: 0.9775 - val_loss: 0.0618 - val_binary_accuracy: 0.9700\n",
            "Epoch 76/200\n",
            "40/40 [==============================] - 0s 4ms/step - loss: 0.0669 - binary_accuracy: 0.9775 - val_loss: 0.0611 - val_binary_accuracy: 0.9700\n",
            "Epoch 77/200\n",
            "40/40 [==============================] - 0s 4ms/step - loss: 0.0658 - binary_accuracy: 0.9775 - val_loss: 0.0606 - val_binary_accuracy: 0.9800\n",
            "Epoch 78/200\n",
            "40/40 [==============================] - 0s 5ms/step - loss: 0.0646 - binary_accuracy: 0.9775 - val_loss: 0.0596 - val_binary_accuracy: 0.9800\n",
            "Epoch 79/200\n",
            "40/40 [==============================] - 0s 6ms/step - loss: 0.0635 - binary_accuracy: 0.9775 - val_loss: 0.0589 - val_binary_accuracy: 0.9800\n",
            "Epoch 80/200\n",
            "40/40 [==============================] - 0s 4ms/step - loss: 0.0624 - binary_accuracy: 0.9775 - val_loss: 0.0582 - val_binary_accuracy: 0.9800\n",
            "Epoch 81/200\n",
            "40/40 [==============================] - 0s 5ms/step - loss: 0.0614 - binary_accuracy: 0.9775 - val_loss: 0.0578 - val_binary_accuracy: 0.9800\n",
            "Epoch 82/200\n",
            "40/40 [==============================] - 0s 5ms/step - loss: 0.0601 - binary_accuracy: 0.9775 - val_loss: 0.0570 - val_binary_accuracy: 0.9800\n",
            "Epoch 83/200\n",
            "40/40 [==============================] - 0s 5ms/step - loss: 0.0591 - binary_accuracy: 0.9775 - val_loss: 0.0563 - val_binary_accuracy: 0.9800\n",
            "Epoch 84/200\n",
            "40/40 [==============================] - 0s 4ms/step - loss: 0.0581 - binary_accuracy: 0.9775 - val_loss: 0.0560 - val_binary_accuracy: 0.9800\n",
            "Epoch 85/200\n",
            "40/40 [==============================] - 0s 8ms/step - loss: 0.0570 - binary_accuracy: 0.9775 - val_loss: 0.0553 - val_binary_accuracy: 0.9800\n",
            "Epoch 86/200\n",
            "40/40 [==============================] - 0s 7ms/step - loss: 0.0560 - binary_accuracy: 0.9775 - val_loss: 0.0550 - val_binary_accuracy: 0.9800\n",
            "Epoch 87/200\n",
            "40/40 [==============================] - 0s 7ms/step - loss: 0.0551 - binary_accuracy: 0.9775 - val_loss: 0.0544 - val_binary_accuracy: 0.9800\n",
            "Epoch 88/200\n",
            "40/40 [==============================] - 0s 7ms/step - loss: 0.0540 - binary_accuracy: 0.9800 - val_loss: 0.0535 - val_binary_accuracy: 0.9800\n",
            "Epoch 89/200\n",
            "40/40 [==============================] - 0s 7ms/step - loss: 0.0531 - binary_accuracy: 0.9800 - val_loss: 0.0528 - val_binary_accuracy: 0.9800\n",
            "Epoch 90/200\n",
            "40/40 [==============================] - 0s 6ms/step - loss: 0.0521 - binary_accuracy: 0.9825 - val_loss: 0.0528 - val_binary_accuracy: 0.9800\n",
            "Epoch 91/200\n",
            "40/40 [==============================] - 0s 6ms/step - loss: 0.0513 - binary_accuracy: 0.9875 - val_loss: 0.0524 - val_binary_accuracy: 0.9800\n",
            "Epoch 92/200\n",
            "40/40 [==============================] - 0s 7ms/step - loss: 0.0504 - binary_accuracy: 0.9875 - val_loss: 0.0524 - val_binary_accuracy: 0.9800\n",
            "Epoch 93/200\n",
            "40/40 [==============================] - 0s 6ms/step - loss: 0.0495 - binary_accuracy: 0.9900 - val_loss: 0.0520 - val_binary_accuracy: 0.9800\n",
            "Epoch 94/200\n",
            "40/40 [==============================] - 0s 6ms/step - loss: 0.0486 - binary_accuracy: 0.9950 - val_loss: 0.0512 - val_binary_accuracy: 0.9800\n",
            "Epoch 95/200\n",
            "40/40 [==============================] - 0s 4ms/step - loss: 0.0480 - binary_accuracy: 0.9975 - val_loss: 0.0512 - val_binary_accuracy: 0.9800\n",
            "Epoch 96/200\n",
            "40/40 [==============================] - 0s 4ms/step - loss: 0.0471 - binary_accuracy: 0.9975 - val_loss: 0.0511 - val_binary_accuracy: 0.9800\n",
            "Epoch 97/200\n",
            "40/40 [==============================] - 0s 5ms/step - loss: 0.0460 - binary_accuracy: 0.9975 - val_loss: 0.0503 - val_binary_accuracy: 0.9800\n",
            "Epoch 98/200\n",
            "40/40 [==============================] - 0s 4ms/step - loss: 0.0452 - binary_accuracy: 0.9975 - val_loss: 0.0501 - val_binary_accuracy: 0.9800\n",
            "Epoch 99/200\n",
            "40/40 [==============================] - 0s 4ms/step - loss: 0.0444 - binary_accuracy: 0.9975 - val_loss: 0.0498 - val_binary_accuracy: 0.9800\n",
            "Epoch 100/200\n",
            "40/40 [==============================] - 0s 5ms/step - loss: 0.0436 - binary_accuracy: 0.9975 - val_loss: 0.0496 - val_binary_accuracy: 0.9800\n",
            "Epoch 101/200\n",
            "40/40 [==============================] - 0s 5ms/step - loss: 0.0428 - binary_accuracy: 0.9975 - val_loss: 0.0493 - val_binary_accuracy: 0.9800\n",
            "Epoch 102/200\n",
            "40/40 [==============================] - 0s 5ms/step - loss: 0.0420 - binary_accuracy: 0.9975 - val_loss: 0.0491 - val_binary_accuracy: 0.9800\n",
            "Epoch 103/200\n",
            "40/40 [==============================] - 0s 5ms/step - loss: 0.0413 - binary_accuracy: 0.9975 - val_loss: 0.0488 - val_binary_accuracy: 0.9800\n",
            "Epoch 104/200\n",
            "40/40 [==============================] - 0s 5ms/step - loss: 0.0404 - binary_accuracy: 0.9975 - val_loss: 0.0483 - val_binary_accuracy: 0.9800\n",
            "Epoch 105/200\n",
            "40/40 [==============================] - 0s 5ms/step - loss: 0.0397 - binary_accuracy: 0.9975 - val_loss: 0.0481 - val_binary_accuracy: 0.9800\n",
            "Epoch 106/200\n",
            "40/40 [==============================] - 0s 4ms/step - loss: 0.0390 - binary_accuracy: 0.9975 - val_loss: 0.0477 - val_binary_accuracy: 0.9800\n",
            "Epoch 107/200\n",
            "40/40 [==============================] - 0s 5ms/step - loss: 0.0383 - binary_accuracy: 0.9975 - val_loss: 0.0478 - val_binary_accuracy: 0.9800\n",
            "Epoch 108/200\n",
            "40/40 [==============================] - 0s 4ms/step - loss: 0.0376 - binary_accuracy: 0.9975 - val_loss: 0.0479 - val_binary_accuracy: 0.9800\n",
            "Epoch 109/200\n",
            "40/40 [==============================] - 0s 4ms/step - loss: 0.0369 - binary_accuracy: 0.9975 - val_loss: 0.0472 - val_binary_accuracy: 0.9800\n",
            "Epoch 110/200\n",
            "40/40 [==============================] - 0s 5ms/step - loss: 0.0362 - binary_accuracy: 1.0000 - val_loss: 0.0470 - val_binary_accuracy: 0.9800\n",
            "Epoch 111/200\n",
            "40/40 [==============================] - 0s 4ms/step - loss: 0.0355 - binary_accuracy: 1.0000 - val_loss: 0.0468 - val_binary_accuracy: 0.9800\n",
            "Epoch 112/200\n",
            "40/40 [==============================] - 0s 5ms/step - loss: 0.0348 - binary_accuracy: 1.0000 - val_loss: 0.0465 - val_binary_accuracy: 0.9800\n",
            "Epoch 113/200\n",
            "40/40 [==============================] - 0s 5ms/step - loss: 0.0343 - binary_accuracy: 1.0000 - val_loss: 0.0458 - val_binary_accuracy: 0.9800\n",
            "Epoch 114/200\n",
            "40/40 [==============================] - 0s 5ms/step - loss: 0.0337 - binary_accuracy: 1.0000 - val_loss: 0.0461 - val_binary_accuracy: 0.9800\n",
            "Epoch 115/200\n",
            "40/40 [==============================] - 0s 5ms/step - loss: 0.0331 - binary_accuracy: 1.0000 - val_loss: 0.0451 - val_binary_accuracy: 0.9800\n",
            "Epoch 116/200\n",
            "40/40 [==============================] - 0s 4ms/step - loss: 0.0325 - binary_accuracy: 1.0000 - val_loss: 0.0450 - val_binary_accuracy: 0.9800\n",
            "Epoch 117/200\n",
            "40/40 [==============================] - 0s 4ms/step - loss: 0.0319 - binary_accuracy: 1.0000 - val_loss: 0.0443 - val_binary_accuracy: 0.9800\n",
            "Epoch 118/200\n",
            "40/40 [==============================] - 0s 4ms/step - loss: 0.0314 - binary_accuracy: 1.0000 - val_loss: 0.0442 - val_binary_accuracy: 0.9800\n",
            "Epoch 119/200\n",
            "40/40 [==============================] - 0s 5ms/step - loss: 0.0309 - binary_accuracy: 1.0000 - val_loss: 0.0441 - val_binary_accuracy: 0.9800\n",
            "Epoch 120/200\n",
            "40/40 [==============================] - 0s 5ms/step - loss: 0.0303 - binary_accuracy: 1.0000 - val_loss: 0.0438 - val_binary_accuracy: 0.9800\n",
            "Epoch 121/200\n",
            "40/40 [==============================] - 0s 5ms/step - loss: 0.0298 - binary_accuracy: 1.0000 - val_loss: 0.0437 - val_binary_accuracy: 0.9800\n",
            "Epoch 122/200\n",
            "40/40 [==============================] - 0s 4ms/step - loss: 0.0293 - binary_accuracy: 1.0000 - val_loss: 0.0434 - val_binary_accuracy: 0.9800\n",
            "Epoch 123/200\n",
            "40/40 [==============================] - 0s 5ms/step - loss: 0.0288 - binary_accuracy: 1.0000 - val_loss: 0.0434 - val_binary_accuracy: 0.9800\n",
            "Epoch 124/200\n",
            "40/40 [==============================] - 0s 5ms/step - loss: 0.0283 - binary_accuracy: 1.0000 - val_loss: 0.0435 - val_binary_accuracy: 0.9800\n"
          ]
        }
      ]
    },
    {
      "cell_type": "code",
      "metadata": {
        "id": "LfqJrkVuI5rF",
        "colab": {
          "base_uri": "https://localhost:8080/"
        },
        "outputId": "a987fb53-e995-465b-c2e2-0c6b7a086ecc"
      },
      "source": [
        "#definir y_pred\n",
        "y_pred = model.predict(val_X)\n",
        "y_pred"
      ],
      "execution_count": null,
      "outputs": [
        {
          "output_type": "stream",
          "name": "stdout",
          "text": [
            "4/4 [==============================] - 0s 5ms/step\n"
          ]
        },
        {
          "output_type": "execute_result",
          "data": {
            "text/plain": [
              "array([[0.9999962 ],\n",
              "       [0.9999973 ],\n",
              "       [0.99965596],\n",
              "       [0.9999999 ],\n",
              "       [0.99999577],\n",
              "       [0.9999404 ],\n",
              "       [0.9999856 ],\n",
              "       [0.9999924 ],\n",
              "       [0.9873654 ],\n",
              "       [0.99599874],\n",
              "       [0.99999934],\n",
              "       [0.9998209 ],\n",
              "       [0.9998251 ],\n",
              "       [0.32517707],\n",
              "       [0.9999997 ],\n",
              "       [0.99985635],\n",
              "       [0.99998975],\n",
              "       [0.99997973],\n",
              "       [0.9999404 ],\n",
              "       [0.9999966 ],\n",
              "       [0.99985325],\n",
              "       [0.9999964 ],\n",
              "       [0.99999255],\n",
              "       [0.32517707],\n",
              "       [1.        ],\n",
              "       [0.9912813 ],\n",
              "       [0.99994457],\n",
              "       [0.9999994 ],\n",
              "       [0.99886155],\n",
              "       [0.9999997 ],\n",
              "       [0.9961287 ],\n",
              "       [0.99999523],\n",
              "       [0.9996929 ],\n",
              "       [0.9998454 ],\n",
              "       [0.9992855 ],\n",
              "       [0.9999936 ],\n",
              "       [0.96190804],\n",
              "       [0.9980822 ],\n",
              "       [0.99999976],\n",
              "       [0.9999909 ],\n",
              "       [0.9999047 ],\n",
              "       [0.9996463 ],\n",
              "       [0.9998997 ],\n",
              "       [0.982795  ],\n",
              "       [0.999994  ],\n",
              "       [0.9999315 ],\n",
              "       [0.99999714],\n",
              "       [0.9862247 ],\n",
              "       [0.99999464],\n",
              "       [0.99888873],\n",
              "       [0.99169093],\n",
              "       [0.9981669 ],\n",
              "       [0.99950725],\n",
              "       [0.9999994 ],\n",
              "       [0.9998994 ],\n",
              "       [0.9999666 ],\n",
              "       [0.4489776 ],\n",
              "       [0.32517707],\n",
              "       [0.9999914 ],\n",
              "       [0.9858634 ],\n",
              "       [0.97522295],\n",
              "       [0.9993533 ],\n",
              "       [0.6968152 ],\n",
              "       [0.9998546 ],\n",
              "       [0.99999714],\n",
              "       [0.9999404 ],\n",
              "       [0.9999787 ],\n",
              "       [0.99997187],\n",
              "       [0.9997441 ],\n",
              "       [0.95058864],\n",
              "       [0.99990207],\n",
              "       [0.99559236],\n",
              "       [0.99985105],\n",
              "       [0.9993771 ],\n",
              "       [0.9998712 ],\n",
              "       [0.99993163],\n",
              "       [0.99980015],\n",
              "       [0.999992  ],\n",
              "       [0.32517707],\n",
              "       [0.999997  ],\n",
              "       [0.99999255],\n",
              "       [0.9951724 ],\n",
              "       [0.97318864],\n",
              "       [0.9992201 ],\n",
              "       [0.9557866 ],\n",
              "       [1.        ],\n",
              "       [0.98259306],\n",
              "       [0.9999992 ],\n",
              "       [0.32517707],\n",
              "       [0.99999744],\n",
              "       [0.7951951 ],\n",
              "       [0.991964  ],\n",
              "       [0.99934554],\n",
              "       [0.99999523],\n",
              "       [0.48870844],\n",
              "       [0.99875355],\n",
              "       [0.9980822 ],\n",
              "       [0.98463476],\n",
              "       [0.999302  ],\n",
              "       [0.46849936]], dtype=float32)"
            ]
          },
          "metadata": {},
          "execution_count": 30
        }
      ]
    },
    {
      "cell_type": "code",
      "metadata": {
        "colab": {
          "base_uri": "https://localhost:8080/"
        },
        "id": "A-bDaeUzl14h",
        "outputId": "65d6a0e7-02a8-4e1d-fb72-88e2791b6d7f"
      },
      "source": [
        "#transformar datos a binarios discretos\n",
        "y_pred1 = list(map(lambda x:1 if x>0.5 else 0, y_pred))\n",
        "y_pred1"
      ],
      "execution_count": null,
      "outputs": [
        {
          "output_type": "execute_result",
          "data": {
            "text/plain": [
              "[1,\n",
              " 1,\n",
              " 1,\n",
              " 1,\n",
              " 1,\n",
              " 1,\n",
              " 1,\n",
              " 1,\n",
              " 1,\n",
              " 1,\n",
              " 1,\n",
              " 1,\n",
              " 1,\n",
              " 0,\n",
              " 1,\n",
              " 1,\n",
              " 1,\n",
              " 1,\n",
              " 1,\n",
              " 1,\n",
              " 1,\n",
              " 1,\n",
              " 1,\n",
              " 0,\n",
              " 1,\n",
              " 1,\n",
              " 1,\n",
              " 1,\n",
              " 1,\n",
              " 1,\n",
              " 1,\n",
              " 1,\n",
              " 1,\n",
              " 1,\n",
              " 1,\n",
              " 1,\n",
              " 1,\n",
              " 1,\n",
              " 1,\n",
              " 1,\n",
              " 1,\n",
              " 1,\n",
              " 1,\n",
              " 1,\n",
              " 1,\n",
              " 1,\n",
              " 1,\n",
              " 1,\n",
              " 1,\n",
              " 1,\n",
              " 1,\n",
              " 1,\n",
              " 1,\n",
              " 1,\n",
              " 1,\n",
              " 1,\n",
              " 0,\n",
              " 0,\n",
              " 1,\n",
              " 1,\n",
              " 1,\n",
              " 1,\n",
              " 1,\n",
              " 1,\n",
              " 1,\n",
              " 1,\n",
              " 1,\n",
              " 1,\n",
              " 1,\n",
              " 1,\n",
              " 1,\n",
              " 1,\n",
              " 1,\n",
              " 1,\n",
              " 1,\n",
              " 1,\n",
              " 1,\n",
              " 1,\n",
              " 0,\n",
              " 1,\n",
              " 1,\n",
              " 1,\n",
              " 1,\n",
              " 1,\n",
              " 1,\n",
              " 1,\n",
              " 1,\n",
              " 1,\n",
              " 0,\n",
              " 1,\n",
              " 1,\n",
              " 1,\n",
              " 1,\n",
              " 1,\n",
              " 0,\n",
              " 1,\n",
              " 1,\n",
              " 1,\n",
              " 1,\n",
              " 0]"
            ]
          },
          "metadata": {},
          "execution_count": 31
        }
      ]
    },
    {
      "cell_type": "markdown",
      "source": [
        "##**Interpretación y evaluación**"
      ],
      "metadata": {
        "id": "4VlEXZOqGgES"
      }
    },
    {
      "cell_type": "code",
      "metadata": {
        "colab": {
          "base_uri": "https://localhost:8080/",
          "height": 278
        },
        "id": "wY-0ie7GIexj",
        "outputId": "fce232bc-dd0f-466a-e565-c6b22a5df848"
      },
      "source": [
        "\n",
        "!pip install -q scikit-plot\n",
        "import scikitplot as skplt\n",
        "skplt.metrics.plot_confusion_matrix(val_y, y_pred1, figsize=(4,4))\n"
      ],
      "execution_count": null,
      "outputs": [
        {
          "output_type": "execute_result",
          "data": {
            "text/plain": [
              "<Axes: title={'center': 'Confusion Matrix'}, xlabel='Predicted label', ylabel='True label'>"
            ]
          },
          "metadata": {},
          "execution_count": 32
        },
        {
          "output_type": "display_data",
          "data": {
            "text/plain": [
              "<Figure size 288x288 with 2 Axes>"
            ],
            "image/png": "[encoded data removed]"
          },
          "metadata": {
            "needs_background": "light"
          }
        }
      ]
    },
    {
      "cell_type": "code",
      "source": [
        "from sklearn.metrics import accuracy_score\n",
        "print('El accuracy para mi modelo es :{0:.2f}'.format(accuracy_score(val_y,y_pred1))) #usando la expresión regex .2f para mostrar 2 decimales"
      ],
      "metadata": {
        "colab": {
          "base_uri": "https://localhost:8080/"
        },
        "id": "fN_dV8kS9qoZ",
        "outputId": "e4e1969c-53bb-4a0e-9965-6fe24db99578"
      },
      "execution_count": null,
      "outputs": [
        {
          "output_type": "stream",
          "name": "stdout",
          "text": [
            "El accuracy para mi modelo es :0.98\n"
          ]
        }
      ]
    },
    {
      "cell_type": "code",
      "source": [
        "from sklearn.metrics import classification_report\n",
        "rf_report = classification_report(val_y, y_pred1, target_names=['Clase A' , 'Clase B']) #Obtenemos las métricas de la matriz por Perceptrón Multicapa\n",
        "print(rf_report)"
      ],
      "metadata": {
        "colab": {
          "base_uri": "https://localhost:8080/"
        },
        "id": "ejeuWUx3JX81",
        "outputId": "21a43d07-ff4a-4786-8c16-b8489293b663"
      },
      "execution_count": null,
      "outputs": [
        {
          "output_type": "stream",
          "name": "stdout",
          "text": [
            "              precision    recall  f1-score   support\n",
            "\n",
            "     Clase A       0.75      1.00      0.86         6\n",
            "     Clase B       1.00      0.98      0.99        94\n",
            "\n",
            "    accuracy                           0.98       100\n",
            "   macro avg       0.88      0.99      0.92       100\n",
            "weighted avg       0.98      0.98      0.98       100\n",
            "\n"
          ]
        }
      ]
    },
    {
      "cell_type": "markdown",
      "source": [
        "##** MODELO ADICIONAL: REGRESIÓN LOGÍSTICA**"
      ],
      "metadata": {
        "id": "RKKCHic0J8w4"
      }
    },
    {
      "cell_type": "code",
      "source": [
        "from sklearn.linear_model import LogisticRegression #Importamos la librería para aplicar Regresión Logística\n",
        "rl = LogisticRegression(random_state=1) #creamos la variable rl para guardar el modelo con los parámetros deseados\n",
        "rl.fit(train_X, train_y) #entrenamos con datos guardados en train_X y train_y\n",
        "rl_pred = rl.predict(val_X) #generamos las predicciones usando como variables predictoras los datos en val_X\n",
        "rl_pred #mostramos las predicciones guardadas en la variable rl_pred"
      ],
      "metadata": {
        "colab": {
          "base_uri": "https://localhost:8080/"
        },
        "id": "hHtP4uYiJ-f_",
        "outputId": "580a362a-618a-4e51-da4b-2bc93faf841e"
      },
      "execution_count": null,
      "outputs": [
        {
          "output_type": "execute_result",
          "data": {
            "text/plain": [
              "array([1, 1, 1, 1, 1, 1, 1, 1, 1, 1, 1, 1, 1, 0, 1, 1, 1, 1, 1, 1, 1, 1,\n",
              "       1, 0, 1, 1, 1, 1, 1, 1, 1, 1, 1, 1, 1, 1, 1, 1, 1, 1, 1, 1, 1, 1,\n",
              "       1, 1, 1, 1, 1, 1, 1, 1, 1, 1, 1, 1, 1, 0, 1, 1, 1, 1, 1, 1, 1, 1,\n",
              "       1, 1, 1, 1, 1, 1, 1, 1, 1, 1, 1, 1, 0, 1, 1, 1, 1, 1, 1, 1, 1, 1,\n",
              "       0, 1, 1, 1, 1, 1, 1, 1, 1, 1, 1, 1])"
            ]
          },
          "metadata": {},
          "execution_count": 35
        }
      ]
    },
    {
      "cell_type": "markdown",
      "source": [
        "*Probabilidades de la predicción sobre el target*"
      ],
      "metadata": {
        "id": "DXjW2h-lLCpO"
      }
    },
    {
      "cell_type": "code",
      "source": [
        "#Calculamos la probabilidades de obtener 1 con el método predict_proba\n",
        "rl_prob = rl.predict_proba(val_X)[:, 1]\n",
        "rl_prob"
      ],
      "metadata": {
        "colab": {
          "base_uri": "https://localhost:8080/"
        },
        "id": "slAWbgDfKOTH",
        "outputId": "3fd31c91-92bd-4382-b664-31261076c465"
      },
      "execution_count": null,
      "outputs": [
        {
          "output_type": "execute_result",
          "data": {
            "text/plain": [
              "array([0.99979422, 0.99983443, 0.99316522, 0.99997624, 0.99918936,\n",
              "       0.99866697, 0.99912158, 0.99969607, 0.93795582, 0.95522345,\n",
              "       0.99991176, 0.9935881 , 0.99573181, 0.27168891, 0.99992831,\n",
              "       0.99610426, 0.99964948, 0.99894553, 0.99866697, 0.99978746,\n",
              "       0.99545452, 0.99980904, 0.99971908, 0.097016  , 0.99999445,\n",
              "       0.96021441, 0.99891739, 0.99979975, 0.96529226, 0.99993061,\n",
              "       0.98388699, 0.99973627, 0.99599553, 0.99852758, 0.99618265,\n",
              "       0.99946187, 0.96074882, 0.99351402, 0.99994232, 0.99963797,\n",
              "       0.99913147, 0.99757467, 0.99771599, 0.93990066, 0.9995006 ,\n",
              "       0.99840607, 0.99993486, 0.91650496, 0.9994842 , 0.99411371,\n",
              "       0.94082924, 0.98720642, 0.99469467, 0.99990174, 0.99921958,\n",
              "       0.99952672, 0.50858949, 0.11679087, 0.99966403, 0.94616449,\n",
              "       0.95800518, 0.99267192, 0.79475854, 0.9955499 , 0.99993486,\n",
              "       0.99866697, 0.9997129 , 0.99536273, 0.99599121, 0.94647995,\n",
              "       0.99815029, 0.9517845 , 0.99815702, 0.99420259, 0.99852599,\n",
              "       0.99736013, 0.99787499, 0.99975631, 0.05955953, 0.99982229,\n",
              "       0.99971908, 0.94603561, 0.94279399, 0.99127398, 0.67751526,\n",
              "       0.99996432, 0.93189547, 0.99988667, 0.29031166, 0.99984643,\n",
              "       0.54836086, 0.95252778, 0.99163325, 0.99973627, 0.58683278,\n",
              "       0.99429988, 0.99351402, 0.93804854, 0.97856218, 0.50644198])"
            ]
          },
          "metadata": {},
          "execution_count": 36
        }
      ]
    },
    {
      "cell_type": "code",
      "source": [
        "\"CELDA N°14\"\n",
        "!pip install -q scikit-plot #Instalamos en el presente notebook usando ! el paquete scikit-plot\n",
        "import scikitplot as skplt #Importamos la librería skplt\n",
        "skplt.metrics.plot_confusion_matrix(val_y,rl_pred, figsize=(4,4)) #Graficamos la matriz usando plot_confusion_matrix y los datos de val_y vs rl_pred"
      ],
      "metadata": {
        "colab": {
          "base_uri": "https://localhost:8080/",
          "height": 278
        },
        "id": "J1UkzM0WKVle",
        "outputId": "8cc9c208-369d-459b-9ed9-2d97190dd5bf"
      },
      "execution_count": null,
      "outputs": [
        {
          "output_type": "execute_result",
          "data": {
            "text/plain": [
              "<Axes: title={'center': 'Confusion Matrix'}, xlabel='Predicted label', ylabel='True label'>"
            ]
          },
          "metadata": {},
          "execution_count": 37
        },
        {
          "output_type": "display_data",
          "data": {
            "text/plain": [
              "<Figure size 288x288 with 2 Axes>"
            ],
            "image/png": "[encoded data removed]"
          },
          "metadata": {
            "needs_background": "light"
          }
        }
      ]
    },
    {
      "cell_type": "code",
      "source": [
        "#Calculamos el accuracy comparando las predicciones generadas versus val_y\n",
        "print('El accuracy para mi segundo modelo es :{0:.2f}'.format(accuracy_score(val_y,rl_pred))) #usando la expresión regex .2f para mostrar 2 decimales"
      ],
      "metadata": {
        "colab": {
          "base_uri": "https://localhost:8080/"
        },
        "id": "zhshqa-_KczV",
        "outputId": "72926451-ddad-4afb-c756-5189f80a77d3"
      },
      "execution_count": null,
      "outputs": [
        {
          "output_type": "stream",
          "name": "stdout",
          "text": [
            "El accuracy para mi segundo modelo es :0.99\n"
          ]
        }
      ]
    },
    {
      "cell_type": "code",
      "source": [
        "rf_report = classification_report(val_y, rl_pred, target_names=['0' , '1']) #Obtenemos las métricas de la matriz por Regresión Logística\n",
        "print(rf_report)"
      ],
      "metadata": {
        "colab": {
          "base_uri": "https://localhost:8080/"
        },
        "id": "KOkdjxrBLRF-",
        "outputId": "a2121e58-21d7-4ab4-93d8-cb4085f0a9ce"
      },
      "execution_count": null,
      "outputs": [
        {
          "output_type": "stream",
          "name": "stdout",
          "text": [
            "              precision    recall  f1-score   support\n",
            "\n",
            "           0       1.00      0.83      0.91         6\n",
            "           1       0.99      1.00      0.99        94\n",
            "\n",
            "    accuracy                           0.99       100\n",
            "   macro avg       0.99      0.92      0.95       100\n",
            "weighted avg       0.99      0.99      0.99       100\n",
            "\n"
          ]
        }
      ]
    }
  ]
}