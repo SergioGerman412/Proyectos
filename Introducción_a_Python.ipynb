{
  "nbformat": 4,
  "nbformat_minor": 0,
  "metadata": {
    "colab": {
      "provenance": []
    },
    "kernelspec": {
      "name": "python3",
      "display_name": "Python 3"
    },
    "language_info": {
      "name": "python"
    }
  },
  "cells": [
    {
      "cell_type": "markdown",
      "source": [
        "# Librerías"
      ],
      "metadata": {
        "id": "Lx-hWBIFGv6n"
      }
    },
    {
      "cell_type": "markdown",
      "source": [
        "\"#\" dicho símbolo sirve para hacer comentarios"
      ],
      "metadata": {
        "id": "vab-faUsHqgN"
      }
    },
    {
      "cell_type": "code",
      "source": [
        "#ver librerías instaladas y versión\n",
        "!pip list"
      ],
      "metadata": {
        "colab": {
          "base_uri": "https://localhost:8080/"
        },
        "id": "DT1ATeBZHAcf",
        "outputId": "f3ee5cce-ac96-4931-e6c4-36086cf17ea8"
      },
      "execution_count": 30,
      "outputs": [
        {
          "output_type": "stream",
          "name": "stdout",
          "text": [
            "Package                       Version\n",
            "----------------------------- --------------------\n",
            "absl-py                       1.4.0\n",
            "alabaster                     0.7.13\n",
            "albumentations                1.2.1\n",
            "altair                        4.2.2\n",
            "anyio                         3.6.2\n",
            "appdirs                       1.4.4\n",
            "argon2-cffi                   21.3.0\n",
            "argon2-cffi-bindings          21.2.0\n",
            "arviz                         0.15.1\n",
            "astropy                       5.2.2\n",
            "astunparse                    1.6.3\n",
            "attrs                         23.1.0\n",
            "audioread                     3.0.0\n",
            "autograd                      1.5\n",
            "Babel                         2.12.1\n",
            "backcall                      0.2.0\n",
            "beautifulsoup4                4.11.2\n",
            "bleach                        6.0.0\n",
            "blis                          0.7.9\n",
            "blosc2                        2.0.0\n",
            "bokeh                         2.4.3\n",
            "branca                        0.6.0\n",
            "CacheControl                  0.12.11\n",
            "cached-property               1.5.2\n",
            "cachetools                    5.3.0\n",
            "catalogue                     2.0.8\n",
            "certifi                       2022.12.7\n",
            "cffi                          1.15.1\n",
            "chardet                       4.0.0\n",
            "charset-normalizer            2.0.12\n",
            "chex                          0.1.7\n",
            "click                         8.1.3\n",
            "cloudpickle                   2.2.1\n",
            "cmake                         3.25.2\n",
            "cmdstanpy                     1.1.0\n",
            "colorcet                      3.0.1\n",
            "colorlover                    0.3.0\n",
            "community                     1.0.0b1\n",
            "confection                    0.0.4\n",
            "cons                          0.4.5\n",
            "contextlib2                   0.6.0.post1\n",
            "contourpy                     1.0.7\n",
            "convertdate                   2.4.0\n",
            "cryptography                  40.0.2\n",
            "cufflinks                     0.17.3\n",
            "cvxopt                        1.3.0\n",
            "cvxpy                         1.3.1\n",
            "cycler                        0.11.0\n",
            "cymem                         2.0.7\n",
            "Cython                        0.29.34\n",
            "dask                          2022.12.1\n",
            "datascience                   0.17.6\n",
            "db-dtypes                     1.1.1\n",
            "dbus-python                   1.2.16\n",
            "debugpy                       1.6.6\n",
            "decorator                     4.4.2\n",
            "defusedxml                    0.7.1\n",
            "distributed                   2022.12.1\n",
            "dlib                          19.24.1\n",
            "dm-tree                       0.1.8\n",
            "docutils                      0.16\n",
            "dopamine-rl                   4.0.6\n",
            "duckdb                        0.7.1\n",
            "earthengine-api               0.1.350\n",
            "easydict                      1.10\n",
            "ecos                          2.0.12\n",
            "editdistance                  0.6.2\n",
            "en-core-web-sm                3.5.0\n",
            "entrypoints                   0.4\n",
            "ephem                         4.1.4\n",
            "et-xmlfile                    1.1.0\n",
            "etils                         1.2.0\n",
            "etuples                       0.3.8\n",
            "exceptiongroup                1.1.1\n",
            "fastai                        2.7.12\n",
            "fastcore                      1.5.29\n",
            "fastdownload                  0.0.7\n",
            "fastjsonschema                2.16.3\n",
            "fastprogress                  1.0.3\n",
            "fastrlock                     0.8.1\n",
            "filelock                      3.12.0\n",
            "firebase-admin                5.3.0\n",
            "Flask                         2.2.4\n",
            "flatbuffers                   23.3.3\n",
            "flax                          0.6.9\n",
            "folium                        0.14.0\n",
            "fonttools                     4.39.3\n",
            "frozendict                    2.3.7\n",
            "fsspec                        2023.4.0\n",
            "future                        0.18.3\n",
            "gast                          0.4.0\n",
            "GDAL                          3.3.2\n",
            "gdown                         4.6.6\n",
            "gensim                        4.3.1\n",
            "geographiclib                 2.0\n",
            "geopy                         2.3.0\n",
            "gin-config                    0.5.0\n",
            "glob2                         0.7\n",
            "google                        2.0.3\n",
            "google-api-core               2.11.0\n",
            "google-api-python-client      2.84.0\n",
            "google-auth                   2.17.3\n",
            "google-auth-httplib2          0.1.0\n",
            "google-auth-oauthlib          1.0.0\n",
            "google-cloud-bigquery         3.9.0\n",
            "google-cloud-bigquery-storage 2.19.1\n",
            "google-cloud-core             2.3.2\n",
            "google-cloud-datastore        2.15.1\n",
            "google-cloud-firestore        2.11.0\n",
            "google-cloud-language         2.9.1\n",
            "google-cloud-storage          2.8.0\n",
            "google-cloud-translate        3.11.1\n",
            "google-colab                  1.0.0\n",
            "google-crc32c                 1.5.0\n",
            "google-pasta                  0.2.0\n",
            "google-resumable-media        2.5.0\n",
            "googleapis-common-protos      1.59.0\n",
            "googledrivedownloader         0.4\n",
            "graphviz                      0.20.1\n",
            "greenlet                      2.0.2\n",
            "grpcio                        1.54.0\n",
            "grpcio-status                 1.48.2\n",
            "gspread                       3.4.2\n",
            "gspread-dataframe             3.0.8\n",
            "gym                           0.25.2\n",
            "gym-notices                   0.0.8\n",
            "h5netcdf                      1.1.0\n",
            "h5py                          3.8.0\n",
            "hijri-converter               2.3.1\n",
            "holidays                      0.23\n",
            "holoviews                     1.15.4\n",
            "html5lib                      1.1\n",
            "httpimport                    1.3.0\n",
            "httplib2                      0.21.0\n",
            "humanize                      4.6.0\n",
            "hyperopt                      0.2.7\n",
            "idna                          3.4\n",
            "imageio                       2.25.1\n",
            "imageio-ffmpeg                0.4.8\n",
            "imagesize                     1.4.1\n",
            "imbalanced-learn              0.10.1\n",
            "imgaug                        0.4.0\n",
            "importlib-metadata            6.6.0\n",
            "importlib-resources           5.12.0\n",
            "imutils                       0.5.4\n",
            "inflect                       6.0.4\n",
            "iniconfig                     2.0.0\n",
            "intel-openmp                  2023.1.0\n",
            "ipykernel                     5.5.6\n",
            "ipython                       7.34.0\n",
            "ipython-genutils              0.2.0\n",
            "ipython-sql                   0.4.1\n",
            "ipywidgets                    7.7.1\n",
            "itsdangerous                  2.1.2\n",
            "jax                           0.4.8\n",
            "jaxlib                        0.4.7+cuda11.cudnn86\n",
            "jieba                         0.42.1\n",
            "Jinja2                        3.1.2\n",
            "joblib                        1.2.0\n",
            "jsonpickle                    3.0.1\n",
            "jsonschema                    4.3.3\n",
            "jupyter-client                6.1.12\n",
            "jupyter-console               6.1.0\n",
            "jupyter_core                  5.3.0\n",
            "jupyter-server                1.24.0\n",
            "jupyterlab-pygments           0.2.2\n",
            "jupyterlab-widgets            3.0.7\n",
            "kaggle                        1.5.13\n",
            "keras                         2.12.0\n",
            "keras-vis                     0.4.1\n",
            "kiwisolver                    1.4.4\n",
            "korean-lunar-calendar         0.3.1\n",
            "langcodes                     3.3.0\n",
            "lazy_loader                   0.2\n",
            "libclang                      16.0.0\n",
            "librosa                       0.10.0.post2\n",
            "lightgbm                      3.3.5\n",
            "lit                           16.0.2\n",
            "llvmlite                      0.39.1\n",
            "locket                        1.0.0\n",
            "logical-unification           0.4.5\n",
            "LunarCalendar                 0.0.9\n",
            "lxml                          4.9.2\n",
            "Markdown                      3.4.3\n",
            "markdown-it-py                2.2.0\n",
            "MarkupSafe                    2.1.2\n",
            "matplotlib                    3.7.1\n",
            "matplotlib-inline             0.1.6\n",
            "matplotlib-venn               0.11.9\n",
            "mdurl                         0.1.2\n",
            "miniKanren                    1.0.3\n",
            "missingno                     0.5.2\n",
            "mistune                       0.8.4\n",
            "mizani                        0.8.1\n",
            "mkl                           2019.0\n",
            "ml-dtypes                     0.1.0\n",
            "mlxtend                       0.14.0\n",
            "more-itertools                9.1.0\n",
            "moviepy                       1.0.3\n",
            "mpmath                        1.3.0\n",
            "msgpack                       1.0.5\n",
            "multipledispatch              0.6.0\n",
            "multitasking                  0.0.11\n",
            "murmurhash                    1.0.9\n",
            "music21                       8.1.0\n",
            "natsort                       8.3.1\n",
            "nbclient                      0.7.4\n",
            "nbconvert                     6.5.4\n",
            "nbformat                      5.8.0\n",
            "nest-asyncio                  1.5.6\n",
            "networkx                      3.1\n",
            "nibabel                       3.0.2\n",
            "nltk                          3.8.1\n",
            "notebook                      6.4.8\n",
            "numba                         0.56.4\n",
            "numexpr                       2.8.4\n",
            "numpy                         1.22.4\n",
            "oauth2client                  4.1.3\n",
            "oauthlib                      3.2.2\n",
            "opencv-contrib-python         4.7.0.72\n",
            "opencv-python                 4.7.0.72\n",
            "opencv-python-headless        4.7.0.72\n",
            "openpyxl                      3.0.10\n",
            "opt-einsum                    3.3.0\n",
            "optax                         0.1.5\n",
            "orbax-checkpoint              0.2.1\n",
            "osqp                          0.6.2.post8\n",
            "packaging                     23.1\n",
            "palettable                    3.3.3\n",
            "pandas                        1.5.3\n",
            "pandas-datareader             0.10.0\n",
            "pandas-gbq                    0.17.9\n",
            "pandocfilters                 1.5.0\n",
            "panel                         0.14.4\n",
            "param                         1.13.0\n",
            "parso                         0.8.3\n",
            "partd                         1.4.0\n",
            "pathlib                       1.0.1\n",
            "pathy                         0.10.1\n",
            "patsy                         0.5.3\n",
            "pep517                        0.13.0\n",
            "pexpect                       4.8.0\n",
            "pickleshare                   0.7.5\n",
            "Pillow                        8.4.0\n",
            "pip                           23.0.1\n",
            "pip-tools                     6.6.2\n",
            "platformdirs                  3.3.0\n",
            "plotly                        5.13.1\n",
            "plotnine                      0.10.1\n",
            "pluggy                        1.0.0\n",
            "polars                        0.17.3\n",
            "pooch                         1.6.0\n",
            "portpicker                    1.3.9\n",
            "prefetch-generator            1.0.3\n",
            "preshed                       3.0.8\n",
            "prettytable                   0.7.2\n",
            "proglog                       0.1.10\n",
            "progressbar2                  4.2.0\n",
            "prometheus-client             0.16.0\n",
            "promise                       2.3\n",
            "prompt-toolkit                3.0.38\n",
            "prophet                       1.1.2\n",
            "proto-plus                    1.22.2\n",
            "protobuf                      3.20.3\n",
            "psutil                        5.9.5\n",
            "psycopg2                      2.9.6\n",
            "ptyprocess                    0.7.0\n",
            "py-cpuinfo                    9.0.0\n",
            "py4j                          0.10.9.7\n",
            "pyarrow                       9.0.0\n",
            "pyasn1                        0.5.0\n",
            "pyasn1-modules                0.3.0\n",
            "pycocotools                   2.0.6\n",
            "pycparser                     2.21\n",
            "pyct                          0.5.0\n",
            "pydantic                      1.10.7\n",
            "pydata-google-auth            1.7.0\n",
            "pydot                         1.4.2\n",
            "pydot-ng                      2.0.0\n",
            "pydotplus                     2.0.2\n",
            "PyDrive                       1.3.1\n",
            "pyerfa                        2.0.0.3\n",
            "pygame                        2.3.0\n",
            "Pygments                      2.14.0\n",
            "PyGObject                     3.36.0\n",
            "pymc                          5.1.2\n",
            "PyMeeus                       0.5.12\n",
            "pymystem3                     0.2.0\n",
            "PyOpenGL                      3.1.6\n",
            "pyparsing                     3.0.9\n",
            "pyrsistent                    0.19.3\n",
            "PySocks                       1.7.1\n",
            "pytensor                      2.10.1\n",
            "pytest                        7.2.2\n",
            "python-apt                    0.0.0\n",
            "python-dateutil               2.8.2\n",
            "python-louvain                0.16\n",
            "python-slugify                8.0.1\n",
            "python-utils                  3.5.2\n",
            "pytz                          2022.7.1\n",
            "pytz-deprecation-shim         0.1.0.post0\n",
            "pyviz-comms                   2.2.1\n",
            "PyWavelets                    1.4.1\n",
            "PyYAML                        6.0\n",
            "pyzmq                         23.2.1\n",
            "qdldl                         0.1.7\n",
            "qudida                        0.0.4\n",
            "regex                         2022.10.31\n",
            "requests                      2.27.1\n",
            "requests-oauthlib             1.3.1\n",
            "requests-unixsocket           0.2.0\n",
            "rich                          13.3.4\n",
            "rpy2                          3.5.5\n",
            "rsa                           4.9\n",
            "scikit-image                  0.19.3\n",
            "scikit-learn                  1.2.2\n",
            "scipy                         1.10.1\n",
            "scs                           3.2.3\n",
            "seaborn                       0.12.2\n",
            "Send2Trash                    1.8.0\n",
            "setuptools                    67.7.2\n",
            "shapely                       2.0.1\n",
            "six                           1.16.0\n",
            "sklearn-pandas                2.2.0\n",
            "smart-open                    6.3.0\n",
            "sniffio                       1.3.0\n",
            "snowballstemmer               2.2.0\n",
            "sortedcontainers              2.4.0\n",
            "soundfile                     0.12.1\n",
            "soupsieve                     2.4.1\n",
            "soxr                          0.3.5\n",
            "spacy                         3.5.2\n",
            "spacy-legacy                  3.0.12\n",
            "spacy-loggers                 1.0.4\n",
            "Sphinx                        3.5.4\n",
            "sphinxcontrib-applehelp       1.0.4\n",
            "sphinxcontrib-devhelp         1.0.2\n",
            "sphinxcontrib-htmlhelp        2.0.1\n",
            "sphinxcontrib-jsmath          1.0.1\n",
            "sphinxcontrib-qthelp          1.0.3\n",
            "sphinxcontrib-serializinghtml 1.1.5\n",
            "SQLAlchemy                    2.0.10\n",
            "sqlparse                      0.4.4\n",
            "srsly                         2.4.6\n",
            "statsmodels                   0.13.5\n",
            "sympy                         1.11.1\n",
            "tables                        3.8.0\n",
            "tabulate                      0.8.10\n",
            "tblib                         1.7.0\n",
            "tenacity                      8.2.2\n",
            "tensorboard                   2.12.2\n",
            "tensorboard-data-server       0.7.0\n",
            "tensorboard-plugin-wit        1.8.1\n",
            "tensorflow                    2.12.0\n",
            "tensorflow-datasets           4.8.3\n",
            "tensorflow-estimator          2.12.0\n",
            "tensorflow-gcs-config         2.12.0\n",
            "tensorflow-hub                0.13.0\n",
            "tensorflow-io-gcs-filesystem  0.32.0\n",
            "tensorflow-metadata           1.13.1\n",
            "tensorflow-probability        0.19.0\n",
            "tensorstore                   0.1.36\n",
            "termcolor                     2.3.0\n",
            "terminado                     0.17.1\n",
            "text-unidecode                1.3\n",
            "textblob                      0.17.1\n",
            "tf-slim                       1.1.0\n",
            "thinc                         8.1.9\n",
            "threadpoolctl                 3.1.0\n",
            "tifffile                      2023.4.12\n",
            "tinycss2                      1.2.1\n",
            "toml                          0.10.2\n",
            "tomli                         2.0.1\n",
            "toolz                         0.12.0\n",
            "torch                         2.0.0+cu118\n",
            "torchaudio                    2.0.1+cu118\n",
            "torchdata                     0.6.0\n",
            "torchsummary                  1.5.1\n",
            "torchtext                     0.15.1\n",
            "torchvision                   0.15.1+cu118\n",
            "tornado                       6.2\n",
            "tqdm                          4.65.0\n",
            "traitlets                     5.7.1\n",
            "triton                        2.0.0\n",
            "tweepy                        4.13.0\n",
            "typer                         0.7.0\n",
            "typing_extensions             4.5.0\n",
            "tzdata                        2023.3\n",
            "tzlocal                       4.3\n",
            "uritemplate                   4.1.1\n",
            "urllib3                       1.26.15\n",
            "vega-datasets                 0.9.0\n",
            "wasabi                        1.1.1\n",
            "wcwidth                       0.2.6\n",
            "webcolors                     1.13\n",
            "webencodings                  0.5.1\n",
            "websocket-client              1.5.1\n",
            "Werkzeug                      2.3.0\n",
            "wheel                         0.40.0\n",
            "widgetsnbextension            3.6.4\n",
            "wordcloud                     1.8.2.2\n",
            "wrapt                         1.14.1\n",
            "xarray                        2022.12.0\n",
            "xarray-einstats               0.5.1\n",
            "xgboost                       1.7.5\n",
            "xlrd                          2.0.1\n",
            "yellowbrick                   1.5\n",
            "yfinance                      0.2.18\n",
            "zict                          3.0.0\n",
            "zipp                          3.15.0\n"
          ]
        }
      ]
    },
    {
      "cell_type": "code",
      "execution_count": 31,
      "metadata": {
        "colab": {
          "base_uri": "https://localhost:8080/"
        },
        "id": "g-QvXzcHDusT",
        "outputId": "934c1c05-c604-47f8-d349-d0875cad4ee1"
      },
      "outputs": [
        {
          "output_type": "stream",
          "name": "stdout",
          "text": [
            "Looking in indexes: https://pypi.org/simple, https://us-python.pkg.dev/colab-wheels/public/simple/\n",
            "Requirement already satisfied: pydotplus in /usr/local/lib/python3.10/dist-packages (2.0.2)\n",
            "Requirement already satisfied: pyparsing>=2.0.1 in /usr/local/lib/python3.10/dist-packages (from pydotplus) (3.0.9)\n"
          ]
        }
      ],
      "source": [
        "#para instalar una librería\n",
        "!pip install pydotplus"
      ]
    },
    {
      "cell_type": "code",
      "source": [
        "#para instalar una versión especifica de una librería\n",
        "#!pip install pandas==0.23.4"
      ],
      "metadata": {
        "id": "X3FFw_kEHiSq"
      },
      "execution_count": 32,
      "outputs": []
    },
    {
      "cell_type": "code",
      "source": [
        "#importar librerias \n",
        "import pandas as pd\n",
        "import numpy as np\n"
      ],
      "metadata": {
        "id": "vgwzoakvHw-F"
      },
      "execution_count": 33,
      "outputs": []
    },
    {
      "cell_type": "markdown",
      "source": [
        "# Métodos en string"
      ],
      "metadata": {
        "id": "QuZUCkU7H8O3"
      }
    },
    {
      "cell_type": "code",
      "source": [
        "mi_variable_texto = 'Hola, vamos a estudiar Python!'\n",
        "\n",
        "print(mi_variable_texto)"
      ],
      "metadata": {
        "colab": {
          "base_uri": "https://localhost:8080/"
        },
        "id": "dHH1cDkrH65t",
        "outputId": "ccd91bd9-3afb-4d59-e239-1c3f8121a679"
      },
      "execution_count": 34,
      "outputs": [
        {
          "output_type": "stream",
          "name": "stdout",
          "text": [
            "Hola, vamos a estudiar Python!\n"
          ]
        }
      ]
    },
    {
      "cell_type": "code",
      "source": [
        "# Lower: Devuelve una cadena con todos los caracteres desde la cadena de entrada en minúsculas.\n",
        "\n",
        "mi_variable_texto.lower()"
      ],
      "metadata": {
        "colab": {
          "base_uri": "https://localhost:8080/",
          "height": 0
        },
        "id": "fWWiIAXfIA5v",
        "outputId": "2cc27e0c-3ab3-4b7b-b788-a0b5d19cc61b"
      },
      "execution_count": 35,
      "outputs": [
        {
          "output_type": "execute_result",
          "data": {
            "text/plain": [
              "'hola, vamos a estudiar python!'"
            ],
            "application/vnd.google.colaboratory.intrinsic+json": {
              "type": "string"
            }
          },
          "metadata": {},
          "execution_count": 35
        }
      ]
    },
    {
      "cell_type": "code",
      "source": [
        "#capitalize() devuelve una copia de la cadena con la primera letra en mayúsculas.\n",
        "\n",
        "mi_variable_texto=mi_variable_texto.capitalize()\n",
        "mi_variable_texto"
      ],
      "metadata": {
        "colab": {
          "base_uri": "https://localhost:8080/",
          "height": 0
        },
        "id": "MQpPKceFICCC",
        "outputId": "127a4ee4-ba75-4e41-c315-239dc1d57e37"
      },
      "execution_count": 36,
      "outputs": [
        {
          "output_type": "execute_result",
          "data": {
            "text/plain": [
              "'Hola, vamos a estudiar python!'"
            ],
            "application/vnd.google.colaboratory.intrinsic+json": {
              "type": "string"
            }
          },
          "metadata": {},
          "execution_count": 36
        }
      ]
    },
    {
      "cell_type": "code",
      "source": [
        "#Convierte una cadena a mayúsculas.\n",
        "\n",
        "mi_variable_texto.upper()"
      ],
      "metadata": {
        "colab": {
          "base_uri": "https://localhost:8080/",
          "height": 0
        },
        "id": "csp0K0bAIDVw",
        "outputId": "c14d185a-ce88-48bf-e3f6-e46b5b9be03b"
      },
      "execution_count": 37,
      "outputs": [
        {
          "output_type": "execute_result",
          "data": {
            "text/plain": [
              "'HOLA, VAMOS A ESTUDIAR PYTHON!'"
            ],
            "application/vnd.google.colaboratory.intrinsic+json": {
              "type": "string"
            }
          },
          "metadata": {},
          "execution_count": 37
        }
      ]
    },
    {
      "cell_type": "code",
      "source": [
        "mi_variable_texto=mi_variable_texto + \" Aprovechen las sesiones\"\n",
        "mi_variable_texto"
      ],
      "metadata": {
        "colab": {
          "base_uri": "https://localhost:8080/",
          "height": 0
        },
        "id": "kLKk9Bo1IEKo",
        "outputId": "fa0e79b8-e248-4011-ec38-2b09e9ec6452"
      },
      "execution_count": 38,
      "outputs": [
        {
          "output_type": "execute_result",
          "data": {
            "text/plain": [
              "'Hola, vamos a estudiar python! Aprovechen las sesiones'"
            ],
            "application/vnd.google.colaboratory.intrinsic+json": {
              "type": "string"
            }
          },
          "metadata": {},
          "execution_count": 38
        }
      ]
    },
    {
      "cell_type": "code",
      "source": [
        "mi_variable_texto = mi_variable_texto.replace(' Aprovechen las sesiones', ' Repasen')\n",
        "mi_variable_texto "
      ],
      "metadata": {
        "colab": {
          "base_uri": "https://localhost:8080/",
          "height": 0
        },
        "id": "Lr_wNRw0IFHB",
        "outputId": "d9691ece-c245-4e7c-b157-50b982836e56"
      },
      "execution_count": 39,
      "outputs": [
        {
          "output_type": "execute_result",
          "data": {
            "text/plain": [
              "'Hola, vamos a estudiar python! Repasen'"
            ],
            "application/vnd.google.colaboratory.intrinsic+json": {
              "type": "string"
            }
          },
          "metadata": {},
          "execution_count": 39
        }
      ]
    },
    {
      "cell_type": "code",
      "source": [
        "#divide una cadena en una lista de cadenas.\n",
        "\n",
        "mi_variable_texto.split()"
      ],
      "metadata": {
        "colab": {
          "base_uri": "https://localhost:8080/"
        },
        "id": "Zdk8ygQcIGRB",
        "outputId": "6a6af8fb-6642-4a73-c482-03cd0c658e94"
      },
      "execution_count": 40,
      "outputs": [
        {
          "output_type": "execute_result",
          "data": {
            "text/plain": [
              "['Hola,', 'vamos', 'a', 'estudiar', 'python!', 'Repasen']"
            ]
          },
          "metadata": {},
          "execution_count": 40
        }
      ]
    },
    {
      "cell_type": "markdown",
      "source": [
        "#Posiciones en string"
      ],
      "metadata": {
        "id": "U18-EfGZIIkO"
      }
    },
    {
      "cell_type": "code",
      "source": [
        "mi_variable_texto"
      ],
      "metadata": {
        "colab": {
          "base_uri": "https://localhost:8080/",
          "height": 0
        },
        "id": "w9g6EySIINPn",
        "outputId": "eff2a987-9b77-42f2-df0b-49553e347c22"
      },
      "execution_count": 41,
      "outputs": [
        {
          "output_type": "execute_result",
          "data": {
            "text/plain": [
              "'Hola, vamos a estudiar python! Repasen'"
            ],
            "application/vnd.google.colaboratory.intrinsic+json": {
              "type": "string"
            }
          },
          "metadata": {},
          "execution_count": 41
        }
      ]
    },
    {
      "cell_type": "markdown",
      "source": [
        "https://www.programaenpython.com/fundamentos/strings-en-python/\n",
        "\n",
        "![indexacion_strings.png](data:image/png;base64,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)"
      ],
      "metadata": {
        "id": "dJ3amuHMIU7-"
      }
    },
    {
      "cell_type": "code",
      "source": [
        "#devuelve un valor entero que indica la cantidad de caracteres en la cadena de entrada\n",
        "\n",
        "len(mi_variable_texto)"
      ],
      "metadata": {
        "colab": {
          "base_uri": "https://localhost:8080/"
        },
        "id": "BPuAHxRCIXnP",
        "outputId": "04da3196-542e-4a05-b3a7-4769dd869bb8"
      },
      "execution_count": 42,
      "outputs": [
        {
          "output_type": "execute_result",
          "data": {
            "text/plain": [
              "38"
            ]
          },
          "metadata": {},
          "execution_count": 42
        }
      ]
    },
    {
      "cell_type": "code",
      "source": [
        "mi_variable_texto[0]\n",
        "#mi_variable_texto[-38]"
      ],
      "metadata": {
        "colab": {
          "base_uri": "https://localhost:8080/",
          "height": 0
        },
        "id": "IlsQtQUXIZWW",
        "outputId": "c1e07d00-a59e-4870-a5c6-9d749bf988b9"
      },
      "execution_count": 43,
      "outputs": [
        {
          "output_type": "execute_result",
          "data": {
            "text/plain": [
              "'H'"
            ],
            "application/vnd.google.colaboratory.intrinsic+json": {
              "type": "string"
            }
          },
          "metadata": {},
          "execution_count": 43
        }
      ]
    },
    {
      "cell_type": "code",
      "source": [
        "mi_variable_texto[22:]"
      ],
      "metadata": {
        "colab": {
          "base_uri": "https://localhost:8080/",
          "height": 0
        },
        "id": "wR1qqHjaIc2X",
        "outputId": "673ff37d-e047-459b-f420-202686485847"
      },
      "execution_count": 44,
      "outputs": [
        {
          "output_type": "execute_result",
          "data": {
            "text/plain": [
              "' python! Repasen'"
            ],
            "application/vnd.google.colaboratory.intrinsic+json": {
              "type": "string"
            }
          },
          "metadata": {},
          "execution_count": 44
        }
      ]
    },
    {
      "cell_type": "code",
      "source": [
        "mi_variable_texto[0:22]"
      ],
      "metadata": {
        "colab": {
          "base_uri": "https://localhost:8080/",
          "height": 0
        },
        "id": "wbvZ69YeIgUL",
        "outputId": "c9b5e05b-3707-471f-c971-150d91d3abd1"
      },
      "execution_count": 45,
      "outputs": [
        {
          "output_type": "execute_result",
          "data": {
            "text/plain": [
              "'Hola, vamos a estudiar'"
            ],
            "application/vnd.google.colaboratory.intrinsic+json": {
              "type": "string"
            }
          },
          "metadata": {},
          "execution_count": 45
        }
      ]
    },
    {
      "cell_type": "markdown",
      "source": [
        "Tipos de datos"
      ],
      "metadata": {
        "id": "a9ulIvXOIt9S"
      }
    },
    {
      "cell_type": "code",
      "source": [
        "a = 2021 #entero\n",
        "b = 0.51 #decimal ó real\n",
        "c=5j\n",
        "d = True"
      ],
      "metadata": {
        "id": "UfEqEKrpIuSN"
      },
      "execution_count": 46,
      "outputs": []
    },
    {
      "cell_type": "code",
      "source": [
        "print(type(a))\n",
        "print(type(b))\n",
        "print(type(c))\n",
        "print(type(d))"
      ],
      "metadata": {
        "colab": {
          "base_uri": "https://localhost:8080/"
        },
        "id": "3jFHTd8fIvtU",
        "outputId": "e4fdd52d-6a32-4b6b-8138-77f08c5e7340"
      },
      "execution_count": 47,
      "outputs": [
        {
          "output_type": "stream",
          "name": "stdout",
          "text": [
            "<class 'int'>\n",
            "<class 'float'>\n",
            "<class 'complex'>\n",
            "<class 'bool'>\n"
          ]
        }
      ]
    },
    {
      "cell_type": "markdown",
      "source": [
        "# Operadores Aritméticos\n",
        "Los operadores que contamos en Python para realizar las operaciones matemáticas son: ```+```, ```-```, ```*```, ```/```, ```**```,```%``` y ```//```."
      ],
      "metadata": {
        "id": "Beunb-ZrJGvj"
      }
    },
    {
      "cell_type": "code",
      "source": [
        "x = 10\n",
        "y = 7"
      ],
      "metadata": {
        "id": "rLb_-66KJSO6"
      },
      "execution_count": 48,
      "outputs": []
    },
    {
      "cell_type": "code",
      "source": [
        "print(\"Suma: \",x+y)\n",
        "print(\"Resta: \",x-y)\n",
        "print(\"Multiplicación: \",x*y)\n",
        "print(\"División: \",x/y)\n",
        "print(\"Potencia: \",x**y)\n",
        "print(\"Residuo: \",x%y)\n",
        "print(\"Cociente: \",x//y)"
      ],
      "metadata": {
        "colab": {
          "base_uri": "https://localhost:8080/"
        },
        "id": "2oWUOu6vJVTa",
        "outputId": "37c3ade1-2216-436b-80bd-ca9b36ec9125"
      },
      "execution_count": 49,
      "outputs": [
        {
          "output_type": "stream",
          "name": "stdout",
          "text": [
            "Suma:  17\n",
            "Resta:  3\n",
            "Multiplicación:  70\n",
            "División:  1.4285714285714286\n",
            "Potencia:  10000000\n",
            "Residuo:  3\n",
            "Cociente:  1\n"
          ]
        }
      ]
    },
    {
      "cell_type": "markdown",
      "source": [
        "# Operadores de Asignación"
      ],
      "metadata": {
        "id": "BtCPfzMqJZLa"
      }
    },
    {
      "cell_type": "markdown",
      "source": [
        "| Operador | Sentencia abreviada | Sentencia no abreviada | Descripcion |\n",
        "| :--------: | :-------------------: | :----------------------: | :-----------: |\n",
        "| += | x += y | x = x + y | Suma x e y, asigna el resultado a la variable x |\n",
        "| -= | x -= y | x = x - y | Resta x e y, asigna el resultado a la variable x |\n",
        "| *= | x *= y | x = x * y | Multiplica x e y, asigna el resultado a la variable x |\n",
        "| /= | x /= y | x = x / y | Divide x e y, asigna el resultado a la variable x |\n",
        "| %= | x %= y | x = x % y | Obtiene el residuo de x entre y, asigna el resultado a la variable x |\n",
        "| //= | x //= y | x = x // y | Obtiene el cociente de x entre y, asigna el resultado a la variable x |\n",
        "| **= | x **= y | x = x ** y | x la potencia y, asigna el resultado a la variable x |"
      ],
      "metadata": {
        "id": "Hy4q_8YGJb7U"
      }
    },
    {
      "cell_type": "code",
      "source": [
        "x = 5"
      ],
      "metadata": {
        "id": "otejUaIBJWlb"
      },
      "execution_count": 50,
      "outputs": []
    },
    {
      "cell_type": "code",
      "source": [
        "x += 10; print('El valor de la variable x es ' + str(x)) #x=x+10"
      ],
      "metadata": {
        "colab": {
          "base_uri": "https://localhost:8080/"
        },
        "id": "3HC1aQLIJesh",
        "outputId": "6c9567ff-28fe-4b46-9a6e-202c573466ed"
      },
      "execution_count": 51,
      "outputs": [
        {
          "output_type": "stream",
          "name": "stdout",
          "text": [
            "El valor de la variable x es 15\n"
          ]
        }
      ]
    },
    {
      "cell_type": "code",
      "source": [
        "x -= 3; print('El valor de la variable x es ' + str(x)) #x=x-3"
      ],
      "metadata": {
        "colab": {
          "base_uri": "https://localhost:8080/"
        },
        "id": "w5AKCriKJhjd",
        "outputId": "466ba31e-b01b-4bed-c563-199e31d09c16"
      },
      "execution_count": 52,
      "outputs": [
        {
          "output_type": "stream",
          "name": "stdout",
          "text": [
            "El valor de la variable x es 12\n"
          ]
        }
      ]
    },
    {
      "cell_type": "code",
      "source": [
        "x *= 4; print('El valor de la variable x es ' + str(x)) #x=x*4"
      ],
      "metadata": {
        "colab": {
          "base_uri": "https://localhost:8080/"
        },
        "id": "hUdFWidzJif5",
        "outputId": "d7f5af04-0aa0-4e02-9abb-7ec7c69cc152"
      },
      "execution_count": 53,
      "outputs": [
        {
          "output_type": "stream",
          "name": "stdout",
          "text": [
            "El valor de la variable x es 48\n"
          ]
        }
      ]
    },
    {
      "cell_type": "code",
      "source": [
        "x /= 2; print('El valor de la variable x es ' + str(x)) #x=x/2"
      ],
      "metadata": {
        "colab": {
          "base_uri": "https://localhost:8080/"
        },
        "id": "c7D2fR16JjeC",
        "outputId": "deeebda2-fc3f-4a54-e563-8c83c917f034"
      },
      "execution_count": 54,
      "outputs": [
        {
          "output_type": "stream",
          "name": "stdout",
          "text": [
            "El valor de la variable x es 24.0\n"
          ]
        }
      ]
    },
    {
      "cell_type": "code",
      "source": [
        "x %= 14; print('El residuo  de la variable x es ' + str(x))"
      ],
      "metadata": {
        "colab": {
          "base_uri": "https://localhost:8080/"
        },
        "id": "WYW1vOthJkZ6",
        "outputId": "03258e48-2e7a-4d34-aa6b-09a1041b8340"
      },
      "execution_count": 55,
      "outputs": [
        {
          "output_type": "stream",
          "name": "stdout",
          "text": [
            "El residuo  de la variable x es 10.0\n"
          ]
        }
      ]
    },
    {
      "cell_type": "code",
      "source": [
        "x //=2; print('El valor del cociente de la variable x es ' + str(x))"
      ],
      "metadata": {
        "colab": {
          "base_uri": "https://localhost:8080/"
        },
        "id": "yJjjtNAqJlQW",
        "outputId": "c0f733f0-3502-42c0-9fc1-d5a014cda740"
      },
      "execution_count": 56,
      "outputs": [
        {
          "output_type": "stream",
          "name": "stdout",
          "text": [
            "El valor del cociente de la variable x es 5.0\n"
          ]
        }
      ]
    },
    {
      "cell_type": "code",
      "source": [
        "x **=3; print('El valor de la potencia de la variable x es ' + str(x))"
      ],
      "metadata": {
        "colab": {
          "base_uri": "https://localhost:8080/"
        },
        "id": "GI4PWPYbJmCB",
        "outputId": "f1038a46-6fe1-4414-f706-c87caa12725f"
      },
      "execution_count": 57,
      "outputs": [
        {
          "output_type": "stream",
          "name": "stdout",
          "text": [
            "El valor de la potencia de la variable x es 125.0\n"
          ]
        }
      ]
    },
    {
      "cell_type": "markdown",
      "source": [
        "# Operadores de Comparación"
      ],
      "metadata": {
        "id": "U_YB5jcGJor9"
      }
    },
    {
      "cell_type": "markdown",
      "source": [
        "| Operador | Sentencia | Descripcion |\n",
        "| :--------: | :-------------------: | :----------------------: |\n",
        "|== | x == y | Igual | \n",
        "|!= | x != y | No igual | \n",
        "|> | x > y | Mayor que | \n",
        "|< | x < y | Menor que | \n",
        "|>= | x >= y | Mayor o igual que | \n",
        "|<= | x <= y | Menor o igual que | "
      ],
      "metadata": {
        "id": "GXgflKMYJrM9"
      }
    },
    {
      "cell_type": "code",
      "source": [
        "x = 17\n",
        "y = 39"
      ],
      "metadata": {
        "id": "8Q2Ug99tJpB6"
      },
      "execution_count": 58,
      "outputs": []
    },
    {
      "cell_type": "code",
      "source": [
        "print(x != y)"
      ],
      "metadata": {
        "colab": {
          "base_uri": "https://localhost:8080/"
        },
        "id": "gXVJ70HsJse6",
        "outputId": "7969f32a-b96b-42d0-d30a-08a1f17f5582"
      },
      "execution_count": 59,
      "outputs": [
        {
          "output_type": "stream",
          "name": "stdout",
          "text": [
            "True\n"
          ]
        }
      ]
    },
    {
      "cell_type": "code",
      "source": [
        "print(x == y)"
      ],
      "metadata": {
        "colab": {
          "base_uri": "https://localhost:8080/"
        },
        "id": "s_mKaXr-JtB3",
        "outputId": "dece1f75-2d78-434d-8d99-6d7624f2a42e"
      },
      "execution_count": 60,
      "outputs": [
        {
          "output_type": "stream",
          "name": "stdout",
          "text": [
            "False\n"
          ]
        }
      ]
    },
    {
      "cell_type": "code",
      "source": [
        "print(x > y)"
      ],
      "metadata": {
        "colab": {
          "base_uri": "https://localhost:8080/"
        },
        "id": "WKsz2n64JuIy",
        "outputId": "58b1344a-8bc0-4ffc-8750-e069379629fa"
      },
      "execution_count": 61,
      "outputs": [
        {
          "output_type": "stream",
          "name": "stdout",
          "text": [
            "False\n"
          ]
        }
      ]
    },
    {
      "cell_type": "code",
      "source": [
        "print(x >= y)"
      ],
      "metadata": {
        "colab": {
          "base_uri": "https://localhost:8080/"
        },
        "id": "f12VQqNtJwFv",
        "outputId": "903845ac-0a54-4a01-f843-2de630df7107"
      },
      "execution_count": 62,
      "outputs": [
        {
          "output_type": "stream",
          "name": "stdout",
          "text": [
            "False\n"
          ]
        }
      ]
    },
    {
      "cell_type": "markdown",
      "source": [
        "# Operadores Lógicos"
      ],
      "metadata": {
        "id": "cNL_YGIDJz-s"
      }
    },
    {
      "cell_type": "markdown",
      "source": [
        "| Operador | Descripcion |\n",
        "| :--------: | :-------------------: |\n",
        "| and  | Retorna TRUE si ambas sentencias son verdaderas | \n",
        "| or | Retorna TRUE si uno de las sentencias es verdadera | \n",
        "| not | Retorna FALSE si el el resultado es verdadero | "
      ],
      "metadata": {
        "id": "fejEKpzMJ2Vh"
      }
    },
    {
      "cell_type": "code",
      "source": [
        "x = 17"
      ],
      "metadata": {
        "id": "QAWje9yBJ0Po"
      },
      "execution_count": 63,
      "outputs": []
    },
    {
      "cell_type": "code",
      "source": [
        "print(x > 3 and x < 10)  # verdadero y falso"
      ],
      "metadata": {
        "colab": {
          "base_uri": "https://localhost:8080/"
        },
        "id": "X_X3YrXmJ4FX",
        "outputId": "e7f552c4-41a9-48a9-ae7e-8a536a4f0dfd"
      },
      "execution_count": 64,
      "outputs": [
        {
          "output_type": "stream",
          "name": "stdout",
          "text": [
            "False\n"
          ]
        }
      ]
    },
    {
      "cell_type": "code",
      "source": [
        "print(x > 3 or x < 10) # verdadero ó falso"
      ],
      "metadata": {
        "colab": {
          "base_uri": "https://localhost:8080/"
        },
        "id": "Onm1Yp90J5PG",
        "outputId": "fc1aebbb-9997-496f-a965-bba3a215435b"
      },
      "execution_count": 65,
      "outputs": [
        {
          "output_type": "stream",
          "name": "stdout",
          "text": [
            "True\n"
          ]
        }
      ]
    },
    {
      "cell_type": "markdown",
      "source": [
        "# Tipos de Datos"
      ],
      "metadata": {
        "id": "wjHkIfulJ6DO"
      }
    },
    {
      "cell_type": "code",
      "source": [
        "a = 1\n",
        "b = 2.5\n",
        "c = 5j\n",
        "d = \"Bienvenido\"\n",
        "e = True\n",
        "f = [\"Lunes\",\"Martes\", \"Miercoles\", \"Jueves\", \"Viernes\"]\n",
        "g = (\"Enero\", \"Febrero\", \"Marzo\", \"Abril\", \"Mayo\", \"Junio\")\n",
        "h = {\"brand\": \"Ford\",\"model\": \"Mustang\",\"year\": 1964}"
      ],
      "metadata": {
        "id": "9iqcbBXmJ7K4"
      },
      "execution_count": 66,
      "outputs": []
    },
    {
      "cell_type": "code",
      "source": [
        "type(a),type(b),type(c),type(d),type(e),type(f),type(g),type(h)"
      ],
      "metadata": {
        "colab": {
          "base_uri": "https://localhost:8080/"
        },
        "id": "yj5qdCWiJ8QH",
        "outputId": "77429186-e3eb-4535-ca0e-d7b1b20072aa"
      },
      "execution_count": 67,
      "outputs": [
        {
          "output_type": "execute_result",
          "data": {
            "text/plain": [
              "(int, float, complex, str, bool, list, tuple, dict)"
            ]
          },
          "metadata": {},
          "execution_count": 67
        }
      ]
    },
    {
      "cell_type": "markdown",
      "source": [
        "\n",
        "\n",
        "*   Complex =  Nos sirven para representar números complejos, con una parte real y otra imaginaria.\n",
        "*   Bool = Una variable booleana es una variable que sólo puede tomar dos posibles valores: True (verdadero) o False (falso).\n",
        "* list = Las listas en Python son un tipo contenedor, compuesto, que se usan para almacenar conjuntos de elementos relacionados del mismo tipo o de tipos distintos, se escriben en corchetes\n",
        "* tuple = Un tuple es una colección de datos cuyo orden es inalterable, se escriben entre paréntesis.\n",
        "* dict = diccionario de datos"
      ],
      "metadata": {
        "id": "MSW5lvCqJ-XH"
      }
    },
    {
      "cell_type": "markdown",
      "source": [
        "\n",
        "Tupla vs list\n",
        "\n",
        "* Las tuplas son secuencias de elementos similares a las listas, la diferencia principal es que las tuplas no pueden ser modificadas directamente, es decir, una tupla no dispone de los métodos como append o insert que modifican los elementos de una lista.*\n",
        "\n",
        "* Las tuplas son inmutables y list es mutable, tupla lleva paréntesis y list lleva corchetes."
      ],
      "metadata": {
        "id": "kG7o2CiZKAMl"
      }
    },
    {
      "cell_type": "markdown",
      "source": [
        "# Conversión de Datos"
      ],
      "metadata": {
        "id": "1h_LJt-nKEXG"
      }
    },
    {
      "cell_type": "code",
      "source": [
        "#Integer a Float\n",
        "float(23)  "
      ],
      "metadata": {
        "colab": {
          "base_uri": "https://localhost:8080/"
        },
        "id": "jfaRmkoAJ9KP",
        "outputId": "7f527097-2942-4e46-ba53-4821b5b884d6"
      },
      "execution_count": 68,
      "outputs": [
        {
          "output_type": "execute_result",
          "data": {
            "text/plain": [
              "23.0"
            ]
          },
          "metadata": {},
          "execution_count": 68
        }
      ]
    },
    {
      "cell_type": "code",
      "source": [
        "#Float a Integer\n",
        "int(23.2)"
      ],
      "metadata": {
        "colab": {
          "base_uri": "https://localhost:8080/"
        },
        "id": "xVyJC4GSKFvn",
        "outputId": "11f5da03-c1c6-4f4c-b6f0-453c66dc52e5"
      },
      "execution_count": 69,
      "outputs": [
        {
          "output_type": "execute_result",
          "data": {
            "text/plain": [
              "23"
            ]
          },
          "metadata": {},
          "execution_count": 69
        }
      ]
    },
    {
      "cell_type": "code",
      "source": [
        "#Numeric a String\n",
        "x=20.5\n",
        "str(x)"
      ],
      "metadata": {
        "colab": {
          "base_uri": "https://localhost:8080/",
          "height": 36
        },
        "id": "zpS3FCcoKGbv",
        "outputId": "11e76935-d4a2-4612-f0f3-cc59615a5226"
      },
      "execution_count": 70,
      "outputs": [
        {
          "output_type": "execute_result",
          "data": {
            "text/plain": [
              "'20.5'"
            ],
            "application/vnd.google.colaboratory.intrinsic+json": {
              "type": "string"
            }
          },
          "metadata": {},
          "execution_count": 70
        }
      ]
    },
    {
      "cell_type": "code",
      "source": [
        "#String a Numeric\n",
        "mes='2'\n",
        "#int(mes)\n",
        "type(mes)"
      ],
      "metadata": {
        "colab": {
          "base_uri": "https://localhost:8080/"
        },
        "id": "q4CZpTuaKHHG",
        "outputId": "3c38f7ee-7347-4e99-87d8-c0d07625bba2"
      },
      "execution_count": 71,
      "outputs": [
        {
          "output_type": "execute_result",
          "data": {
            "text/plain": [
              "str"
            ]
          },
          "metadata": {},
          "execution_count": 71
        }
      ]
    },
    {
      "cell_type": "code",
      "source": [
        "mess = 2\n",
        "type(mess)"
      ],
      "metadata": {
        "colab": {
          "base_uri": "https://localhost:8080/"
        },
        "id": "ymKL612rKH5H",
        "outputId": "c440abf7-b075-4676-fc3d-98b801b69942"
      },
      "execution_count": 72,
      "outputs": [
        {
          "output_type": "execute_result",
          "data": {
            "text/plain": [
              "int"
            ]
          },
          "metadata": {},
          "execution_count": 72
        }
      ]
    },
    {
      "cell_type": "code",
      "source": [
        "#String a Float\n",
        "estatura='1.78'\n",
        "float(estatura)"
      ],
      "metadata": {
        "colab": {
          "base_uri": "https://localhost:8080/"
        },
        "id": "oM3vy1BrKIoP",
        "outputId": "0d847dc2-72f1-4bca-981b-dfc54e43ee1c"
      },
      "execution_count": 73,
      "outputs": [
        {
          "output_type": "execute_result",
          "data": {
            "text/plain": [
              "1.78"
            ]
          },
          "metadata": {},
          "execution_count": 73
        }
      ]
    },
    {
      "cell_type": "markdown",
      "source": [
        "*función astype*"
      ],
      "metadata": {
        "id": "8jNeddTuKJav"
      }
    },
    {
      "cell_type": "code",
      "source": [
        "import pandas as pd\n",
        "  \n",
        "# reading csv file from url \n",
        "data = pd.read_csv(\"https://media.geeksforgeeks.org/wp-content/uploads/nba.csv\")\n",
        "   \n",
        "# dropping null value columns to avoid errors\n",
        "data.dropna(inplace = True)\n",
        "  \n",
        "# storing dtype before converting\n",
        "before = data.dtypes\n",
        "  \n",
        "# converting dtypes using astype\n",
        "data[\"Salary\"]= data[\"Salary\"].astype(int)\n",
        "data[\"Number\"]= data[\"Number\"].astype(str)\n",
        "  \n",
        "# storing dtype after converting\n",
        "after = data.dtypes\n",
        "  \n",
        "# printing to compare\n",
        "print(\"BEFORE CONVERSION\\n\", before, \"\\n\")\n",
        "print(\"AFTER CONVERSION\\n\", after, \"\\n\")"
      ],
      "metadata": {
        "colab": {
          "base_uri": "https://localhost:8080/"
        },
        "id": "xxSKINmMKKgm",
        "outputId": "ff2cb0f3-4395-487c-8aa7-7ad36ede2e50"
      },
      "execution_count": 74,
      "outputs": [
        {
          "output_type": "stream",
          "name": "stdout",
          "text": [
            "BEFORE CONVERSION\n",
            " Name         object\n",
            "Team         object\n",
            "Number      float64\n",
            "Position     object\n",
            "Age         float64\n",
            "Height       object\n",
            "Weight      float64\n",
            "College      object\n",
            "Salary      float64\n",
            "dtype: object \n",
            "\n",
            "AFTER CONVERSION\n",
            " Name         object\n",
            "Team         object\n",
            "Number       object\n",
            "Position     object\n",
            "Age         float64\n",
            "Height       object\n",
            "Weight      float64\n",
            "College      object\n",
            "Salary        int64\n",
            "dtype: object \n",
            "\n"
          ]
        }
      ]
    },
    {
      "cell_type": "markdown",
      "source": [
        "# Tuplas"
      ],
      "metadata": {
        "id": "T3fo5f1QKN_v"
      }
    },
    {
      "cell_type": "code",
      "source": [
        "# Tupla Vacia\n",
        "my_tuple_1 = ()\n",
        "\n",
        "# Tupla de números enteros\n",
        "my_tuple_2 = (1, 2, 3)\n",
        "\n",
        "# Tupla con diferentes tipos de datos\n",
        "my_tuple_3 = (1, \"Hello\", 3.4)\n",
        "\n",
        "print(my_tuple_1)\n",
        "print(my_tuple_2)\n",
        "print(my_tuple_3)"
      ],
      "metadata": {
        "colab": {
          "base_uri": "https://localhost:8080/"
        },
        "id": "67wETSWJKLre",
        "outputId": "4d03693a-098d-4cc3-b34b-d885ee04388f"
      },
      "execution_count": 75,
      "outputs": [
        {
          "output_type": "stream",
          "name": "stdout",
          "text": [
            "()\n",
            "(1, 2, 3)\n",
            "(1, 'Hello', 3.4)\n"
          ]
        }
      ]
    },
    {
      "cell_type": "code",
      "source": [
        "# Inmutable\n",
        "my_tuple_5 = (0, 1, 2, 3)"
      ],
      "metadata": {
        "id": "cbB39bnuKQE9"
      },
      "execution_count": 76,
      "outputs": []
    },
    {
      "cell_type": "code",
      "source": [
        "#my_tuple_5[0] = 4"
      ],
      "metadata": {
        "id": "3h4OqHCFKRAm"
      },
      "execution_count": 77,
      "outputs": []
    },
    {
      "cell_type": "markdown",
      "source": [
        "# Listas"
      ],
      "metadata": {
        "id": "hkqTQfKiKSsP"
      }
    },
    {
      "cell_type": "markdown",
      "source": [
        "La lista es uno de los tipos de datos más versátiles y utilizados en Python. Una lista se crea colocando todos los elementos (puede ser de cualquier tipo) entre corchetes [ ], separados por comas.\n",
        "\n",
        "Cada valor que se almacena en la lista tiene su dirección o se conoce como posición de índice. Por posición de índice, podemos obtener cualquier valor particular de la lista. Todo el valor del índice comienza desde 0. Python lee la lista de izquierda a derecha de forma predeterminada. Los corchetes rodean cada lista. Podemos leer el elemento de la lista, pero no podemos especificar un índice que no existe en una lista que resultará en un error.\n",
        "\n",
        "Las listas son mutables: elementos pueden ser modificados, valores individuales pueden ser modificados y el orden de los elementos pueden ser cambiados"
      ],
      "metadata": {
        "id": "rCAEQEX5KVnh"
      }
    },
    {
      "cell_type": "code",
      "source": [
        "# Lista Vacia\n",
        "my_list_1 = []\n",
        "\n",
        "# lista de números enteros\n",
        "my_list_2 = [1, 2, 3]\n",
        "\n",
        "# lista con diferentes tipos de datos\n",
        "my_list_3 = [1, \"Hello\", 3.4]\n",
        "\n",
        "# Lista anidada\n",
        "my_list_4 = [\"mouse\", [8, 4, 6], ['a']]\n",
        "\n",
        "print(my_list_1)\n",
        "print(my_list_2)\n",
        "print(my_list_3)\n",
        "print(my_list_4)"
      ],
      "metadata": {
        "colab": {
          "base_uri": "https://localhost:8080/"
        },
        "id": "rUjHUEhQKS0P",
        "outputId": "8632201f-2a49-4c58-c9ef-2d0a4c92361c"
      },
      "execution_count": 78,
      "outputs": [
        {
          "output_type": "stream",
          "name": "stdout",
          "text": [
            "[]\n",
            "[1, 2, 3]\n",
            "[1, 'Hello', 3.4]\n",
            "['mouse', [8, 4, 6], ['a']]\n"
          ]
        }
      ]
    },
    {
      "cell_type": "code",
      "source": [
        "# Mutable\n",
        "my_list_5 = [0, 1, 2, 3]\n",
        "my_list_5[0] = 4\n",
        "print(my_list_5)"
      ],
      "metadata": {
        "colab": {
          "base_uri": "https://localhost:8080/"
        },
        "id": "lIeny8vCKXeQ",
        "outputId": "e17b289f-9b4a-46ed-dce0-4ddacd94df12"
      },
      "execution_count": 79,
      "outputs": [
        {
          "output_type": "stream",
          "name": "stdout",
          "text": [
            "[4, 1, 2, 3]\n"
          ]
        }
      ]
    },
    {
      "cell_type": "code",
      "source": [
        "mi_lista1=[\"Lunes\",\"Martes\",\"Miercoles\",\"Jueves\",\"Viernes\",\"Sabado\"]  #mutable"
      ],
      "metadata": {
        "id": "N3PTYdD8KYR6"
      },
      "execution_count": 80,
      "outputs": []
    },
    {
      "cell_type": "code",
      "source": [
        "mi_tupla1=(\"Lunes\",\"Martes\",\"Miercoles\",\"Jueves\",\"Viernes\",\"Sabado\",\"Domingo\")  #inmutable"
      ],
      "metadata": {
        "id": "w_gTwl3tKZKI"
      },
      "execution_count": 81,
      "outputs": []
    },
    {
      "cell_type": "code",
      "source": [
        "#Agrega un ítem al final de la lista. append\n",
        "\n",
        "mi_lista1.append(\"Domingo\")\n",
        "mi_lista1"
      ],
      "metadata": {
        "colab": {
          "base_uri": "https://localhost:8080/"
        },
        "id": "KNUNriubKbF_",
        "outputId": "7ef8c381-69cb-4507-b511-9ddce278895c"
      },
      "execution_count": 82,
      "outputs": [
        {
          "output_type": "execute_result",
          "data": {
            "text/plain": [
              "['Lunes', 'Martes', 'Miercoles', 'Jueves', 'Viernes', 'Sabado', 'Domingo']"
            ]
          },
          "metadata": {},
          "execution_count": 82
        }
      ]
    },
    {
      "cell_type": "code",
      "source": [
        "#Quita el ítem en la posición dada de la lista y lo retorna. Si no se especifica un índice, a.pop() quita y retorna el último elemento de la lista. pop\n",
        "mi_lista1.pop(0)\n",
        "mi_lista1"
      ],
      "metadata": {
        "colab": {
          "base_uri": "https://localhost:8080/"
        },
        "id": "h31vASYaKbSe",
        "outputId": "95fa559d-f1c1-4c43-de70-f13756e4b589"
      },
      "execution_count": 83,
      "outputs": [
        {
          "output_type": "execute_result",
          "data": {
            "text/plain": [
              "['Martes', 'Miercoles', 'Jueves', 'Viernes', 'Sabado', 'Domingo']"
            ]
          },
          "metadata": {},
          "execution_count": 83
        }
      ]
    },
    {
      "cell_type": "code",
      "source": [
        "#Inserta un ítem en una posición dada. insert\n",
        "\n",
        "mi_lista1.insert(0, 'Lunes')\n",
        "mi_lista1"
      ],
      "metadata": {
        "colab": {
          "base_uri": "https://localhost:8080/"
        },
        "id": "kSqrxepHKcCX",
        "outputId": "b42255f8-70a6-41f4-a826-b44652e8ba2e"
      },
      "execution_count": 84,
      "outputs": [
        {
          "output_type": "execute_result",
          "data": {
            "text/plain": [
              "['Lunes', 'Martes', 'Miercoles', 'Jueves', 'Viernes', 'Sabado', 'Domingo']"
            ]
          },
          "metadata": {},
          "execution_count": 84
        }
      ]
    },
    {
      "cell_type": "markdown",
      "source": [
        "# Métodos de las Listas"
      ],
      "metadata": {
        "id": "M6mXf90iKfVf"
      }
    },
    {
      "cell_type": "code",
      "source": [
        "# lista tiene []\n",
        "# tupla tiene ()\n",
        "# diccionarios tiene {}\n",
        "\n",
        "#¿diferencia lista y tuplas?\n",
        "# lista SI se puede cambiar los valores  ------ MUTABLE\n",
        "# tupla NO se puede cambiar los valores  ------ INMUTABLE"
      ],
      "metadata": {
        "id": "rYjQdY9zKc1X"
      },
      "execution_count": 85,
      "outputs": []
    },
    {
      "cell_type": "code",
      "source": [
        "autos=['Audi','Ferrari','Bugatti','Mercedes','Lamborghini','Koenigsegg']"
      ],
      "metadata": {
        "id": "URGBxjQzKhA3"
      },
      "execution_count": 86,
      "outputs": []
    },
    {
      "cell_type": "code",
      "source": [
        "autos.append('Tico') # Adiciona un item a la lista\n",
        "print(autos)"
      ],
      "metadata": {
        "colab": {
          "base_uri": "https://localhost:8080/"
        },
        "id": "rk2lgGOTKiHC",
        "outputId": "13a9fa2a-6416-4b6e-df9a-f1728cda47e9"
      },
      "execution_count": 87,
      "outputs": [
        {
          "output_type": "stream",
          "name": "stdout",
          "text": [
            "['Audi', 'Ferrari', 'Bugatti', 'Mercedes', 'Lamborghini', 'Koenigsegg', 'Tico']\n"
          ]
        }
      ]
    },
    {
      "cell_type": "code",
      "source": [
        "autos.remove('Tico') # Borra un item de una lista\n",
        "print(autos)"
      ],
      "metadata": {
        "colab": {
          "base_uri": "https://localhost:8080/"
        },
        "id": "Aw1oxS2fKjBI",
        "outputId": "fcf63dea-5c1b-442e-f5af-41f712d37b28"
      },
      "execution_count": 88,
      "outputs": [
        {
          "output_type": "stream",
          "name": "stdout",
          "text": [
            "['Audi', 'Ferrari', 'Bugatti', 'Mercedes', 'Lamborghini', 'Koenigsegg']\n"
          ]
        }
      ]
    },
    {
      "cell_type": "code",
      "source": [
        "autos.insert(3,'Toyota') # Insertar un  elemento en una posición determinada\n",
        "print(autos)"
      ],
      "metadata": {
        "colab": {
          "base_uri": "https://localhost:8080/"
        },
        "id": "wTHzUxD7KkfY",
        "outputId": "d06214d9-6e1d-4b48-d7d5-cad9d124adbb"
      },
      "execution_count": 89,
      "outputs": [
        {
          "output_type": "stream",
          "name": "stdout",
          "text": [
            "['Audi', 'Ferrari', 'Bugatti', 'Toyota', 'Mercedes', 'Lamborghini', 'Koenigsegg']\n"
          ]
        }
      ]
    },
    {
      "cell_type": "code",
      "source": [
        "autos.index('Koenigsegg') # Encuentra un elemento y retorna la posición"
      ],
      "metadata": {
        "colab": {
          "base_uri": "https://localhost:8080/"
        },
        "id": "z6S-_biaKlRv",
        "outputId": "b9584f33-162e-465d-e5c0-7483e0db4534"
      },
      "execution_count": 90,
      "outputs": [
        {
          "output_type": "execute_result",
          "data": {
            "text/plain": [
              "6"
            ]
          },
          "metadata": {},
          "execution_count": 90
        }
      ]
    },
    {
      "cell_type": "code",
      "source": [
        "autos.pop(3) # Remueve elementos segun el indice\n",
        "print(autos)"
      ],
      "metadata": {
        "colab": {
          "base_uri": "https://localhost:8080/"
        },
        "id": "qUznsRpYKmNR",
        "outputId": "5dbdfa92-1488-4696-eb11-3d71f9f9f0f5"
      },
      "execution_count": 91,
      "outputs": [
        {
          "output_type": "stream",
          "name": "stdout",
          "text": [
            "['Audi', 'Ferrari', 'Bugatti', 'Mercedes', 'Lamborghini', 'Koenigsegg']\n"
          ]
        }
      ]
    },
    {
      "cell_type": "markdown",
      "source": [
        "*"
      ],
      "metadata": {
        "id": "bB83ASZVKn9Q"
      }
    },
    {
      "cell_type": "code",
      "source": [
        "autos_usa=['Chevrolet','Chrysler','Ford','Tesla'] # Lista de autos de EEUU\n",
        "\n",
        "autos_ue=('Peugeot','Renault','Mazda') # Tupla de autos de Europa"
      ],
      "metadata": {
        "id": "5pIJzMipKokF"
      },
      "execution_count": 92,
      "outputs": []
    },
    {
      "cell_type": "code",
      "source": [
        "autos.extend(autos_usa) # Añade elementos provenientes de otra lista\n",
        "print(autos)"
      ],
      "metadata": {
        "colab": {
          "base_uri": "https://localhost:8080/"
        },
        "id": "Rx0cDyVVKpqH",
        "outputId": "cc9eaf5a-7c9f-4416-bf5f-24aa4b7ad4ed"
      },
      "execution_count": 93,
      "outputs": [
        {
          "output_type": "stream",
          "name": "stdout",
          "text": [
            "['Audi', 'Ferrari', 'Bugatti', 'Mercedes', 'Lamborghini', 'Koenigsegg', 'Chevrolet', 'Chrysler', 'Ford', 'Tesla']\n"
          ]
        }
      ]
    },
    {
      "cell_type": "code",
      "source": [
        "autos.extend(autos_ue) # Añade elementos provenientes de una tupla\n",
        "print(autos)"
      ],
      "metadata": {
        "colab": {
          "base_uri": "https://localhost:8080/"
        },
        "id": "nsast7pVKpy-",
        "outputId": "61ed41a2-40c3-4b94-bb2f-67c3884e3b5b"
      },
      "execution_count": 94,
      "outputs": [
        {
          "output_type": "stream",
          "name": "stdout",
          "text": [
            "['Audi', 'Ferrari', 'Bugatti', 'Mercedes', 'Lamborghini', 'Koenigsegg', 'Chevrolet', 'Chrysler', 'Ford', 'Tesla', 'Peugeot', 'Renault', 'Mazda']\n"
          ]
        }
      ]
    },
    {
      "cell_type": "code",
      "source": [
        "autos.sort() # Ordenar una Lista\n",
        "print(autos)"
      ],
      "metadata": {
        "colab": {
          "base_uri": "https://localhost:8080/"
        },
        "id": "67wiV9wxKqnk",
        "outputId": "e3ed978b-8aaa-4459-c9b7-a5466b5844d8"
      },
      "execution_count": 95,
      "outputs": [
        {
          "output_type": "stream",
          "name": "stdout",
          "text": [
            "['Audi', 'Bugatti', 'Chevrolet', 'Chrysler', 'Ferrari', 'Ford', 'Koenigsegg', 'Lamborghini', 'Mazda', 'Mercedes', 'Peugeot', 'Renault', 'Tesla']\n"
          ]
        }
      ]
    },
    {
      "cell_type": "code",
      "source": [
        "autos.reverse() # Revierte los elementos de una lista y actualiza\n",
        "print(autos)"
      ],
      "metadata": {
        "colab": {
          "base_uri": "https://localhost:8080/"
        },
        "id": "EzOiTwvHKsr3",
        "outputId": "2a40c67f-c1fd-48af-9ac2-77aeec3cee02"
      },
      "execution_count": 96,
      "outputs": [
        {
          "output_type": "stream",
          "name": "stdout",
          "text": [
            "['Tesla', 'Renault', 'Peugeot', 'Mercedes', 'Mazda', 'Lamborghini', 'Koenigsegg', 'Ford', 'Ferrari', 'Chrysler', 'Chevrolet', 'Bugatti', 'Audi']\n"
          ]
        }
      ]
    }
  ]
}